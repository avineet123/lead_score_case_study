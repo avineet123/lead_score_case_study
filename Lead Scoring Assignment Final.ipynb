{
 "cells": [
  {
   "cell_type": "markdown",
   "metadata": {},
   "source": [
    "## Importing the relevant packages"
   ]
  },
  {
   "cell_type": "code",
   "execution_count": 845,
   "metadata": {},
   "outputs": [],
   "source": [
    "# Suppressing Warnings\n",
    "import warnings\n",
    "warnings.filterwarnings('ignore')"
   ]
  },
  {
   "cell_type": "code",
   "execution_count": 846,
   "metadata": {},
   "outputs": [],
   "source": [
    "# Importing numpy and pandas package\n",
    "import numpy as np\n",
    "import pandas as pd\n",
    "\n",
    "# Importing matplot and seaborn for visualization\n",
    "import matplotlib.pyplot as plt \n",
    "import seaborn as sns"
   ]
  },
  {
   "cell_type": "markdown",
   "metadata": {},
   "source": [
    "## Importing the data and performing EDA"
   ]
  },
  {
   "cell_type": "code",
   "execution_count": 847,
   "metadata": {},
   "outputs": [
    {
     "data": {
      "text/html": [
       "<div>\n",
       "<style scoped>\n",
       "    .dataframe tbody tr th:only-of-type {\n",
       "        vertical-align: middle;\n",
       "    }\n",
       "\n",
       "    .dataframe tbody tr th {\n",
       "        vertical-align: top;\n",
       "    }\n",
       "\n",
       "    .dataframe thead th {\n",
       "        text-align: right;\n",
       "    }\n",
       "</style>\n",
       "<table border=\"1\" class=\"dataframe\">\n",
       "  <thead>\n",
       "    <tr style=\"text-align: right;\">\n",
       "      <th></th>\n",
       "      <th>Prospect ID</th>\n",
       "      <th>Lead Number</th>\n",
       "      <th>Lead Origin</th>\n",
       "      <th>Lead Source</th>\n",
       "      <th>Do Not Email</th>\n",
       "      <th>Do Not Call</th>\n",
       "      <th>Converted</th>\n",
       "      <th>TotalVisits</th>\n",
       "      <th>Total Time Spent on Website</th>\n",
       "      <th>Page Views Per Visit</th>\n",
       "      <th>...</th>\n",
       "      <th>Get updates on DM Content</th>\n",
       "      <th>Lead Profile</th>\n",
       "      <th>City</th>\n",
       "      <th>Asymmetrique Activity Index</th>\n",
       "      <th>Asymmetrique Profile Index</th>\n",
       "      <th>Asymmetrique Activity Score</th>\n",
       "      <th>Asymmetrique Profile Score</th>\n",
       "      <th>I agree to pay the amount through cheque</th>\n",
       "      <th>A free copy of Mastering The Interview</th>\n",
       "      <th>Last Notable Activity</th>\n",
       "    </tr>\n",
       "  </thead>\n",
       "  <tbody>\n",
       "    <tr>\n",
       "      <th>0</th>\n",
       "      <td>7927b2df-8bba-4d29-b9a2-b6e0beafe620</td>\n",
       "      <td>660737</td>\n",
       "      <td>API</td>\n",
       "      <td>Olark Chat</td>\n",
       "      <td>No</td>\n",
       "      <td>No</td>\n",
       "      <td>0</td>\n",
       "      <td>0.0</td>\n",
       "      <td>0</td>\n",
       "      <td>0.0</td>\n",
       "      <td>...</td>\n",
       "      <td>No</td>\n",
       "      <td>Select</td>\n",
       "      <td>Select</td>\n",
       "      <td>02.Medium</td>\n",
       "      <td>02.Medium</td>\n",
       "      <td>15.0</td>\n",
       "      <td>15.0</td>\n",
       "      <td>No</td>\n",
       "      <td>No</td>\n",
       "      <td>Modified</td>\n",
       "    </tr>\n",
       "    <tr>\n",
       "      <th>1</th>\n",
       "      <td>2a272436-5132-4136-86fa-dcc88c88f482</td>\n",
       "      <td>660728</td>\n",
       "      <td>API</td>\n",
       "      <td>Organic Search</td>\n",
       "      <td>No</td>\n",
       "      <td>No</td>\n",
       "      <td>0</td>\n",
       "      <td>5.0</td>\n",
       "      <td>674</td>\n",
       "      <td>2.5</td>\n",
       "      <td>...</td>\n",
       "      <td>No</td>\n",
       "      <td>Select</td>\n",
       "      <td>Select</td>\n",
       "      <td>02.Medium</td>\n",
       "      <td>02.Medium</td>\n",
       "      <td>15.0</td>\n",
       "      <td>15.0</td>\n",
       "      <td>No</td>\n",
       "      <td>No</td>\n",
       "      <td>Email Opened</td>\n",
       "    </tr>\n",
       "    <tr>\n",
       "      <th>2</th>\n",
       "      <td>8cc8c611-a219-4f35-ad23-fdfd2656bd8a</td>\n",
       "      <td>660727</td>\n",
       "      <td>Landing Page Submission</td>\n",
       "      <td>Direct Traffic</td>\n",
       "      <td>No</td>\n",
       "      <td>No</td>\n",
       "      <td>1</td>\n",
       "      <td>2.0</td>\n",
       "      <td>1532</td>\n",
       "      <td>2.0</td>\n",
       "      <td>...</td>\n",
       "      <td>No</td>\n",
       "      <td>Potential Lead</td>\n",
       "      <td>Mumbai</td>\n",
       "      <td>02.Medium</td>\n",
       "      <td>01.High</td>\n",
       "      <td>14.0</td>\n",
       "      <td>20.0</td>\n",
       "      <td>No</td>\n",
       "      <td>Yes</td>\n",
       "      <td>Email Opened</td>\n",
       "    </tr>\n",
       "    <tr>\n",
       "      <th>3</th>\n",
       "      <td>0cc2df48-7cf4-4e39-9de9-19797f9b38cc</td>\n",
       "      <td>660719</td>\n",
       "      <td>Landing Page Submission</td>\n",
       "      <td>Direct Traffic</td>\n",
       "      <td>No</td>\n",
       "      <td>No</td>\n",
       "      <td>0</td>\n",
       "      <td>1.0</td>\n",
       "      <td>305</td>\n",
       "      <td>1.0</td>\n",
       "      <td>...</td>\n",
       "      <td>No</td>\n",
       "      <td>Select</td>\n",
       "      <td>Mumbai</td>\n",
       "      <td>02.Medium</td>\n",
       "      <td>01.High</td>\n",
       "      <td>13.0</td>\n",
       "      <td>17.0</td>\n",
       "      <td>No</td>\n",
       "      <td>No</td>\n",
       "      <td>Modified</td>\n",
       "    </tr>\n",
       "    <tr>\n",
       "      <th>4</th>\n",
       "      <td>3256f628-e534-4826-9d63-4a8b88782852</td>\n",
       "      <td>660681</td>\n",
       "      <td>Landing Page Submission</td>\n",
       "      <td>Google</td>\n",
       "      <td>No</td>\n",
       "      <td>No</td>\n",
       "      <td>1</td>\n",
       "      <td>2.0</td>\n",
       "      <td>1428</td>\n",
       "      <td>1.0</td>\n",
       "      <td>...</td>\n",
       "      <td>No</td>\n",
       "      <td>Select</td>\n",
       "      <td>Mumbai</td>\n",
       "      <td>02.Medium</td>\n",
       "      <td>01.High</td>\n",
       "      <td>15.0</td>\n",
       "      <td>18.0</td>\n",
       "      <td>No</td>\n",
       "      <td>No</td>\n",
       "      <td>Modified</td>\n",
       "    </tr>\n",
       "  </tbody>\n",
       "</table>\n",
       "<p>5 rows × 37 columns</p>\n",
       "</div>"
      ],
      "text/plain": [
       "                            Prospect ID  Lead Number              Lead Origin  \\\n",
       "0  7927b2df-8bba-4d29-b9a2-b6e0beafe620       660737                      API   \n",
       "1  2a272436-5132-4136-86fa-dcc88c88f482       660728                      API   \n",
       "2  8cc8c611-a219-4f35-ad23-fdfd2656bd8a       660727  Landing Page Submission   \n",
       "3  0cc2df48-7cf4-4e39-9de9-19797f9b38cc       660719  Landing Page Submission   \n",
       "4  3256f628-e534-4826-9d63-4a8b88782852       660681  Landing Page Submission   \n",
       "\n",
       "      Lead Source Do Not Email Do Not Call  Converted  TotalVisits  \\\n",
       "0      Olark Chat           No          No          0          0.0   \n",
       "1  Organic Search           No          No          0          5.0   \n",
       "2  Direct Traffic           No          No          1          2.0   \n",
       "3  Direct Traffic           No          No          0          1.0   \n",
       "4          Google           No          No          1          2.0   \n",
       "\n",
       "   Total Time Spent on Website  Page Views Per Visit  ...  \\\n",
       "0                            0                   0.0  ...   \n",
       "1                          674                   2.5  ...   \n",
       "2                         1532                   2.0  ...   \n",
       "3                          305                   1.0  ...   \n",
       "4                         1428                   1.0  ...   \n",
       "\n",
       "  Get updates on DM Content    Lead Profile    City  \\\n",
       "0                        No          Select  Select   \n",
       "1                        No          Select  Select   \n",
       "2                        No  Potential Lead  Mumbai   \n",
       "3                        No          Select  Mumbai   \n",
       "4                        No          Select  Mumbai   \n",
       "\n",
       "  Asymmetrique Activity Index Asymmetrique Profile Index  \\\n",
       "0                   02.Medium                  02.Medium   \n",
       "1                   02.Medium                  02.Medium   \n",
       "2                   02.Medium                    01.High   \n",
       "3                   02.Medium                    01.High   \n",
       "4                   02.Medium                    01.High   \n",
       "\n",
       "  Asymmetrique Activity Score Asymmetrique Profile Score  \\\n",
       "0                        15.0                       15.0   \n",
       "1                        15.0                       15.0   \n",
       "2                        14.0                       20.0   \n",
       "3                        13.0                       17.0   \n",
       "4                        15.0                       18.0   \n",
       "\n",
       "  I agree to pay the amount through cheque  \\\n",
       "0                                       No   \n",
       "1                                       No   \n",
       "2                                       No   \n",
       "3                                       No   \n",
       "4                                       No   \n",
       "\n",
       "  A free copy of Mastering The Interview Last Notable Activity  \n",
       "0                                     No              Modified  \n",
       "1                                     No          Email Opened  \n",
       "2                                    Yes          Email Opened  \n",
       "3                                     No              Modified  \n",
       "4                                     No              Modified  \n",
       "\n",
       "[5 rows x 37 columns]"
      ]
     },
     "execution_count": 847,
     "metadata": {},
     "output_type": "execute_result"
    }
   ],
   "source": [
    "# Importing the given CSV file, and inspecting the head of the data frame\n",
    "leads = pd.read_csv(\"Leads.csv\")\n",
    "leads.head()"
   ]
  },
  {
   "cell_type": "code",
   "execution_count": 848,
   "metadata": {},
   "outputs": [
    {
     "data": {
      "text/plain": [
       "(9240, 37)"
      ]
     },
     "execution_count": 848,
     "metadata": {},
     "output_type": "execute_result"
    }
   ],
   "source": [
    "# Inspecting the shape of the dataframe\n",
    "leads.shape"
   ]
  },
  {
   "cell_type": "code",
   "execution_count": 849,
   "metadata": {},
   "outputs": [
    {
     "name": "stdout",
     "output_type": "stream",
     "text": [
      "<class 'pandas.core.frame.DataFrame'>\n",
      "RangeIndex: 9240 entries, 0 to 9239\n",
      "Data columns (total 37 columns):\n",
      "Prospect ID                                      9240 non-null object\n",
      "Lead Number                                      9240 non-null int64\n",
      "Lead Origin                                      9240 non-null object\n",
      "Lead Source                                      9204 non-null object\n",
      "Do Not Email                                     9240 non-null object\n",
      "Do Not Call                                      9240 non-null object\n",
      "Converted                                        9240 non-null int64\n",
      "TotalVisits                                      9103 non-null float64\n",
      "Total Time Spent on Website                      9240 non-null int64\n",
      "Page Views Per Visit                             9103 non-null float64\n",
      "Last Activity                                    9137 non-null object\n",
      "Country                                          6779 non-null object\n",
      "Specialization                                   7802 non-null object\n",
      "How did you hear about X Education               7033 non-null object\n",
      "What is your current occupation                  6550 non-null object\n",
      "What matters most to you in choosing a course    6531 non-null object\n",
      "Search                                           9240 non-null object\n",
      "Magazine                                         9240 non-null object\n",
      "Newspaper Article                                9240 non-null object\n",
      "X Education Forums                               9240 non-null object\n",
      "Newspaper                                        9240 non-null object\n",
      "Digital Advertisement                            9240 non-null object\n",
      "Through Recommendations                          9240 non-null object\n",
      "Receive More Updates About Our Courses           9240 non-null object\n",
      "Tags                                             5887 non-null object\n",
      "Lead Quality                                     4473 non-null object\n",
      "Update me on Supply Chain Content                9240 non-null object\n",
      "Get updates on DM Content                        9240 non-null object\n",
      "Lead Profile                                     6531 non-null object\n",
      "City                                             7820 non-null object\n",
      "Asymmetrique Activity Index                      5022 non-null object\n",
      "Asymmetrique Profile Index                       5022 non-null object\n",
      "Asymmetrique Activity Score                      5022 non-null float64\n",
      "Asymmetrique Profile Score                       5022 non-null float64\n",
      "I agree to pay the amount through cheque         9240 non-null object\n",
      "A free copy of Mastering The Interview           9240 non-null object\n",
      "Last Notable Activity                            9240 non-null object\n",
      "dtypes: float64(4), int64(3), object(30)\n",
      "memory usage: 2.6+ MB\n"
     ]
    }
   ],
   "source": [
    "# Inspecting the datatype of all the variables in the dataframe\n",
    "leads.info()"
   ]
  },
  {
   "cell_type": "code",
   "execution_count": 850,
   "metadata": {},
   "outputs": [
    {
     "data": {
      "text/html": [
       "<div>\n",
       "<style scoped>\n",
       "    .dataframe tbody tr th:only-of-type {\n",
       "        vertical-align: middle;\n",
       "    }\n",
       "\n",
       "    .dataframe tbody tr th {\n",
       "        vertical-align: top;\n",
       "    }\n",
       "\n",
       "    .dataframe thead th {\n",
       "        text-align: right;\n",
       "    }\n",
       "</style>\n",
       "<table border=\"1\" class=\"dataframe\">\n",
       "  <thead>\n",
       "    <tr style=\"text-align: right;\">\n",
       "      <th></th>\n",
       "      <th>Lead Number</th>\n",
       "      <th>Converted</th>\n",
       "      <th>TotalVisits</th>\n",
       "      <th>Total Time Spent on Website</th>\n",
       "      <th>Page Views Per Visit</th>\n",
       "      <th>Asymmetrique Activity Score</th>\n",
       "      <th>Asymmetrique Profile Score</th>\n",
       "    </tr>\n",
       "  </thead>\n",
       "  <tbody>\n",
       "    <tr>\n",
       "      <th>count</th>\n",
       "      <td>9240.000000</td>\n",
       "      <td>9240.000000</td>\n",
       "      <td>9103.000000</td>\n",
       "      <td>9240.000000</td>\n",
       "      <td>9103.000000</td>\n",
       "      <td>5022.000000</td>\n",
       "      <td>5022.000000</td>\n",
       "    </tr>\n",
       "    <tr>\n",
       "      <th>mean</th>\n",
       "      <td>617188.435606</td>\n",
       "      <td>0.385390</td>\n",
       "      <td>3.445238</td>\n",
       "      <td>487.698268</td>\n",
       "      <td>2.362820</td>\n",
       "      <td>14.306252</td>\n",
       "      <td>16.344883</td>\n",
       "    </tr>\n",
       "    <tr>\n",
       "      <th>std</th>\n",
       "      <td>23405.995698</td>\n",
       "      <td>0.486714</td>\n",
       "      <td>4.854853</td>\n",
       "      <td>548.021466</td>\n",
       "      <td>2.161418</td>\n",
       "      <td>1.386694</td>\n",
       "      <td>1.811395</td>\n",
       "    </tr>\n",
       "    <tr>\n",
       "      <th>min</th>\n",
       "      <td>579533.000000</td>\n",
       "      <td>0.000000</td>\n",
       "      <td>0.000000</td>\n",
       "      <td>0.000000</td>\n",
       "      <td>0.000000</td>\n",
       "      <td>7.000000</td>\n",
       "      <td>11.000000</td>\n",
       "    </tr>\n",
       "    <tr>\n",
       "      <th>5%</th>\n",
       "      <td>582869.900000</td>\n",
       "      <td>0.000000</td>\n",
       "      <td>0.000000</td>\n",
       "      <td>0.000000</td>\n",
       "      <td>0.000000</td>\n",
       "      <td>12.000000</td>\n",
       "      <td>14.000000</td>\n",
       "    </tr>\n",
       "    <tr>\n",
       "      <th>25%</th>\n",
       "      <td>596484.500000</td>\n",
       "      <td>0.000000</td>\n",
       "      <td>1.000000</td>\n",
       "      <td>12.000000</td>\n",
       "      <td>1.000000</td>\n",
       "      <td>14.000000</td>\n",
       "      <td>15.000000</td>\n",
       "    </tr>\n",
       "    <tr>\n",
       "      <th>50%</th>\n",
       "      <td>615479.000000</td>\n",
       "      <td>0.000000</td>\n",
       "      <td>3.000000</td>\n",
       "      <td>248.000000</td>\n",
       "      <td>2.000000</td>\n",
       "      <td>14.000000</td>\n",
       "      <td>16.000000</td>\n",
       "    </tr>\n",
       "    <tr>\n",
       "      <th>75%</th>\n",
       "      <td>637387.250000</td>\n",
       "      <td>1.000000</td>\n",
       "      <td>5.000000</td>\n",
       "      <td>936.000000</td>\n",
       "      <td>3.000000</td>\n",
       "      <td>15.000000</td>\n",
       "      <td>18.000000</td>\n",
       "    </tr>\n",
       "    <tr>\n",
       "      <th>90%</th>\n",
       "      <td>650506.100000</td>\n",
       "      <td>1.000000</td>\n",
       "      <td>7.000000</td>\n",
       "      <td>1380.000000</td>\n",
       "      <td>5.000000</td>\n",
       "      <td>16.000000</td>\n",
       "      <td>19.000000</td>\n",
       "    </tr>\n",
       "    <tr>\n",
       "      <th>max</th>\n",
       "      <td>660737.000000</td>\n",
       "      <td>1.000000</td>\n",
       "      <td>251.000000</td>\n",
       "      <td>2272.000000</td>\n",
       "      <td>55.000000</td>\n",
       "      <td>18.000000</td>\n",
       "      <td>20.000000</td>\n",
       "    </tr>\n",
       "  </tbody>\n",
       "</table>\n",
       "</div>"
      ],
      "text/plain": [
       "         Lead Number    Converted  TotalVisits  Total Time Spent on Website  \\\n",
       "count    9240.000000  9240.000000  9103.000000                  9240.000000   \n",
       "mean   617188.435606     0.385390     3.445238                   487.698268   \n",
       "std     23405.995698     0.486714     4.854853                   548.021466   \n",
       "min    579533.000000     0.000000     0.000000                     0.000000   \n",
       "5%     582869.900000     0.000000     0.000000                     0.000000   \n",
       "25%    596484.500000     0.000000     1.000000                    12.000000   \n",
       "50%    615479.000000     0.000000     3.000000                   248.000000   \n",
       "75%    637387.250000     1.000000     5.000000                   936.000000   \n",
       "90%    650506.100000     1.000000     7.000000                  1380.000000   \n",
       "max    660737.000000     1.000000   251.000000                  2272.000000   \n",
       "\n",
       "       Page Views Per Visit  Asymmetrique Activity Score  \\\n",
       "count           9103.000000                  5022.000000   \n",
       "mean               2.362820                    14.306252   \n",
       "std                2.161418                     1.386694   \n",
       "min                0.000000                     7.000000   \n",
       "5%                 0.000000                    12.000000   \n",
       "25%                1.000000                    14.000000   \n",
       "50%                2.000000                    14.000000   \n",
       "75%                3.000000                    15.000000   \n",
       "90%                5.000000                    16.000000   \n",
       "max               55.000000                    18.000000   \n",
       "\n",
       "       Asymmetrique Profile Score  \n",
       "count                 5022.000000  \n",
       "mean                    16.344883  \n",
       "std                      1.811395  \n",
       "min                     11.000000  \n",
       "5%                      14.000000  \n",
       "25%                     15.000000  \n",
       "50%                     16.000000  \n",
       "75%                     18.000000  \n",
       "90%                     19.000000  \n",
       "max                     20.000000  "
      ]
     },
     "execution_count": 850,
     "metadata": {},
     "output_type": "execute_result"
    }
   ],
   "source": [
    "# Checking the numeric data\n",
    "leads.describe(percentiles=[.05, .25, .5, .75,.9])"
   ]
  },
  {
   "cell_type": "code",
   "execution_count": 851,
   "metadata": {},
   "outputs": [
    {
     "name": "stdout",
     "output_type": "stream",
     "text": [
      "Duplicates in Prospect ID : False\n",
      "Duplicates in Lead Number : False\n"
     ]
    }
   ],
   "source": [
    "# Inspecting uniqueness in Prospect ID and Lead number\n",
    "for n in leads[['Prospect ID', 'Lead Number']].columns:\n",
    "    print('Duplicates in',n, ':', any(leads[n].duplicated()))"
   ]
  },
  {
   "cell_type": "markdown",
   "metadata": {},
   "source": [
    "### Since both Prospect ID and lead number are unique we can drop any one of them. We will drop Prospect ID and proceed with our analysis"
   ]
  },
  {
   "cell_type": "code",
   "execution_count": 852,
   "metadata": {},
   "outputs": [],
   "source": [
    "leads.drop('Prospect ID', axis = 1, inplace=True)"
   ]
  },
  {
   "cell_type": "code",
   "execution_count": 853,
   "metadata": {},
   "outputs": [
    {
     "name": "stdout",
     "output_type": "stream",
     "text": [
      "\n",
      "\n",
      "Analysis for variable - Lead Origin :\n",
      "Landing Page Submission    4886\n",
      "API                        3580\n",
      "Lead Add Form               718\n",
      "Lead Import                  55\n",
      "Quick Add Form                1\n",
      "Name: Lead Origin, dtype: int64\n",
      "\n",
      "\n",
      "Analysis for variable - Lead Source :\n",
      "Google               2868\n",
      "Direct Traffic       2543\n",
      "Olark Chat           1755\n",
      "Organic Search       1154\n",
      "Reference             534\n",
      "Welingak Website      142\n",
      "Referral Sites        125\n",
      "Facebook               55\n",
      "bing                    6\n",
      "google                  5\n",
      "Click2call              4\n",
      "Press_Release           2\n",
      "Live Chat               2\n",
      "Social Media            2\n",
      "WeLearn                 1\n",
      "youtubechannel          1\n",
      "welearnblog_Home        1\n",
      "blog                    1\n",
      "NC_EDM                  1\n",
      "testone                 1\n",
      "Pay per Click Ads       1\n",
      "Name: Lead Source, dtype: int64\n",
      "\n",
      "\n",
      "Analysis for variable - Do Not Email :\n",
      "No     8506\n",
      "Yes     734\n",
      "Name: Do Not Email, dtype: int64\n",
      "\n",
      "\n",
      "Analysis for variable - Do Not Call :\n",
      "No     9238\n",
      "Yes       2\n",
      "Name: Do Not Call, dtype: int64\n",
      "\n",
      "\n",
      "Analysis for variable - Last Activity :\n",
      "Email Opened                    3437\n",
      "SMS Sent                        2745\n",
      "Olark Chat Conversation          973\n",
      "Page Visited on Website          640\n",
      "Converted to Lead                428\n",
      "Email Bounced                    326\n",
      "Email Link Clicked               267\n",
      "Form Submitted on Website        116\n",
      "Unreachable                       93\n",
      "Unsubscribed                      61\n",
      "Had a Phone Conversation          30\n",
      "Approached upfront                 9\n",
      "View in browser link Clicked       6\n",
      "Email Marked Spam                  2\n",
      "Email Received                     2\n",
      "Visited Booth in Tradeshow         1\n",
      "Resubscribed to emails             1\n",
      "Name: Last Activity, dtype: int64\n",
      "\n",
      "\n",
      "Analysis for variable - Country :\n",
      "India                   6492\n",
      "United States             69\n",
      "United Arab Emirates      53\n",
      "Singapore                 24\n",
      "Saudi Arabia              21\n",
      "United Kingdom            15\n",
      "Australia                 13\n",
      "Qatar                     10\n",
      "Bahrain                    7\n",
      "Hong Kong                  7\n",
      "France                     6\n",
      "Oman                       6\n",
      "unknown                    5\n",
      "South Africa               4\n",
      "Nigeria                    4\n",
      "Kuwait                     4\n",
      "Canada                     4\n",
      "Germany                    4\n",
      "Sweden                     3\n",
      "Asia/Pacific Region        2\n",
      "China                      2\n",
      "Belgium                    2\n",
      "Ghana                      2\n",
      "Bangladesh                 2\n",
      "Italy                      2\n",
      "Netherlands                2\n",
      "Uganda                     2\n",
      "Philippines                2\n",
      "Russia                     1\n",
      "Vietnam                    1\n",
      "Tanzania                   1\n",
      "Denmark                    1\n",
      "Liberia                    1\n",
      "Sri Lanka                  1\n",
      "Indonesia                  1\n",
      "Kenya                      1\n",
      "Switzerland                1\n",
      "Malaysia                   1\n",
      "Name: Country, dtype: int64\n",
      "\n",
      "\n",
      "Analysis for variable - Specialization :\n",
      "Select                               1942\n",
      "Finance Management                    976\n",
      "Human Resource Management             848\n",
      "Marketing Management                  838\n",
      "Operations Management                 503\n",
      "Business Administration               403\n",
      "IT Projects Management                366\n",
      "Supply Chain Management               349\n",
      "Banking, Investment And Insurance     338\n",
      "Media and Advertising                 203\n",
      "Travel and Tourism                    203\n",
      "International Business                178\n",
      "Healthcare Management                 159\n",
      "Hospitality Management                114\n",
      "E-COMMERCE                            112\n",
      "Retail Management                     100\n",
      "Rural and Agribusiness                 73\n",
      "E-Business                             57\n",
      "Services Excellence                    40\n",
      "Name: Specialization, dtype: int64\n",
      "\n",
      "\n",
      "Analysis for variable - How did you hear about X Education :\n",
      "Select                   5043\n",
      "Online Search             808\n",
      "Word Of Mouth             348\n",
      "Student of SomeSchool     310\n",
      "Other                     186\n",
      "Multiple Sources          152\n",
      "Advertisements             70\n",
      "Social Media               67\n",
      "Email                      26\n",
      "SMS                        23\n",
      "Name: How did you hear about X Education, dtype: int64\n",
      "\n",
      "\n",
      "Analysis for variable - What is your current occupation :\n",
      "Unemployed              5600\n",
      "Working Professional     706\n",
      "Student                  210\n",
      "Other                     16\n",
      "Housewife                 10\n",
      "Businessman                8\n",
      "Name: What is your current occupation, dtype: int64\n",
      "\n",
      "\n",
      "Analysis for variable - What matters most to you in choosing a course :\n",
      "Better Career Prospects      6528\n",
      "Flexibility & Convenience       2\n",
      "Other                           1\n",
      "Name: What matters most to you in choosing a course, dtype: int64\n",
      "\n",
      "\n",
      "Analysis for variable - Search :\n",
      "No     9226\n",
      "Yes      14\n",
      "Name: Search, dtype: int64\n",
      "\n",
      "\n",
      "Analysis for variable - Magazine :\n",
      "No    9240\n",
      "Name: Magazine, dtype: int64\n",
      "\n",
      "\n",
      "Analysis for variable - Newspaper Article :\n",
      "No     9238\n",
      "Yes       2\n",
      "Name: Newspaper Article, dtype: int64\n",
      "\n",
      "\n",
      "Analysis for variable - X Education Forums :\n",
      "No     9239\n",
      "Yes       1\n",
      "Name: X Education Forums, dtype: int64\n",
      "\n",
      "\n",
      "Analysis for variable - Newspaper :\n",
      "No     9239\n",
      "Yes       1\n",
      "Name: Newspaper, dtype: int64\n",
      "\n",
      "\n",
      "Analysis for variable - Digital Advertisement :\n",
      "No     9236\n",
      "Yes       4\n",
      "Name: Digital Advertisement, dtype: int64\n",
      "\n",
      "\n",
      "Analysis for variable - Through Recommendations :\n",
      "No     9233\n",
      "Yes       7\n",
      "Name: Through Recommendations, dtype: int64\n",
      "\n",
      "\n",
      "Analysis for variable - Receive More Updates About Our Courses :\n",
      "No    9240\n",
      "Name: Receive More Updates About Our Courses, dtype: int64\n",
      "\n",
      "\n",
      "Analysis for variable - Tags :\n",
      "Will revert after reading the email                  2072\n",
      "Ringing                                              1203\n",
      "Interested in other courses                           513\n",
      "Already a student                                     465\n",
      "Closed by Horizzon                                    358\n",
      "switched off                                          240\n",
      "Busy                                                  186\n",
      "Lost to EINS                                          175\n",
      "Not doing further education                           145\n",
      "Interested  in full time MBA                          117\n",
      "Graduation in progress                                111\n",
      "invalid number                                         83\n",
      "Diploma holder (Not Eligible)                          63\n",
      "wrong number given                                     47\n",
      "opp hangup                                             33\n",
      "number not provided                                    27\n",
      "in touch with EINS                                     12\n",
      "Lost to Others                                          7\n",
      "Want to take admission but has financial problems       6\n",
      "Still Thinking                                          6\n",
      "Interested in Next batch                                5\n",
      "In confusion whether part time or DLP                   5\n",
      "Lateral student                                         3\n",
      "University not recognized                               2\n",
      "Shall take in the next coming month                     2\n",
      "Recognition issue (DEC approval)                        1\n",
      "Name: Tags, dtype: int64\n",
      "\n",
      "\n",
      "Analysis for variable - Lead Quality :\n",
      "Might be             1560\n",
      "Not Sure             1092\n",
      "High in Relevance     637\n",
      "Worst                 601\n",
      "Low in Relevance      583\n",
      "Name: Lead Quality, dtype: int64\n",
      "\n",
      "\n",
      "Analysis for variable - Update me on Supply Chain Content :\n",
      "No    9240\n",
      "Name: Update me on Supply Chain Content, dtype: int64\n",
      "\n",
      "\n",
      "Analysis for variable - Get updates on DM Content :\n",
      "No    9240\n",
      "Name: Get updates on DM Content, dtype: int64\n",
      "\n",
      "\n",
      "Analysis for variable - Lead Profile :\n",
      "Select                         4146\n",
      "Potential Lead                 1613\n",
      "Other Leads                     487\n",
      "Student of SomeSchool           241\n",
      "Lateral Student                  24\n",
      "Dual Specialization Student      20\n",
      "Name: Lead Profile, dtype: int64\n",
      "\n",
      "\n",
      "Analysis for variable - City :\n",
      "Mumbai                         3222\n",
      "Select                         2249\n",
      "Thane & Outskirts               752\n",
      "Other Cities                    686\n",
      "Other Cities of Maharashtra     457\n",
      "Other Metro Cities              380\n",
      "Tier II Cities                   74\n",
      "Name: City, dtype: int64\n",
      "\n",
      "\n",
      "Analysis for variable - Asymmetrique Activity Index :\n",
      "02.Medium    3839\n",
      "01.High       821\n",
      "03.Low        362\n",
      "Name: Asymmetrique Activity Index, dtype: int64\n",
      "\n",
      "\n",
      "Analysis for variable - Asymmetrique Profile Index :\n",
      "02.Medium    2788\n",
      "01.High      2203\n",
      "03.Low         31\n",
      "Name: Asymmetrique Profile Index, dtype: int64\n",
      "\n",
      "\n",
      "Analysis for variable - I agree to pay the amount through cheque :\n",
      "No    9240\n",
      "Name: I agree to pay the amount through cheque, dtype: int64\n",
      "\n",
      "\n",
      "Analysis for variable - A free copy of Mastering The Interview :\n",
      "No     6352\n",
      "Yes    2888\n",
      "Name: A free copy of Mastering The Interview, dtype: int64\n",
      "\n",
      "\n",
      "Analysis for variable - Last Notable Activity :\n",
      "Modified                        3407\n",
      "Email Opened                    2827\n",
      "SMS Sent                        2172\n",
      "Page Visited on Website          318\n",
      "Olark Chat Conversation          183\n",
      "Email Link Clicked               173\n",
      "Email Bounced                     60\n",
      "Unsubscribed                      47\n",
      "Unreachable                       32\n",
      "Had a Phone Conversation          14\n",
      "Email Marked Spam                  2\n",
      "Form Submitted on Website          1\n",
      "Resubscribed to emails             1\n",
      "View in browser link Clicked       1\n",
      "Approached upfront                 1\n",
      "Email Received                     1\n",
      "Name: Last Notable Activity, dtype: int64\n"
     ]
    }
   ],
   "source": [
    "## Analysing each variable\n",
    "for n in leads.select_dtypes(exclude= ['int64', 'float64']):\n",
    "    print('\\n\\nAnalysis for variable -', n, ':')\n",
    "    print(leads[n].value_counts())"
   ]
  },
  {
   "cell_type": "markdown",
   "metadata": {},
   "source": [
    "### From the above we can note that:\n",
    "    a)The following variables have only single value\n",
    "        1. 'I agree to pay the amount through cheque'\n",
    "        2. 'Magazine'\n",
    "        3. 'Receive More Updates About Our Courses'\n",
    "        4. 'Get updates on DM Content'\n",
    "        5. 'Update me on Supply Chain Content'\n",
    "    b) The following columns contain 'Select' value\n",
    "        1. 'Lead Profile'\n",
    "        2. 'How did you hear about X Education'\n",
    "        3. 'Specialization'\n",
    "        4. 'City'"
   ]
  },
  {
   "cell_type": "code",
   "execution_count": 854,
   "metadata": {},
   "outputs": [],
   "source": [
    "# Dropping the above columns containing single values\n",
    "leads.drop(['I agree to pay the amount through cheque',\n",
    "            'Magazine',\n",
    "            'Receive More Updates About Our Courses',\n",
    "            'Get updates on DM Content',\n",
    "            'Update me on Supply Chain Content'], axis = 1, inplace = True )"
   ]
  },
  {
   "cell_type": "code",
   "execution_count": 855,
   "metadata": {},
   "outputs": [],
   "source": [
    "# Replacing 'Select' values with null values from the above mentioned columns\n",
    "leads[['Lead Profile' , 'How did you hear about X Education',\n",
    "        'Specialization', 'City']] = leads[['Lead Profile' , 'How did you hear about X Education',\n",
    "                                            'Specialization', 'City']].replace('Select', np.nan)"
   ]
  },
  {
   "cell_type": "code",
   "execution_count": 856,
   "metadata": {},
   "outputs": [
    {
     "data": {
      "text/plain": [
       "(9240, 31)"
      ]
     },
     "execution_count": 856,
     "metadata": {},
     "output_type": "execute_result"
    }
   ],
   "source": [
    "# Inspecting the shape\n",
    "leads.shape"
   ]
  },
  {
   "cell_type": "code",
   "execution_count": 857,
   "metadata": {},
   "outputs": [
    {
     "data": {
      "text/plain": [
       "How did you hear about X Education               78.46\n",
       "Lead Profile                                     74.19\n",
       "Lead Quality                                     51.59\n",
       "Asymmetrique Profile Score                       45.65\n",
       "Asymmetrique Activity Score                      45.65\n",
       "Asymmetrique Profile Index                       45.65\n",
       "Asymmetrique Activity Index                      45.65\n",
       "City                                             39.71\n",
       "Specialization                                   36.58\n",
       "Tags                                             36.29\n",
       "What matters most to you in choosing a course    29.32\n",
       "What is your current occupation                  29.11\n",
       "Country                                          26.63\n",
       "Page Views Per Visit                              1.48\n",
       "TotalVisits                                       1.48\n",
       "Last Activity                                     1.11\n",
       "Lead Source                                       0.39\n",
       "Converted                                         0.00\n",
       "Do Not Call                                       0.00\n",
       "Do Not Email                                      0.00\n",
       "Total Time Spent on Website                       0.00\n",
       "Lead Origin                                       0.00\n",
       "Last Notable Activity                             0.00\n",
       "Search                                            0.00\n",
       "A free copy of Mastering The Interview            0.00\n",
       "Newspaper Article                                 0.00\n",
       "X Education Forums                                0.00\n",
       "Newspaper                                         0.00\n",
       "Digital Advertisement                             0.00\n",
       "Through Recommendations                           0.00\n",
       "Lead Number                                       0.00\n",
       "dtype: float64"
      ]
     },
     "execution_count": 857,
     "metadata": {},
     "output_type": "execute_result"
    }
   ],
   "source": [
    "# Inspecting null values in the data frame\n",
    "round((leads.isnull().sum()/len(leads))*100,2).sort_values(ascending = False)"
   ]
  },
  {
   "cell_type": "code",
   "execution_count": 858,
   "metadata": {},
   "outputs": [
    {
     "data": {
      "text/html": [
       "<div>\n",
       "<style scoped>\n",
       "    .dataframe tbody tr th:only-of-type {\n",
       "        vertical-align: middle;\n",
       "    }\n",
       "\n",
       "    .dataframe tbody tr th {\n",
       "        vertical-align: top;\n",
       "    }\n",
       "\n",
       "    .dataframe thead th {\n",
       "        text-align: right;\n",
       "    }\n",
       "</style>\n",
       "<table border=\"1\" class=\"dataframe\">\n",
       "  <thead>\n",
       "    <tr style=\"text-align: right;\">\n",
       "      <th></th>\n",
       "      <th>Country</th>\n",
       "      <th>City</th>\n",
       "    </tr>\n",
       "  </thead>\n",
       "  <tbody>\n",
       "    <tr>\n",
       "      <th>14</th>\n",
       "      <td>Russia</td>\n",
       "      <td>NaN</td>\n",
       "    </tr>\n",
       "    <tr>\n",
       "      <th>87</th>\n",
       "      <td>Kuwait</td>\n",
       "      <td>Mumbai</td>\n",
       "    </tr>\n",
       "    <tr>\n",
       "      <th>103</th>\n",
       "      <td>Oman</td>\n",
       "      <td>Mumbai</td>\n",
       "    </tr>\n",
       "    <tr>\n",
       "      <th>207</th>\n",
       "      <td>United Arab Emirates</td>\n",
       "      <td>NaN</td>\n",
       "    </tr>\n",
       "    <tr>\n",
       "      <th>243</th>\n",
       "      <td>United States</td>\n",
       "      <td>Mumbai</td>\n",
       "    </tr>\n",
       "  </tbody>\n",
       "</table>\n",
       "</div>"
      ],
      "text/plain": [
       "                  Country    City\n",
       "14                 Russia     NaN\n",
       "87                 Kuwait  Mumbai\n",
       "103                  Oman  Mumbai\n",
       "207  United Arab Emirates     NaN\n",
       "243         United States  Mumbai"
      ]
     },
     "execution_count": 858,
     "metadata": {},
     "output_type": "execute_result"
    }
   ],
   "source": [
    "# Inspecting City Vs Country\n",
    "leads[(leads['Country'] != 'India') & ~(leads['Country'].isnull())][['Country', 'City']].head()"
   ]
  },
  {
   "cell_type": "markdown",
   "metadata": {},
   "source": [
    "From the above it can be noted that the columns country (of Lead) and city (of Lead) are not in sync as even for countries outside India the City names appearing are of India. Hence both should be dropped."
   ]
  },
  {
   "cell_type": "code",
   "execution_count": 859,
   "metadata": {},
   "outputs": [],
   "source": [
    "# Dropping variables which contain more than 30% null values as these cannot be imputed\n",
    "leads.drop(['How did you hear about X Education', \n",
    "            'Lead Profile', 'Lead Quality',\n",
    "            'Asymmetrique Profile Score',\n",
    "            'Asymmetrique Activity Score',\n",
    "            'Asymmetrique Profile Index',\n",
    "            'Asymmetrique Activity Index',\n",
    "            'City', 'Country',\n",
    "            'Specialization',\n",
    "            'Tags'], axis = 1, inplace = True)"
   ]
  },
  {
   "cell_type": "code",
   "execution_count": 860,
   "metadata": {},
   "outputs": [
    {
     "data": {
      "text/plain": [
       "(9240, 20)"
      ]
     },
     "execution_count": 860,
     "metadata": {},
     "output_type": "execute_result"
    }
   ],
   "source": [
    "# Inspecting the shape\n",
    "leads.shape"
   ]
  },
  {
   "cell_type": "code",
   "execution_count": 861,
   "metadata": {},
   "outputs": [
    {
     "name": "stdout",
     "output_type": "stream",
     "text": [
      "Variation in Lead Origin : \n",
      "Landing Page Submission    52.88\n",
      "API                        38.74\n",
      "Lead Add Form               7.77\n",
      "Lead Import                 0.60\n",
      "Quick Add Form              0.01\n",
      "Name: Lead Origin, dtype: float64 \n",
      "\n",
      "Variation in Lead Source : \n",
      "Google               31.04\n",
      "Direct Traffic       27.52\n",
      "Olark Chat           18.99\n",
      "Organic Search       12.49\n",
      "Reference             5.78\n",
      "Welingak Website      1.54\n",
      "Referral Sites        1.35\n",
      "Facebook              0.60\n",
      "bing                  0.06\n",
      "google                0.05\n",
      "Click2call            0.04\n",
      "Press_Release         0.02\n",
      "Live Chat             0.02\n",
      "Social Media          0.02\n",
      "WeLearn               0.01\n",
      "youtubechannel        0.01\n",
      "welearnblog_Home      0.01\n",
      "blog                  0.01\n",
      "NC_EDM                0.01\n",
      "testone               0.01\n",
      "Pay per Click Ads     0.01\n",
      "Name: Lead Source, dtype: float64 \n",
      "\n",
      "Variation in Do Not Email : \n",
      "No     92.06\n",
      "Yes     7.94\n",
      "Name: Do Not Email, dtype: float64 \n",
      "\n",
      "Variation in Do Not Call : \n",
      "No     99.98\n",
      "Yes     0.02\n",
      "Name: Do Not Call, dtype: float64 \n",
      "\n",
      "Variation in Last Activity : \n",
      "Email Opened                    37.20\n",
      "SMS Sent                        29.71\n",
      "Olark Chat Conversation         10.53\n",
      "Page Visited on Website          6.93\n",
      "Converted to Lead                4.63\n",
      "Email Bounced                    3.53\n",
      "Email Link Clicked               2.89\n",
      "Form Submitted on Website        1.26\n",
      "Unreachable                      1.01\n",
      "Unsubscribed                     0.66\n",
      "Had a Phone Conversation         0.32\n",
      "Approached upfront               0.10\n",
      "View in browser link Clicked     0.06\n",
      "Email Marked Spam                0.02\n",
      "Email Received                   0.02\n",
      "Visited Booth in Tradeshow       0.01\n",
      "Resubscribed to emails           0.01\n",
      "Name: Last Activity, dtype: float64 \n",
      "\n",
      "Variation in What is your current occupation : \n",
      "Unemployed              60.61\n",
      "Working Professional     7.64\n",
      "Student                  2.27\n",
      "Other                    0.17\n",
      "Housewife                0.11\n",
      "Businessman              0.09\n",
      "Name: What is your current occupation, dtype: float64 \n",
      "\n",
      "Variation in What matters most to you in choosing a course : \n",
      "Better Career Prospects      70.65\n",
      "Flexibility & Convenience     0.02\n",
      "Other                         0.01\n",
      "Name: What matters most to you in choosing a course, dtype: float64 \n",
      "\n",
      "Variation in Search : \n",
      "No     99.85\n",
      "Yes     0.15\n",
      "Name: Search, dtype: float64 \n",
      "\n",
      "Variation in Newspaper Article : \n",
      "No     99.98\n",
      "Yes     0.02\n",
      "Name: Newspaper Article, dtype: float64 \n",
      "\n",
      "Variation in X Education Forums : \n",
      "No     99.99\n",
      "Yes     0.01\n",
      "Name: X Education Forums, dtype: float64 \n",
      "\n",
      "Variation in Newspaper : \n",
      "No     99.99\n",
      "Yes     0.01\n",
      "Name: Newspaper, dtype: float64 \n",
      "\n",
      "Variation in Digital Advertisement : \n",
      "No     99.96\n",
      "Yes     0.04\n",
      "Name: Digital Advertisement, dtype: float64 \n",
      "\n",
      "Variation in Through Recommendations : \n",
      "No     99.92\n",
      "Yes     0.08\n",
      "Name: Through Recommendations, dtype: float64 \n",
      "\n",
      "Variation in A free copy of Mastering The Interview : \n",
      "No     68.74\n",
      "Yes    31.26\n",
      "Name: A free copy of Mastering The Interview, dtype: float64 \n",
      "\n",
      "Variation in Last Notable Activity : \n",
      "Modified                        36.87\n",
      "Email Opened                    30.60\n",
      "SMS Sent                        23.51\n",
      "Page Visited on Website          3.44\n",
      "Olark Chat Conversation          1.98\n",
      "Email Link Clicked               1.87\n",
      "Email Bounced                    0.65\n",
      "Unsubscribed                     0.51\n",
      "Unreachable                      0.35\n",
      "Had a Phone Conversation         0.15\n",
      "Email Marked Spam                0.02\n",
      "Form Submitted on Website        0.01\n",
      "Resubscribed to emails           0.01\n",
      "View in browser link Clicked     0.01\n",
      "Approached upfront               0.01\n",
      "Email Received                   0.01\n",
      "Name: Last Notable Activity, dtype: float64 \n",
      "\n"
     ]
    }
   ],
   "source": [
    "# Inspecting the variations in the variables with dtype object\n",
    "for n in leads.select_dtypes(exclude = ['int64', 'float64']).columns:\n",
    "    print('Variation in',n,': ')\n",
    "    print(round((leads[n].value_counts()/len(leads))*100,2),'\\n')"
   ]
  },
  {
   "cell_type": "markdown",
   "metadata": {},
   "source": [
    "## Dropping the following variables with minimum variation\n",
    "    1. 'Do Not Email'\n",
    "    2. 'Do Not Call'\n",
    "    3. 'Search'\n",
    "    4. 'Newspaper Article'\n",
    "    5. 'X Education Forums'\n",
    "    6. 'Newspaper'\n",
    "    7. 'Digital Advertisement'\n",
    "    8. 'Through Recommendations'"
   ]
  },
  {
   "cell_type": "code",
   "execution_count": 862,
   "metadata": {},
   "outputs": [],
   "source": [
    "# Dropping variables with minimum variation\n",
    "leads.drop(['Do Not Email',\n",
    "            'Do Not Call',\n",
    "            'Search',\n",
    "            'Newspaper Article',\n",
    "            'X Education Forums',\n",
    "            'Newspaper',\n",
    "            'Digital Advertisement',\n",
    "            'Through Recommendations'], axis = 1, inplace = True)"
   ]
  },
  {
   "cell_type": "code",
   "execution_count": 863,
   "metadata": {},
   "outputs": [
    {
     "data": {
      "text/plain": [
       "(9240, 12)"
      ]
     },
     "execution_count": 863,
     "metadata": {},
     "output_type": "execute_result"
    }
   ],
   "source": [
    "# Inspecting the shape\n",
    "leads.shape"
   ]
  },
  {
   "cell_type": "code",
   "execution_count": 864,
   "metadata": {},
   "outputs": [
    {
     "data": {
      "text/plain": [
       "What matters most to you in choosing a course    29.32\n",
       "What is your current occupation                  29.11\n",
       "Page Views Per Visit                              1.48\n",
       "TotalVisits                                       1.48\n",
       "Last Activity                                     1.11\n",
       "Lead Source                                       0.39\n",
       "Last Notable Activity                             0.00\n",
       "A free copy of Mastering The Interview            0.00\n",
       "Total Time Spent on Website                       0.00\n",
       "Converted                                         0.00\n",
       "Lead Origin                                       0.00\n",
       "Lead Number                                       0.00\n",
       "dtype: float64"
      ]
     },
     "execution_count": 864,
     "metadata": {},
     "output_type": "execute_result"
    }
   ],
   "source": [
    "# Inspecting null values in the data frame\n",
    "round((leads.isnull().sum()/len(leads))*100,2).sort_values(ascending = False)"
   ]
  },
  {
   "cell_type": "markdown",
   "metadata": {},
   "source": [
    "## Performing outlier treatment"
   ]
  },
  {
   "cell_type": "markdown",
   "metadata": {},
   "source": [
    "#### Eliminating data points lying above and below the 1.5 times Inter Quartile Range (IQR) of respective variable"
   ]
  },
  {
   "cell_type": "code",
   "execution_count": 865,
   "metadata": {},
   "outputs": [
    {
     "data": {
      "image/png": "[encoded data removed]",
      "text/plain": [
       "<Figure size 504x360 with 1 Axes>"
      ]
     },
     "metadata": {},
     "output_type": "display_data"
    }
   ],
   "source": [
    "# Visualizing the spread before outlier treatment\n",
    "sns.set(style = 'whitegrid')\n",
    "plt.figure(figsize=(7,5))\n",
    "sns.boxplot(y = 'TotalVisits', data = leads)\n",
    "plt.title('Visualizing the spread of TotalVisits\\nbefore outlier treatment')\n",
    "plt.show()"
   ]
  },
  {
   "cell_type": "code",
   "execution_count": 866,
   "metadata": {},
   "outputs": [],
   "source": [
    "# Performing outlier treatment on 'TotalVisits'\n",
    "Q1_tv = leads['TotalVisits'].quantile(0.25)\n",
    "Q3_tv = leads['TotalVisits'].quantile(0.75)\n",
    "\n",
    "IQR_tv = Q3_tv - Q1_tv\n",
    "leads_1 = leads[(leads['TotalVisits'] >= Q1_tv - 1.5*IQR_tv) & (leads['TotalVisits'] <= Q3_tv + 1.5*IQR_tv)]"
   ]
  },
  {
   "cell_type": "code",
   "execution_count": 867,
   "metadata": {},
   "outputs": [
    {
     "data": {
      "text/plain": [
       "(8836, 12)"
      ]
     },
     "execution_count": 867,
     "metadata": {},
     "output_type": "execute_result"
    }
   ],
   "source": [
    "# Inspecting the shape\n",
    "leads_1.shape"
   ]
  },
  {
   "cell_type": "code",
   "execution_count": 868,
   "metadata": {},
   "outputs": [
    {
     "data": {
      "image/png": "[encoded data removed]",
      "text/plain": [
       "<Figure size 504x360 with 1 Axes>"
      ]
     },
     "metadata": {},
     "output_type": "display_data"
    }
   ],
   "source": [
    "# Visualizing the spread after outlier treatment\n",
    "plt.figure(figsize=(7,5))\n",
    "sns.boxplot(y = 'TotalVisits', data = leads_1)\n",
    "plt.title('Visualizing the spread of TotalVisits\\nafter outlier treatment')\n",
    "plt.show()"
   ]
  },
  {
   "cell_type": "code",
   "execution_count": 869,
   "metadata": {},
   "outputs": [
    {
     "data": {
      "image/png": "[encoded data removed]",
      "text/plain": [
       "<Figure size 504x360 with 1 Axes>"
      ]
     },
     "metadata": {},
     "output_type": "display_data"
    }
   ],
   "source": [
    "# Visulaizing the spread before outlier treatment\n",
    "plt.figure(figsize=(7,5))\n",
    "plt.title('Visualizing the spread of Total Time Spent on Website \\nbefore outlier treatment')\n",
    "sns.boxplot(y = 'Total Time Spent on Website', data = leads_1)\n",
    "plt.show()"
   ]
  },
  {
   "cell_type": "code",
   "execution_count": 870,
   "metadata": {},
   "outputs": [],
   "source": [
    "# Performing outlier treatment\n",
    "Q1_tw = leads_1['Total Time Spent on Website'].quantile(0.25)\n",
    "Q3_tw = leads_1['Total Time Spent on Website'].quantile(0.75)\n",
    "\n",
    "IQR_tw = Q3_tw - Q1_tw\n",
    "leads_1 = leads_1[(leads_1['Total Time Spent on Website'] >= Q1_tw - 1.5*IQR_tw) & (leads_1['Total Time Spent on Website'] <= Q3_tw + 1.5*IQR_tw)]"
   ]
  },
  {
   "cell_type": "code",
   "execution_count": 871,
   "metadata": {},
   "outputs": [
    {
     "data": {
      "text/plain": [
       "(8835, 12)"
      ]
     },
     "execution_count": 871,
     "metadata": {},
     "output_type": "execute_result"
    }
   ],
   "source": [
    "# Inspecting the shape\n",
    "leads_1.shape"
   ]
  },
  {
   "cell_type": "code",
   "execution_count": 872,
   "metadata": {},
   "outputs": [
    {
     "data": {
      "image/png": "[encoded data removed]",
      "text/plain": [
       "<Figure size 504x360 with 1 Axes>"
      ]
     },
     "metadata": {},
     "output_type": "display_data"
    }
   ],
   "source": [
    "# Visulaizing the spread after outlier treatment\n",
    "plt.figure(figsize=(7,5))\n",
    "plt.title('Visualizing the spread of Total Time Spent on Website \\nafter outlier treatment')\n",
    "sns.boxplot(y = 'Total Time Spent on Website', data = leads_1)\n",
    "plt.show()"
   ]
  },
  {
   "cell_type": "code",
   "execution_count": 873,
   "metadata": {},
   "outputs": [
    {
     "data": {
      "image/png": "[encoded data removed]",
      "text/plain": [
       "<Figure size 504x360 with 1 Axes>"
      ]
     },
     "metadata": {},
     "output_type": "display_data"
    }
   ],
   "source": [
    "# Visulaizing the spread before outlier treatment\n",
    "plt.figure(figsize=(7,5))\n",
    "plt.title('Visualizing the spread of Page Views Per Visit \\nbefore outlier treatment')\n",
    "sns.boxplot(y = 'Page Views Per Visit', data = leads_1)\n",
    "plt.show()"
   ]
  },
  {
   "cell_type": "code",
   "execution_count": 874,
   "metadata": {},
   "outputs": [],
   "source": [
    "Q1_pv = leads_1['Page Views Per Visit'].quantile(0.25)\n",
    "Q3_pv = leads_1['Page Views Per Visit'].quantile(0.75)\n",
    "\n",
    "IQR_pv = Q3_pv - Q1_pv\n",
    "leads_1 = leads_1[(leads_1['Page Views Per Visit'] >= Q1_pv - 1.5*IQR_pv) & (leads_1['Page Views Per Visit'] <= Q3_pv + 1.5*IQR_pv)]"
   ]
  },
  {
   "cell_type": "code",
   "execution_count": 875,
   "metadata": {},
   "outputs": [
    {
     "data": {
      "text/plain": [
       "(8541, 12)"
      ]
     },
     "execution_count": 875,
     "metadata": {},
     "output_type": "execute_result"
    }
   ],
   "source": [
    "# Inspecting the shape\n",
    "leads_1.shape"
   ]
  },
  {
   "cell_type": "code",
   "execution_count": 876,
   "metadata": {},
   "outputs": [
    {
     "data": {
      "image/png": "[encoded data removed]",
      "text/plain": [
       "<Figure size 504x360 with 1 Axes>"
      ]
     },
     "metadata": {},
     "output_type": "display_data"
    }
   ],
   "source": [
    "# Visulaizing the spread after outlier treatment\n",
    "plt.figure(figsize=(7,5))\n",
    "plt.title('Visualizing the spread of Total Time Spent on Website \\nafter outlier treatment')\n",
    "sns.boxplot(y = 'Page Views Per Visit', data = leads_1)\n",
    "plt.show()"
   ]
  },
  {
   "cell_type": "code",
   "execution_count": 877,
   "metadata": {},
   "outputs": [
    {
     "data": {
      "text/plain": [
       "What matters most to you in choosing a course    30.04\n",
       "What is your current occupation                  29.83\n",
       "Lead Source                                       0.34\n",
       "Last Notable Activity                             0.00\n",
       "A free copy of Mastering The Interview            0.00\n",
       "Last Activity                                     0.00\n",
       "Page Views Per Visit                              0.00\n",
       "Total Time Spent on Website                       0.00\n",
       "TotalVisits                                       0.00\n",
       "Converted                                         0.00\n",
       "Lead Origin                                       0.00\n",
       "Lead Number                                       0.00\n",
       "dtype: float64"
      ]
     },
     "execution_count": 877,
     "metadata": {},
     "output_type": "execute_result"
    }
   ],
   "source": [
    "# Inspecting null values in the data frame\n",
    "round((leads_1.isnull().sum()/len(leads_1))*100,2).sort_values(ascending = False)"
   ]
  },
  {
   "cell_type": "code",
   "execution_count": 878,
   "metadata": {},
   "outputs": [
    {
     "data": {
      "text/plain": [
       "(8541, 12)"
      ]
     },
     "execution_count": 878,
     "metadata": {},
     "output_type": "execute_result"
    }
   ],
   "source": [
    "# Inspecting the shape\n",
    "leads_1.shape"
   ]
  },
  {
   "cell_type": "markdown",
   "metadata": {},
   "source": [
    "# Imputing missing values for variables and creating segments wherever possible"
   ]
  },
  {
   "cell_type": "code",
   "execution_count": 879,
   "metadata": {},
   "outputs": [
    {
     "data": {
      "text/html": [
       "<div>\n",
       "<style scoped>\n",
       "    .dataframe tbody tr th:only-of-type {\n",
       "        vertical-align: middle;\n",
       "    }\n",
       "\n",
       "    .dataframe tbody tr th {\n",
       "        vertical-align: top;\n",
       "    }\n",
       "\n",
       "    .dataframe thead th {\n",
       "        text-align: right;\n",
       "    }\n",
       "</style>\n",
       "<table border=\"1\" class=\"dataframe\">\n",
       "  <thead>\n",
       "    <tr style=\"text-align: right;\">\n",
       "      <th></th>\n",
       "      <th>Lead Number</th>\n",
       "      <th>Converted</th>\n",
       "      <th>TotalVisits</th>\n",
       "      <th>Total Time Spent on Website</th>\n",
       "      <th>Page Views Per Visit</th>\n",
       "    </tr>\n",
       "  </thead>\n",
       "  <tbody>\n",
       "    <tr>\n",
       "      <th>count</th>\n",
       "      <td>8541.000000</td>\n",
       "      <td>8541.000000</td>\n",
       "      <td>8541.000000</td>\n",
       "      <td>8541.000000</td>\n",
       "      <td>8541.000000</td>\n",
       "    </tr>\n",
       "    <tr>\n",
       "      <th>mean</th>\n",
       "      <td>616989.621005</td>\n",
       "      <td>0.378410</td>\n",
       "      <td>2.810795</td>\n",
       "      <td>469.567732</td>\n",
       "      <td>2.076622</td>\n",
       "    </tr>\n",
       "    <tr>\n",
       "      <th>std</th>\n",
       "      <td>23289.973624</td>\n",
       "      <td>0.485019</td>\n",
       "      <td>2.435689</td>\n",
       "      <td>542.533310</td>\n",
       "      <td>1.654142</td>\n",
       "    </tr>\n",
       "    <tr>\n",
       "      <th>min</th>\n",
       "      <td>579533.000000</td>\n",
       "      <td>0.000000</td>\n",
       "      <td>0.000000</td>\n",
       "      <td>0.000000</td>\n",
       "      <td>0.000000</td>\n",
       "    </tr>\n",
       "    <tr>\n",
       "      <th>25%</th>\n",
       "      <td>596395.000000</td>\n",
       "      <td>0.000000</td>\n",
       "      <td>0.000000</td>\n",
       "      <td>0.000000</td>\n",
       "      <td>0.000000</td>\n",
       "    </tr>\n",
       "    <tr>\n",
       "      <th>50%</th>\n",
       "      <td>615429.000000</td>\n",
       "      <td>0.000000</td>\n",
       "      <td>3.000000</td>\n",
       "      <td>233.000000</td>\n",
       "      <td>2.000000</td>\n",
       "    </tr>\n",
       "    <tr>\n",
       "      <th>75%</th>\n",
       "      <td>637044.000000</td>\n",
       "      <td>1.000000</td>\n",
       "      <td>4.000000</td>\n",
       "      <td>888.000000</td>\n",
       "      <td>3.000000</td>\n",
       "    </tr>\n",
       "    <tr>\n",
       "      <th>max</th>\n",
       "      <td>660737.000000</td>\n",
       "      <td>1.000000</td>\n",
       "      <td>11.000000</td>\n",
       "      <td>2253.000000</td>\n",
       "      <td>6.000000</td>\n",
       "    </tr>\n",
       "  </tbody>\n",
       "</table>\n",
       "</div>"
      ],
      "text/plain": [
       "         Lead Number    Converted  TotalVisits  Total Time Spent on Website  \\\n",
       "count    8541.000000  8541.000000  8541.000000                  8541.000000   \n",
       "mean   616989.621005     0.378410     2.810795                   469.567732   \n",
       "std     23289.973624     0.485019     2.435689                   542.533310   \n",
       "min    579533.000000     0.000000     0.000000                     0.000000   \n",
       "25%    596395.000000     0.000000     0.000000                     0.000000   \n",
       "50%    615429.000000     0.000000     3.000000                   233.000000   \n",
       "75%    637044.000000     1.000000     4.000000                   888.000000   \n",
       "max    660737.000000     1.000000    11.000000                  2253.000000   \n",
       "\n",
       "       Page Views Per Visit  \n",
       "count           8541.000000  \n",
       "mean               2.076622  \n",
       "std                1.654142  \n",
       "min                0.000000  \n",
       "25%                0.000000  \n",
       "50%                2.000000  \n",
       "75%                3.000000  \n",
       "max                6.000000  "
      ]
     },
     "execution_count": 879,
     "metadata": {},
     "output_type": "execute_result"
    }
   ],
   "source": [
    "leads_1.describe()"
   ]
  },
  {
   "cell_type": "code",
   "execution_count": 880,
   "metadata": {},
   "outputs": [
    {
     "data": {
      "text/plain": [
       "Better Career Prospects      5973\n",
       "Flexibility & Convenience       1\n",
       "Other                           1\n",
       "Name: What matters most to you in choosing a course, dtype: int64"
      ]
     },
     "execution_count": 880,
     "metadata": {},
     "output_type": "execute_result"
    }
   ],
   "source": [
    "leads_1['What matters most to you in choosing a course'].value_counts()"
   ]
  },
  {
   "cell_type": "code",
   "execution_count": 881,
   "metadata": {},
   "outputs": [],
   "source": [
    "#Imputing missing values in variable 'What matters most to you in choosing a course' with Other factors\n",
    "leads_1['What matters most to you in choosing a course'].fillna('Other factors', inplace = True)"
   ]
  },
  {
   "cell_type": "code",
   "execution_count": 882,
   "metadata": {},
   "outputs": [],
   "source": [
    "# Grouping 'other' and 'flexibility & convenience' under 'Other factors'\n",
    "leads_1['What matters most to you in choosing a course'].replace(['Other', 'Flexibility & Convenience'], 'Other factors', inplace = True)"
   ]
  },
  {
   "cell_type": "code",
   "execution_count": 883,
   "metadata": {},
   "outputs": [
    {
     "data": {
      "text/plain": [
       "Unemployed              5129\n",
       "Working Professional     640\n",
       "Student                  198\n",
       "Other                     12\n",
       "Housewife                  9\n",
       "Businessman                5\n",
       "Name: What is your current occupation, dtype: int64"
      ]
     },
     "execution_count": 883,
     "metadata": {},
     "output_type": "execute_result"
    }
   ],
   "source": [
    "leads_1['What is your current occupation'].value_counts()"
   ]
  },
  {
   "cell_type": "markdown",
   "metadata": {},
   "source": [
    "#### Segmenting what is your current occupation into 3 segments i.e. Unemployed, employed and student. Working professsional and businessman would get classified under employed. Housewife would be clssified under unemployed. Other and null values would be imputed based on their means as compared to other segments."
   ]
  },
  {
   "cell_type": "code",
   "execution_count": 884,
   "metadata": {},
   "outputs": [],
   "source": [
    "leads_1['Occupation segment'] = np.select([((leads_1['What is your current occupation'] == 'Unemployed') | \n",
    "                                           (leads_1['What is your current occupation'] == 'Housewife')),\n",
    "                                           ((leads_1['What is your current occupation'] == 'Working Professional') | \n",
    "                                           (leads_1['What is your current occupation'] == 'Businessman')),\n",
    "                                           ],\n",
    "                                          ['Unemployed', 'Employed'],\n",
    "                                         default = leads_1['What is your current occupation'])"
   ]
  },
  {
   "cell_type": "code",
   "execution_count": 885,
   "metadata": {},
   "outputs": [
    {
     "data": {
      "text/html": [
       "<div>\n",
       "<style scoped>\n",
       "    .dataframe tbody tr th:only-of-type {\n",
       "        vertical-align: middle;\n",
       "    }\n",
       "\n",
       "    .dataframe tbody tr th {\n",
       "        vertical-align: top;\n",
       "    }\n",
       "\n",
       "    .dataframe thead th {\n",
       "        text-align: right;\n",
       "    }\n",
       "</style>\n",
       "<table border=\"1\" class=\"dataframe\">\n",
       "  <thead>\n",
       "    <tr style=\"text-align: right;\">\n",
       "      <th></th>\n",
       "      <th>Converted</th>\n",
       "      <th>Page Views Per Visit</th>\n",
       "      <th>Total Time Spent on Website</th>\n",
       "      <th>TotalVisits</th>\n",
       "    </tr>\n",
       "    <tr>\n",
       "      <th>Occupation segment</th>\n",
       "      <th></th>\n",
       "      <th></th>\n",
       "      <th></th>\n",
       "      <th></th>\n",
       "    </tr>\n",
       "  </thead>\n",
       "  <tbody>\n",
       "    <tr>\n",
       "      <th>Employed</th>\n",
       "      <td>0.913178</td>\n",
       "      <td>2.028419</td>\n",
       "      <td>645.262016</td>\n",
       "      <td>2.809302</td>\n",
       "    </tr>\n",
       "    <tr>\n",
       "      <th>Null</th>\n",
       "      <td>0.138148</td>\n",
       "      <td>1.852473</td>\n",
       "      <td>351.968603</td>\n",
       "      <td>2.540424</td>\n",
       "    </tr>\n",
       "    <tr>\n",
       "      <th>Other</th>\n",
       "      <td>0.500000</td>\n",
       "      <td>2.694167</td>\n",
       "      <td>939.750000</td>\n",
       "      <td>4.583333</td>\n",
       "    </tr>\n",
       "    <tr>\n",
       "      <th>Student</th>\n",
       "      <td>0.348485</td>\n",
       "      <td>1.658586</td>\n",
       "      <td>417.878788</td>\n",
       "      <td>2.303030</td>\n",
       "    </tr>\n",
       "    <tr>\n",
       "      <th>Unemployed</th>\n",
       "      <td>0.431296</td>\n",
       "      <td>2.208499</td>\n",
       "      <td>506.724601</td>\n",
       "      <td>2.960490</td>\n",
       "    </tr>\n",
       "  </tbody>\n",
       "</table>\n",
       "</div>"
      ],
      "text/plain": [
       "                    Converted  Page Views Per Visit  \\\n",
       "Occupation segment                                    \n",
       "Employed             0.913178              2.028419   \n",
       "Null                 0.138148              1.852473   \n",
       "Other                0.500000              2.694167   \n",
       "Student              0.348485              1.658586   \n",
       "Unemployed           0.431296              2.208499   \n",
       "\n",
       "                    Total Time Spent on Website  TotalVisits  \n",
       "Occupation segment                                            \n",
       "Employed                             645.262016     2.809302  \n",
       "Null                                 351.968603     2.540424  \n",
       "Other                                939.750000     4.583333  \n",
       "Student                              417.878788     2.303030  \n",
       "Unemployed                           506.724601     2.960490  "
      ]
     },
     "execution_count": 885,
     "metadata": {},
     "output_type": "execute_result"
    }
   ],
   "source": [
    "# Inspecting the means across numeric value for occupation segment\n",
    "pd.pivot_table(data = leads_1[['Converted', 'TotalVisits',\n",
    "       'Total Time Spent on Website', 'Page Views Per Visit', 'Occupation segment']].fillna('Null'), index = 'Occupation segment', values = ['Converted', 'TotalVisits',\n",
    "       'Total Time Spent on Website', 'Page Views Per Visit'], aggfunc = 'mean', dropna = False)"
   ]
  },
  {
   "cell_type": "code",
   "execution_count": 886,
   "metadata": {},
   "outputs": [
    {
     "data": {
      "image/png": "[encoded data removed]",
      "text/plain": [
       "<Figure size 432x288 with 1 Axes>"
      ]
     },
     "metadata": {},
     "output_type": "display_data"
    }
   ],
   "source": [
    "# Visualizing numeric variables spread accross occupation segment\n",
    "sns.boxplot(data = leads_1[['Converted', 'TotalVisits',\n",
    "       'Total Time Spent on Website', 'Page Views Per Visit', 'Occupation segment']].fillna('Null'),\n",
    "            y = 'TotalVisits', x = 'Occupation segment')\n",
    "plt.show()"
   ]
  },
  {
   "cell_type": "code",
   "execution_count": 887,
   "metadata": {},
   "outputs": [
    {
     "data": {
      "image/png": "[encoded data removed]",
      "text/plain": [
       "<Figure size 432x288 with 1 Axes>"
      ]
     },
     "metadata": {},
     "output_type": "display_data"
    }
   ],
   "source": [
    "# Visualizing numeric variables spread accross occupation segment\n",
    "sns.boxplot(data = leads_1[['Converted', 'TotalVisits',\n",
    "       'Total Time Spent on Website', 'Page Views Per Visit', 'Occupation segment']].fillna('Null'),\n",
    "            y = 'Total Time Spent on Website', x = 'Occupation segment')\n",
    "plt.show()"
   ]
  },
  {
   "cell_type": "code",
   "execution_count": 888,
   "metadata": {},
   "outputs": [
    {
     "data": {
      "image/png": "[encoded data removed]",
      "text/plain": [
       "<Figure size 432x288 with 1 Axes>"
      ]
     },
     "metadata": {},
     "output_type": "display_data"
    }
   ],
   "source": [
    "# Visualizing numeric variables spread accross occupation segment\n",
    "sns.boxplot(data = leads_1[['Converted', 'TotalVisits',\n",
    "       'Total Time Spent on Website', 'Page Views Per Visit', 'Occupation segment']].fillna('Null'),\n",
    "            y = 'Page Views Per Visit', x = 'Occupation segment')\n",
    "plt.show()"
   ]
  },
  {
   "cell_type": "markdown",
   "metadata": {},
   "source": [
    "From the above it can be concluded that the mean for numeric values and the spread of null segment is closer to those of student and that of others is closer to that of employed. Accordingly we should segment them accordingly."
   ]
  },
  {
   "cell_type": "code",
   "execution_count": 889,
   "metadata": {},
   "outputs": [],
   "source": [
    "# Updating the occupation segments based on above conclusion\n",
    "leads_1['Occupation segment'].fillna('Student', inplace = True)\n",
    "leads_1['Occupation segment'].replace('Other', 'Employed', inplace = True)"
   ]
  },
  {
   "cell_type": "code",
   "execution_count": 890,
   "metadata": {},
   "outputs": [
    {
     "data": {
      "text/plain": [
       "Unemployed    5138\n",
       "Student       2746\n",
       "Employed       657\n",
       "Name: Occupation segment, dtype: int64"
      ]
     },
     "execution_count": 890,
     "metadata": {},
     "output_type": "execute_result"
    }
   ],
   "source": [
    "leads_1['Occupation segment'].value_counts()"
   ]
  },
  {
   "cell_type": "code",
   "execution_count": 891,
   "metadata": {},
   "outputs": [],
   "source": [
    "# Droping the original column for which segment is created\n",
    "leads_1.drop('What is your current occupation', axis = 1, inplace=True)"
   ]
  },
  {
   "cell_type": "code",
   "execution_count": 892,
   "metadata": {},
   "outputs": [
    {
     "data": {
      "text/plain": [
       "Lead Number                                       0\n",
       "Lead Origin                                       0\n",
       "Lead Source                                      29\n",
       "Converted                                         0\n",
       "TotalVisits                                       0\n",
       "Total Time Spent on Website                       0\n",
       "Page Views Per Visit                              0\n",
       "Last Activity                                     0\n",
       "What matters most to you in choosing a course     0\n",
       "A free copy of Mastering The Interview            0\n",
       "Last Notable Activity                             0\n",
       "Occupation segment                                0\n",
       "dtype: int64"
      ]
     },
     "execution_count": 892,
     "metadata": {},
     "output_type": "execute_result"
    }
   ],
   "source": [
    "# Inspecting Null values\n",
    "leads_1.isnull().sum()"
   ]
  },
  {
   "cell_type": "code",
   "execution_count": 893,
   "metadata": {},
   "outputs": [
    {
     "data": {
      "text/plain": [
       "Google               2732\n",
       "Direct Traffic       2367\n",
       "Olark Chat           1746\n",
       "Organic Search        937\n",
       "Reference             440\n",
       "Welingak Website      128\n",
       "Referral Sites        106\n",
       "Facebook               30\n",
       "bing                    6\n",
       "google                  5\n",
       "Click2call              3\n",
       "Live Chat               2\n",
       "Social Media            2\n",
       "WeLearn                 1\n",
       "youtubechannel          1\n",
       "welearnblog_Home        1\n",
       "Press_Release           1\n",
       "blog                    1\n",
       "NC_EDM                  1\n",
       "testone                 1\n",
       "Pay per Click Ads       1\n",
       "Name: Lead Source, dtype: int64"
      ]
     },
     "execution_count": 893,
     "metadata": {},
     "output_type": "execute_result"
    }
   ],
   "source": [
    "# Inspecting the value counts in Lead Source\n",
    "leads_1['Lead Source'].value_counts()"
   ]
  },
  {
   "cell_type": "markdown",
   "metadata": {},
   "source": [
    "### Creating segments for Lead sources"
   ]
  },
  {
   "cell_type": "code",
   "execution_count": 894,
   "metadata": {},
   "outputs": [],
   "source": [
    "leads_1['Lead sources segment'] = np.select([(leads_1['Lead Source'].str.lower() == 'google'),\n",
    "                                            (leads_1['Lead Source'].str.lower() == 'direct traffic'),\n",
    "                                            (leads_1['Lead Source'].str.lower() == 'olark chat'),\n",
    "                                            (leads_1['Lead Source'].str.lower() == 'organic search'),\n",
    "                                            (leads_1['Lead Source'].str.lower() == 'reference'),\n",
    "                                            (leads_1['Lead Source'].str.lower() == 'welingak website'),\n",
    "                                            (leads_1['Lead Source'].str.lower() == 'referral sites'),\n",
    "                                            (leads_1['Lead Source'].isnull())],\n",
    "                                            ['Google', 'Direct traffic', 'Olark Chat', 'Organic search',\n",
    "                                            'Reference', 'Welingak Website', 'Referral Sites', 'Null'],\n",
    "                                            default = 'Other sources')"
   ]
  },
  {
   "cell_type": "code",
   "execution_count": 895,
   "metadata": {},
   "outputs": [
    {
     "data": {
      "text/html": [
       "<div>\n",
       "<style scoped>\n",
       "    .dataframe tbody tr th:only-of-type {\n",
       "        vertical-align: middle;\n",
       "    }\n",
       "\n",
       "    .dataframe tbody tr th {\n",
       "        vertical-align: top;\n",
       "    }\n",
       "\n",
       "    .dataframe thead th {\n",
       "        text-align: right;\n",
       "    }\n",
       "</style>\n",
       "<table border=\"1\" class=\"dataframe\">\n",
       "  <thead>\n",
       "    <tr style=\"text-align: right;\">\n",
       "      <th></th>\n",
       "      <th>Converted</th>\n",
       "      <th>Page Views Per Visit</th>\n",
       "      <th>Total Time Spent on Website</th>\n",
       "      <th>TotalVisits</th>\n",
       "    </tr>\n",
       "    <tr>\n",
       "      <th>Lead sources segment</th>\n",
       "      <th></th>\n",
       "      <th></th>\n",
       "      <th></th>\n",
       "      <th></th>\n",
       "    </tr>\n",
       "  </thead>\n",
       "  <tbody>\n",
       "    <tr>\n",
       "      <th>Direct traffic</th>\n",
       "      <td>0.319814</td>\n",
       "      <td>2.576798</td>\n",
       "      <td>603.445289</td>\n",
       "      <td>3.385298</td>\n",
       "    </tr>\n",
       "    <tr>\n",
       "      <th>Google</th>\n",
       "      <td>0.397881</td>\n",
       "      <td>2.865462</td>\n",
       "      <td>654.864085</td>\n",
       "      <td>3.847278</td>\n",
       "    </tr>\n",
       "    <tr>\n",
       "      <th>Null</th>\n",
       "      <td>0.896552</td>\n",
       "      <td>0.068966</td>\n",
       "      <td>0.310345</td>\n",
       "      <td>0.068966</td>\n",
       "    </tr>\n",
       "    <tr>\n",
       "      <th>Olark Chat</th>\n",
       "      <td>0.254868</td>\n",
       "      <td>0.136151</td>\n",
       "      <td>58.064147</td>\n",
       "      <td>0.288087</td>\n",
       "    </tr>\n",
       "    <tr>\n",
       "      <th>Organic search</th>\n",
       "      <td>0.363927</td>\n",
       "      <td>3.331025</td>\n",
       "      <td>616.400213</td>\n",
       "      <td>4.605123</td>\n",
       "    </tr>\n",
       "    <tr>\n",
       "      <th>Other sources</th>\n",
       "      <td>0.333333</td>\n",
       "      <td>0.906863</td>\n",
       "      <td>165.686275</td>\n",
       "      <td>1.117647</td>\n",
       "    </tr>\n",
       "    <tr>\n",
       "      <th>Reference</th>\n",
       "      <td>0.925000</td>\n",
       "      <td>0.113045</td>\n",
       "      <td>85.093182</td>\n",
       "      <td>0.179545</td>\n",
       "    </tr>\n",
       "    <tr>\n",
       "      <th>Referral Sites</th>\n",
       "      <td>0.226415</td>\n",
       "      <td>3.080189</td>\n",
       "      <td>543.500000</td>\n",
       "      <td>4.650943</td>\n",
       "    </tr>\n",
       "    <tr>\n",
       "      <th>Welingak Website</th>\n",
       "      <td>0.984375</td>\n",
       "      <td>0.085938</td>\n",
       "      <td>57.828125</td>\n",
       "      <td>0.117188</td>\n",
       "    </tr>\n",
       "  </tbody>\n",
       "</table>\n",
       "</div>"
      ],
      "text/plain": [
       "                      Converted  Page Views Per Visit  \\\n",
       "Lead sources segment                                    \n",
       "Direct traffic         0.319814              2.576798   \n",
       "Google                 0.397881              2.865462   \n",
       "Null                   0.896552              0.068966   \n",
       "Olark Chat             0.254868              0.136151   \n",
       "Organic search         0.363927              3.331025   \n",
       "Other sources          0.333333              0.906863   \n",
       "Reference              0.925000              0.113045   \n",
       "Referral Sites         0.226415              3.080189   \n",
       "Welingak Website       0.984375              0.085938   \n",
       "\n",
       "                      Total Time Spent on Website  TotalVisits  \n",
       "Lead sources segment                                            \n",
       "Direct traffic                         603.445289     3.385298  \n",
       "Google                                 654.864085     3.847278  \n",
       "Null                                     0.310345     0.068966  \n",
       "Olark Chat                              58.064147     0.288087  \n",
       "Organic search                         616.400213     4.605123  \n",
       "Other sources                          165.686275     1.117647  \n",
       "Reference                               85.093182     0.179545  \n",
       "Referral Sites                         543.500000     4.650943  \n",
       "Welingak Website                        57.828125     0.117188  "
      ]
     },
     "execution_count": 895,
     "metadata": {},
     "output_type": "execute_result"
    }
   ],
   "source": [
    "pd.pivot_table(data = leads_1[['Converted', 'TotalVisits',\n",
    "       'Total Time Spent on Website', 'Page Views Per Visit', 'Lead sources segment']].fillna('Null'), index = 'Lead sources segment', values = ['Converted', 'TotalVisits',\n",
    "       'Total Time Spent on Website', 'Page Views Per Visit'], aggfunc = 'mean', dropna = False)"
   ]
  },
  {
   "cell_type": "markdown",
   "metadata": {},
   "source": [
    "From the above it can be noted that the mean value of numeric variables for null values are closre to that of Welingak Website, hence grouping them together."
   ]
  },
  {
   "cell_type": "code",
   "execution_count": 896,
   "metadata": {},
   "outputs": [],
   "source": [
    "# Creating segments based on above conclusion\n",
    "leads_1['Lead sources segment'].replace('Null', 'Welingak Website', inplace = True)"
   ]
  },
  {
   "cell_type": "code",
   "execution_count": 897,
   "metadata": {},
   "outputs": [
    {
     "data": {
      "text/plain": [
       "Google              2737\n",
       "Direct traffic      2367\n",
       "Olark Chat          1746\n",
       "Organic search       937\n",
       "Reference            440\n",
       "Welingak Website     157\n",
       "Referral Sites       106\n",
       "Other sources         51\n",
       "Name: Lead sources segment, dtype: int64"
      ]
     },
     "execution_count": 897,
     "metadata": {},
     "output_type": "execute_result"
    }
   ],
   "source": [
    "# Inspecting the value counts post segmentation\n",
    "leads_1['Lead sources segment'].value_counts()"
   ]
  },
  {
   "cell_type": "code",
   "execution_count": 898,
   "metadata": {},
   "outputs": [],
   "source": [
    "# Dropping the original variable column\n",
    "leads_1.drop('Lead Source', axis = 1, inplace= True)"
   ]
  },
  {
   "cell_type": "code",
   "execution_count": 899,
   "metadata": {},
   "outputs": [
    {
     "data": {
      "text/plain": [
       "Lead Number                                      0\n",
       "Lead Origin                                      0\n",
       "Converted                                        0\n",
       "TotalVisits                                      0\n",
       "Total Time Spent on Website                      0\n",
       "Page Views Per Visit                             0\n",
       "Last Activity                                    0\n",
       "What matters most to you in choosing a course    0\n",
       "A free copy of Mastering The Interview           0\n",
       "Last Notable Activity                            0\n",
       "Occupation segment                               0\n",
       "Lead sources segment                             0\n",
       "dtype: int64"
      ]
     },
     "execution_count": 899,
     "metadata": {},
     "output_type": "execute_result"
    }
   ],
   "source": [
    "# Inspecting null values\n",
    "leads_1.isnull().sum()"
   ]
  },
  {
   "cell_type": "code",
   "execution_count": 900,
   "metadata": {},
   "outputs": [
    {
     "data": {
      "text/html": [
       "<div>\n",
       "<style scoped>\n",
       "    .dataframe tbody tr th:only-of-type {\n",
       "        vertical-align: middle;\n",
       "    }\n",
       "\n",
       "    .dataframe tbody tr th {\n",
       "        vertical-align: top;\n",
       "    }\n",
       "\n",
       "    .dataframe thead th {\n",
       "        text-align: right;\n",
       "    }\n",
       "</style>\n",
       "<table border=\"1\" class=\"dataframe\">\n",
       "  <thead>\n",
       "    <tr style=\"text-align: right;\">\n",
       "      <th></th>\n",
       "      <th>Lead Number</th>\n",
       "      <th>Lead Origin</th>\n",
       "      <th>Converted</th>\n",
       "      <th>TotalVisits</th>\n",
       "      <th>Total Time Spent on Website</th>\n",
       "      <th>Page Views Per Visit</th>\n",
       "      <th>Last Activity</th>\n",
       "      <th>What matters most to you in choosing a course</th>\n",
       "      <th>A free copy of Mastering The Interview</th>\n",
       "      <th>Last Notable Activity</th>\n",
       "      <th>Occupation segment</th>\n",
       "      <th>Lead sources segment</th>\n",
       "    </tr>\n",
       "  </thead>\n",
       "  <tbody>\n",
       "    <tr>\n",
       "      <th>0</th>\n",
       "      <td>660737</td>\n",
       "      <td>API</td>\n",
       "      <td>0</td>\n",
       "      <td>0.0</td>\n",
       "      <td>0</td>\n",
       "      <td>0.0</td>\n",
       "      <td>Page Visited on Website</td>\n",
       "      <td>Better Career Prospects</td>\n",
       "      <td>No</td>\n",
       "      <td>Modified</td>\n",
       "      <td>Unemployed</td>\n",
       "      <td>Olark Chat</td>\n",
       "    </tr>\n",
       "    <tr>\n",
       "      <th>1</th>\n",
       "      <td>660728</td>\n",
       "      <td>API</td>\n",
       "      <td>0</td>\n",
       "      <td>5.0</td>\n",
       "      <td>674</td>\n",
       "      <td>2.5</td>\n",
       "      <td>Email Opened</td>\n",
       "      <td>Better Career Prospects</td>\n",
       "      <td>No</td>\n",
       "      <td>Email Opened</td>\n",
       "      <td>Unemployed</td>\n",
       "      <td>Organic search</td>\n",
       "    </tr>\n",
       "    <tr>\n",
       "      <th>2</th>\n",
       "      <td>660727</td>\n",
       "      <td>Landing Page Submission</td>\n",
       "      <td>1</td>\n",
       "      <td>2.0</td>\n",
       "      <td>1532</td>\n",
       "      <td>2.0</td>\n",
       "      <td>Email Opened</td>\n",
       "      <td>Better Career Prospects</td>\n",
       "      <td>Yes</td>\n",
       "      <td>Email Opened</td>\n",
       "      <td>Student</td>\n",
       "      <td>Direct traffic</td>\n",
       "    </tr>\n",
       "  </tbody>\n",
       "</table>\n",
       "</div>"
      ],
      "text/plain": [
       "   Lead Number              Lead Origin  Converted  TotalVisits  \\\n",
       "0       660737                      API          0          0.0   \n",
       "1       660728                      API          0          5.0   \n",
       "2       660727  Landing Page Submission          1          2.0   \n",
       "\n",
       "   Total Time Spent on Website  Page Views Per Visit            Last Activity  \\\n",
       "0                            0                   0.0  Page Visited on Website   \n",
       "1                          674                   2.5             Email Opened   \n",
       "2                         1532                   2.0             Email Opened   \n",
       "\n",
       "  What matters most to you in choosing a course  \\\n",
       "0                       Better Career Prospects   \n",
       "1                       Better Career Prospects   \n",
       "2                       Better Career Prospects   \n",
       "\n",
       "  A free copy of Mastering The Interview Last Notable Activity  \\\n",
       "0                                     No              Modified   \n",
       "1                                     No          Email Opened   \n",
       "2                                    Yes          Email Opened   \n",
       "\n",
       "  Occupation segment Lead sources segment  \n",
       "0         Unemployed           Olark Chat  \n",
       "1         Unemployed       Organic search  \n",
       "2            Student       Direct traffic  "
      ]
     },
     "execution_count": 900,
     "metadata": {},
     "output_type": "execute_result"
    }
   ],
   "source": [
    "# Inspecting the Dataframe\n",
    "leads_1.head(3)"
   ]
  },
  {
   "cell_type": "code",
   "execution_count": 901,
   "metadata": {},
   "outputs": [
    {
     "data": {
      "text/plain": [
       "(8541, 12)"
      ]
     },
     "execution_count": 901,
     "metadata": {},
     "output_type": "execute_result"
    }
   ],
   "source": [
    "# Inspecting the shape\n",
    "leads_1.shape"
   ]
  },
  {
   "cell_type": "markdown",
   "metadata": {},
   "source": [
    "## Creating segments for Last Activity"
   ]
  },
  {
   "cell_type": "code",
   "execution_count": 902,
   "metadata": {},
   "outputs": [
    {
     "data": {
      "text/plain": [
       "Email Opened                    3218\n",
       "SMS Sent                        2579\n",
       "Olark Chat Conversation          948\n",
       "Page Visited on Website          525\n",
       "Converted to Lead                425\n",
       "Email Bounced                    302\n",
       "Email Link Clicked               255\n",
       "Form Submitted on Website        110\n",
       "Unreachable                       84\n",
       "Unsubscribed                      59\n",
       "Had a Phone Conversation          21\n",
       "Approached upfront                 5\n",
       "View in browser link Clicked       4\n",
       "Email Marked Spam                  2\n",
       "Email Received                     2\n",
       "Visited Booth in Tradeshow         1\n",
       "Resubscribed to emails             1\n",
       "Name: Last Activity, dtype: int64"
      ]
     },
     "execution_count": 902,
     "metadata": {},
     "output_type": "execute_result"
    }
   ],
   "source": [
    "# Inpecting value counts for Last Activity\n",
    "leads_1['Last Activity'].value_counts()"
   ]
  },
  {
   "cell_type": "markdown",
   "metadata": {},
   "source": [
    "Grouping the activities with count less than 100 into 'other last activity'"
   ]
  },
  {
   "cell_type": "code",
   "execution_count": 903,
   "metadata": {},
   "outputs": [],
   "source": [
    "# Creating segments based on above analysis\n",
    "leads_1['Last activity segment'] = np.select([(leads_1['Last Activity'] == 'Email Opened'),\n",
    "                                              (leads_1['Last Activity'] == 'SMS Sent'),\n",
    "                                              (leads_1['Last Activity'] == 'Olark Chat Conversation'),\n",
    "                                              (leads_1['Last Activity'] == 'Page Visited on Website'),\n",
    "                                              (leads_1['Last Activity'] == 'Converted to Lead'),\n",
    "                                              (leads_1['Last Activity'] == 'Email Bounced'),\n",
    "                                              (leads_1['Last Activity'] == 'Email Link Clicked'),\n",
    "                                              (leads_1['Last Activity'] == 'Form Submitted on Website')], \n",
    "                                             ['Email Opened', 'SMS Sent', 'Olark Chat Conversation',\n",
    "                                               'Page Visited on Website', 'Converted to Lead', 'Email Bounced',\n",
    "                                               'Email Link Clicked', 'Form Submitted on Website'],\n",
    "                                              default = 'Other last activity')"
   ]
  },
  {
   "cell_type": "code",
   "execution_count": 904,
   "metadata": {},
   "outputs": [
    {
     "data": {
      "text/plain": [
       "Email Opened                 3218\n",
       "SMS Sent                     2579\n",
       "Olark Chat Conversation       948\n",
       "Page Visited on Website       525\n",
       "Converted to Lead             425\n",
       "Email Bounced                 302\n",
       "Email Link Clicked            255\n",
       "Other last activity           179\n",
       "Form Submitted on Website     110\n",
       "Name: Last activity segment, dtype: int64"
      ]
     },
     "execution_count": 904,
     "metadata": {},
     "output_type": "execute_result"
    }
   ],
   "source": [
    "# Inspecting value counts post segmentation\n",
    "leads_1['Last activity segment'].value_counts()"
   ]
  },
  {
   "cell_type": "code",
   "execution_count": 905,
   "metadata": {},
   "outputs": [],
   "source": [
    "# Dropping the original column\n",
    "leads_1.drop('Last Activity', axis = 1, inplace = True)"
   ]
  },
  {
   "cell_type": "markdown",
   "metadata": {},
   "source": [
    "## Creating segments for Last Notable Activity"
   ]
  },
  {
   "cell_type": "code",
   "execution_count": 906,
   "metadata": {},
   "outputs": [
    {
     "data": {
      "text/plain": [
       "Modified                        3122\n",
       "Email Opened                    2636\n",
       "SMS Sent                        2048\n",
       "Page Visited on Website          247\n",
       "Olark Chat Conversation          175\n",
       "Email Link Clicked               161\n",
       "Email Bounced                     59\n",
       "Unsubscribed                      45\n",
       "Unreachable                       30\n",
       "Had a Phone Conversation          11\n",
       "Email Marked Spam                  2\n",
       "Form Submitted on Website          1\n",
       "Resubscribed to emails             1\n",
       "View in browser link Clicked       1\n",
       "Approached upfront                 1\n",
       "Email Received                     1\n",
       "Name: Last Notable Activity, dtype: int64"
      ]
     },
     "execution_count": 906,
     "metadata": {},
     "output_type": "execute_result"
    }
   ],
   "source": [
    "# Inspecting Value counts for Last Notable Activity\n",
    "leads_1['Last Notable Activity'].value_counts()"
   ]
  },
  {
   "cell_type": "code",
   "execution_count": 907,
   "metadata": {},
   "outputs": [],
   "source": [
    "# Creating segments for values with less than 100 count\n",
    "leads_1['Last notable activity segment'] = np.select([(leads_1['Last Notable Activity'] == 'Modified'),\n",
    "                                              (leads_1['Last Notable Activity'] == 'Email Opened'),\n",
    "                                              (leads_1['Last Notable Activity'] == 'SMS Sent'),\n",
    "                                              (leads_1['Last Notable Activity'] == 'Page Visited on Website'),\n",
    "                                              (leads_1['Last Notable Activity'] == 'Olark Chat Conversation'),\n",
    "                                              (leads_1['Last Notable Activity'] == 'Email Link Clicked')], \n",
    "                                             ['Modified', 'Email Opened', 'SMS Sent',\n",
    "                                               'Page Visited on Website', 'Olark Chat Conversation',\n",
    "                                               'Email Link Clicked'],\n",
    "                                              default = 'Other notable last activity')"
   ]
  },
  {
   "cell_type": "code",
   "execution_count": 908,
   "metadata": {},
   "outputs": [],
   "source": [
    "# Dropping the original variable\n",
    "leads_1.drop('Last Notable Activity', axis = 1, inplace = True)"
   ]
  },
  {
   "cell_type": "code",
   "execution_count": 909,
   "metadata": {},
   "outputs": [
    {
     "data": {
      "text/plain": [
       "(8541, 12)"
      ]
     },
     "execution_count": 909,
     "metadata": {},
     "output_type": "execute_result"
    }
   ],
   "source": [
    "# Inspecting the shape\n",
    "leads_1.shape"
   ]
  },
  {
   "cell_type": "markdown",
   "metadata": {},
   "source": [
    "## Mapping binary values to columns with Yes/No values"
   ]
  },
  {
   "cell_type": "code",
   "execution_count": 910,
   "metadata": {},
   "outputs": [],
   "source": [
    "# Map Binary values (0,1) to columns with Yes/No values\n",
    "leads_1['A free copy of Mastering The Interview'] = leads_1['A free copy of Mastering The Interview'].map({'Yes':1, 'No': 0})"
   ]
  },
  {
   "cell_type": "markdown",
   "metadata": {},
   "source": [
    "## Creating Dummy variables"
   ]
  },
  {
   "cell_type": "code",
   "execution_count": 911,
   "metadata": {},
   "outputs": [
    {
     "name": "stdout",
     "output_type": "stream",
     "text": [
      "<class 'pandas.core.frame.DataFrame'>\n",
      "Int64Index: 8541 entries, 0 to 9239\n",
      "Data columns (total 12 columns):\n",
      "Lead Number                                      8541 non-null int64\n",
      "Lead Origin                                      8541 non-null object\n",
      "Converted                                        8541 non-null int64\n",
      "TotalVisits                                      8541 non-null float64\n",
      "Total Time Spent on Website                      8541 non-null int64\n",
      "Page Views Per Visit                             8541 non-null float64\n",
      "What matters most to you in choosing a course    8541 non-null object\n",
      "A free copy of Mastering The Interview           8541 non-null int64\n",
      "Occupation segment                               8541 non-null object\n",
      "Lead sources segment                             8541 non-null object\n",
      "Last activity segment                            8541 non-null object\n",
      "Last notable activity segment                    8541 non-null object\n",
      "dtypes: float64(2), int64(4), object(6)\n",
      "memory usage: 1.2+ MB\n"
     ]
    }
   ],
   "source": [
    "# Inspecting the features\n",
    "leads_1.info()"
   ]
  },
  {
   "cell_type": "code",
   "execution_count": 912,
   "metadata": {},
   "outputs": [],
   "source": [
    "# Creating dummy variables for 'Lead Origin'\n",
    "dum1 = pd.get_dummies(leads_1['Lead Origin']).drop('Lead Import', axis = 1)"
   ]
  },
  {
   "cell_type": "code",
   "execution_count": 913,
   "metadata": {},
   "outputs": [],
   "source": [
    "# Creating dummy variables for 'What matters most to you in choosing a course'\n",
    "dum2 = pd.get_dummies(leads_1['What matters most to you in choosing a course']).drop('Other factors', axis = 1)"
   ]
  },
  {
   "cell_type": "code",
   "execution_count": 914,
   "metadata": {},
   "outputs": [],
   "source": [
    "# Creating dummy variables for 'Occupation segment'\n",
    "dum3 = pd.get_dummies(leads_1['Occupation segment']).drop('Employed', axis = 1)"
   ]
  },
  {
   "cell_type": "code",
   "execution_count": 915,
   "metadata": {},
   "outputs": [],
   "source": [
    "# Creating dummy variables for 'Lead sources segment'\n",
    "dum4 = pd.get_dummies(leads_1['Lead sources segment']).drop('Other sources', axis = 1)"
   ]
  },
  {
   "cell_type": "code",
   "execution_count": 916,
   "metadata": {},
   "outputs": [],
   "source": [
    "# Creating dummy variables for 'Last Activity segment'\n",
    "dum5 = pd.get_dummies(leads_1['Last activity segment'], prefix = 'LA').drop('LA_Form Submitted on Website', axis = 1)"
   ]
  },
  {
   "cell_type": "code",
   "execution_count": 917,
   "metadata": {},
   "outputs": [],
   "source": [
    "# Creating dummy variables for 'Last notable Activity segment'\n",
    "dum6 = pd.get_dummies(leads_1['Last notable activity segment'], prefix = 'LNA').drop('LNA_Other notable last activity', axis = 1)"
   ]
  },
  {
   "cell_type": "code",
   "execution_count": 918,
   "metadata": {},
   "outputs": [
    {
     "data": {
      "text/plain": [
       "(8541, 12)"
      ]
     },
     "execution_count": 918,
     "metadata": {},
     "output_type": "execute_result"
    }
   ],
   "source": [
    "# Inspecting Shape\n",
    "leads_1.shape"
   ]
  },
  {
   "cell_type": "code",
   "execution_count": 919,
   "metadata": {},
   "outputs": [],
   "source": [
    "# Combining the dummy variables with original dataframe\n",
    "leads_final = pd.concat([leads_1, dum1, dum2, dum3, dum4, dum5, dum6], axis = 1)"
   ]
  },
  {
   "cell_type": "code",
   "execution_count": 920,
   "metadata": {},
   "outputs": [
    {
     "data": {
      "text/plain": [
       "(8541, 39)"
      ]
     },
     "execution_count": 920,
     "metadata": {},
     "output_type": "execute_result"
    }
   ],
   "source": [
    "# Inspecting shape\n",
    "leads_final.shape"
   ]
  },
  {
   "cell_type": "code",
   "execution_count": 921,
   "metadata": {},
   "outputs": [],
   "source": [
    "# Dropping the original variables for which dummy variables were created\n",
    "leads_final.drop(['Lead Origin', 'Lead sources segment', 'Last activity segment',\n",
    "       'Occupation segment',\n",
    "       'What matters most to you in choosing a course',\n",
    "       'Last notable activity segment'], axis = 1, inplace = True)"
   ]
  },
  {
   "cell_type": "code",
   "execution_count": 922,
   "metadata": {},
   "outputs": [
    {
     "data": {
      "text/plain": [
       "(8541, 33)"
      ]
     },
     "execution_count": 922,
     "metadata": {},
     "output_type": "execute_result"
    }
   ],
   "source": [
    "# Inspecting shape\n",
    "leads_final.shape"
   ]
  },
  {
   "cell_type": "code",
   "execution_count": 923,
   "metadata": {},
   "outputs": [
    {
     "data": {
      "text/html": [
       "<div>\n",
       "<style scoped>\n",
       "    .dataframe tbody tr th:only-of-type {\n",
       "        vertical-align: middle;\n",
       "    }\n",
       "\n",
       "    .dataframe tbody tr th {\n",
       "        vertical-align: top;\n",
       "    }\n",
       "\n",
       "    .dataframe thead th {\n",
       "        text-align: right;\n",
       "    }\n",
       "</style>\n",
       "<table border=\"1\" class=\"dataframe\">\n",
       "  <thead>\n",
       "    <tr style=\"text-align: right;\">\n",
       "      <th></th>\n",
       "      <th>Lead Number</th>\n",
       "      <th>Converted</th>\n",
       "      <th>TotalVisits</th>\n",
       "      <th>Total Time Spent on Website</th>\n",
       "      <th>Page Views Per Visit</th>\n",
       "      <th>A free copy of Mastering The Interview</th>\n",
       "      <th>API</th>\n",
       "      <th>Landing Page Submission</th>\n",
       "      <th>Lead Add Form</th>\n",
       "      <th>Better Career Prospects</th>\n",
       "      <th>...</th>\n",
       "      <th>LA_Olark Chat Conversation</th>\n",
       "      <th>LA_Other last activity</th>\n",
       "      <th>LA_Page Visited on Website</th>\n",
       "      <th>LA_SMS Sent</th>\n",
       "      <th>LNA_Email Link Clicked</th>\n",
       "      <th>LNA_Email Opened</th>\n",
       "      <th>LNA_Modified</th>\n",
       "      <th>LNA_Olark Chat Conversation</th>\n",
       "      <th>LNA_Page Visited on Website</th>\n",
       "      <th>LNA_SMS Sent</th>\n",
       "    </tr>\n",
       "  </thead>\n",
       "  <tbody>\n",
       "    <tr>\n",
       "      <th>0</th>\n",
       "      <td>660737</td>\n",
       "      <td>0</td>\n",
       "      <td>0.0</td>\n",
       "      <td>0</td>\n",
       "      <td>0.0</td>\n",
       "      <td>0</td>\n",
       "      <td>1</td>\n",
       "      <td>0</td>\n",
       "      <td>0</td>\n",
       "      <td>1</td>\n",
       "      <td>...</td>\n",
       "      <td>0</td>\n",
       "      <td>0</td>\n",
       "      <td>1</td>\n",
       "      <td>0</td>\n",
       "      <td>0</td>\n",
       "      <td>0</td>\n",
       "      <td>1</td>\n",
       "      <td>0</td>\n",
       "      <td>0</td>\n",
       "      <td>0</td>\n",
       "    </tr>\n",
       "    <tr>\n",
       "      <th>1</th>\n",
       "      <td>660728</td>\n",
       "      <td>0</td>\n",
       "      <td>5.0</td>\n",
       "      <td>674</td>\n",
       "      <td>2.5</td>\n",
       "      <td>0</td>\n",
       "      <td>1</td>\n",
       "      <td>0</td>\n",
       "      <td>0</td>\n",
       "      <td>1</td>\n",
       "      <td>...</td>\n",
       "      <td>0</td>\n",
       "      <td>0</td>\n",
       "      <td>0</td>\n",
       "      <td>0</td>\n",
       "      <td>0</td>\n",
       "      <td>1</td>\n",
       "      <td>0</td>\n",
       "      <td>0</td>\n",
       "      <td>0</td>\n",
       "      <td>0</td>\n",
       "    </tr>\n",
       "    <tr>\n",
       "      <th>2</th>\n",
       "      <td>660727</td>\n",
       "      <td>1</td>\n",
       "      <td>2.0</td>\n",
       "      <td>1532</td>\n",
       "      <td>2.0</td>\n",
       "      <td>1</td>\n",
       "      <td>0</td>\n",
       "      <td>1</td>\n",
       "      <td>0</td>\n",
       "      <td>1</td>\n",
       "      <td>...</td>\n",
       "      <td>0</td>\n",
       "      <td>0</td>\n",
       "      <td>0</td>\n",
       "      <td>0</td>\n",
       "      <td>0</td>\n",
       "      <td>1</td>\n",
       "      <td>0</td>\n",
       "      <td>0</td>\n",
       "      <td>0</td>\n",
       "      <td>0</td>\n",
       "    </tr>\n",
       "  </tbody>\n",
       "</table>\n",
       "<p>3 rows × 33 columns</p>\n",
       "</div>"
      ],
      "text/plain": [
       "   Lead Number  Converted  TotalVisits  Total Time Spent on Website  \\\n",
       "0       660737          0          0.0                            0   \n",
       "1       660728          0          5.0                          674   \n",
       "2       660727          1          2.0                         1532   \n",
       "\n",
       "   Page Views Per Visit  A free copy of Mastering The Interview  API  \\\n",
       "0                   0.0                                       0    1   \n",
       "1                   2.5                                       0    1   \n",
       "2                   2.0                                       1    0   \n",
       "\n",
       "   Landing Page Submission  Lead Add Form  Better Career Prospects  ...  \\\n",
       "0                        0              0                        1  ...   \n",
       "1                        0              0                        1  ...   \n",
       "2                        1              0                        1  ...   \n",
       "\n",
       "   LA_Olark Chat Conversation  LA_Other last activity  \\\n",
       "0                           0                       0   \n",
       "1                           0                       0   \n",
       "2                           0                       0   \n",
       "\n",
       "   LA_Page Visited on Website  LA_SMS Sent  LNA_Email Link Clicked  \\\n",
       "0                           1            0                       0   \n",
       "1                           0            0                       0   \n",
       "2                           0            0                       0   \n",
       "\n",
       "   LNA_Email Opened  LNA_Modified  LNA_Olark Chat Conversation  \\\n",
       "0                 0             1                            0   \n",
       "1                 1             0                            0   \n",
       "2                 1             0                            0   \n",
       "\n",
       "   LNA_Page Visited on Website  LNA_SMS Sent  \n",
       "0                            0             0  \n",
       "1                            0             0  \n",
       "2                            0             0  \n",
       "\n",
       "[3 rows x 33 columns]"
      ]
     },
     "execution_count": 923,
     "metadata": {},
     "output_type": "execute_result"
    }
   ],
   "source": [
    "# Inspecting head\n",
    "leads_final.head(3)"
   ]
  },
  {
   "cell_type": "markdown",
   "metadata": {},
   "source": [
    "## Train Test split"
   ]
  },
  {
   "cell_type": "code",
   "execution_count": 924,
   "metadata": {},
   "outputs": [],
   "source": [
    "from sklearn.model_selection import train_test_split"
   ]
  },
  {
   "cell_type": "code",
   "execution_count": 925,
   "metadata": {},
   "outputs": [
    {
     "data": {
      "text/html": [
       "<div>\n",
       "<style scoped>\n",
       "    .dataframe tbody tr th:only-of-type {\n",
       "        vertical-align: middle;\n",
       "    }\n",
       "\n",
       "    .dataframe tbody tr th {\n",
       "        vertical-align: top;\n",
       "    }\n",
       "\n",
       "    .dataframe thead th {\n",
       "        text-align: right;\n",
       "    }\n",
       "</style>\n",
       "<table border=\"1\" class=\"dataframe\">\n",
       "  <thead>\n",
       "    <tr style=\"text-align: right;\">\n",
       "      <th></th>\n",
       "      <th>TotalVisits</th>\n",
       "      <th>Total Time Spent on Website</th>\n",
       "      <th>Page Views Per Visit</th>\n",
       "      <th>A free copy of Mastering The Interview</th>\n",
       "      <th>API</th>\n",
       "      <th>Landing Page Submission</th>\n",
       "      <th>Lead Add Form</th>\n",
       "      <th>Better Career Prospects</th>\n",
       "      <th>Student</th>\n",
       "      <th>Unemployed</th>\n",
       "      <th>...</th>\n",
       "      <th>LA_Olark Chat Conversation</th>\n",
       "      <th>LA_Other last activity</th>\n",
       "      <th>LA_Page Visited on Website</th>\n",
       "      <th>LA_SMS Sent</th>\n",
       "      <th>LNA_Email Link Clicked</th>\n",
       "      <th>LNA_Email Opened</th>\n",
       "      <th>LNA_Modified</th>\n",
       "      <th>LNA_Olark Chat Conversation</th>\n",
       "      <th>LNA_Page Visited on Website</th>\n",
       "      <th>LNA_SMS Sent</th>\n",
       "    </tr>\n",
       "  </thead>\n",
       "  <tbody>\n",
       "    <tr>\n",
       "      <th>0</th>\n",
       "      <td>0.0</td>\n",
       "      <td>0</td>\n",
       "      <td>0.0</td>\n",
       "      <td>0</td>\n",
       "      <td>1</td>\n",
       "      <td>0</td>\n",
       "      <td>0</td>\n",
       "      <td>1</td>\n",
       "      <td>0</td>\n",
       "      <td>1</td>\n",
       "      <td>...</td>\n",
       "      <td>0</td>\n",
       "      <td>0</td>\n",
       "      <td>1</td>\n",
       "      <td>0</td>\n",
       "      <td>0</td>\n",
       "      <td>0</td>\n",
       "      <td>1</td>\n",
       "      <td>0</td>\n",
       "      <td>0</td>\n",
       "      <td>0</td>\n",
       "    </tr>\n",
       "    <tr>\n",
       "      <th>1</th>\n",
       "      <td>5.0</td>\n",
       "      <td>674</td>\n",
       "      <td>2.5</td>\n",
       "      <td>0</td>\n",
       "      <td>1</td>\n",
       "      <td>0</td>\n",
       "      <td>0</td>\n",
       "      <td>1</td>\n",
       "      <td>0</td>\n",
       "      <td>1</td>\n",
       "      <td>...</td>\n",
       "      <td>0</td>\n",
       "      <td>0</td>\n",
       "      <td>0</td>\n",
       "      <td>0</td>\n",
       "      <td>0</td>\n",
       "      <td>1</td>\n",
       "      <td>0</td>\n",
       "      <td>0</td>\n",
       "      <td>0</td>\n",
       "      <td>0</td>\n",
       "    </tr>\n",
       "    <tr>\n",
       "      <th>2</th>\n",
       "      <td>2.0</td>\n",
       "      <td>1532</td>\n",
       "      <td>2.0</td>\n",
       "      <td>1</td>\n",
       "      <td>0</td>\n",
       "      <td>1</td>\n",
       "      <td>0</td>\n",
       "      <td>1</td>\n",
       "      <td>1</td>\n",
       "      <td>0</td>\n",
       "      <td>...</td>\n",
       "      <td>0</td>\n",
       "      <td>0</td>\n",
       "      <td>0</td>\n",
       "      <td>0</td>\n",
       "      <td>0</td>\n",
       "      <td>1</td>\n",
       "      <td>0</td>\n",
       "      <td>0</td>\n",
       "      <td>0</td>\n",
       "      <td>0</td>\n",
       "    </tr>\n",
       "    <tr>\n",
       "      <th>3</th>\n",
       "      <td>1.0</td>\n",
       "      <td>305</td>\n",
       "      <td>1.0</td>\n",
       "      <td>0</td>\n",
       "      <td>0</td>\n",
       "      <td>1</td>\n",
       "      <td>0</td>\n",
       "      <td>1</td>\n",
       "      <td>0</td>\n",
       "      <td>1</td>\n",
       "      <td>...</td>\n",
       "      <td>0</td>\n",
       "      <td>1</td>\n",
       "      <td>0</td>\n",
       "      <td>0</td>\n",
       "      <td>0</td>\n",
       "      <td>0</td>\n",
       "      <td>1</td>\n",
       "      <td>0</td>\n",
       "      <td>0</td>\n",
       "      <td>0</td>\n",
       "    </tr>\n",
       "    <tr>\n",
       "      <th>4</th>\n",
       "      <td>2.0</td>\n",
       "      <td>1428</td>\n",
       "      <td>1.0</td>\n",
       "      <td>0</td>\n",
       "      <td>0</td>\n",
       "      <td>1</td>\n",
       "      <td>0</td>\n",
       "      <td>1</td>\n",
       "      <td>0</td>\n",
       "      <td>1</td>\n",
       "      <td>...</td>\n",
       "      <td>0</td>\n",
       "      <td>0</td>\n",
       "      <td>0</td>\n",
       "      <td>0</td>\n",
       "      <td>0</td>\n",
       "      <td>0</td>\n",
       "      <td>1</td>\n",
       "      <td>0</td>\n",
       "      <td>0</td>\n",
       "      <td>0</td>\n",
       "    </tr>\n",
       "  </tbody>\n",
       "</table>\n",
       "<p>5 rows × 31 columns</p>\n",
       "</div>"
      ],
      "text/plain": [
       "   TotalVisits  Total Time Spent on Website  Page Views Per Visit  \\\n",
       "0          0.0                            0                   0.0   \n",
       "1          5.0                          674                   2.5   \n",
       "2          2.0                         1532                   2.0   \n",
       "3          1.0                          305                   1.0   \n",
       "4          2.0                         1428                   1.0   \n",
       "\n",
       "   A free copy of Mastering The Interview  API  Landing Page Submission  \\\n",
       "0                                       0    1                        0   \n",
       "1                                       0    1                        0   \n",
       "2                                       1    0                        1   \n",
       "3                                       0    0                        1   \n",
       "4                                       0    0                        1   \n",
       "\n",
       "   Lead Add Form  Better Career Prospects  Student  Unemployed  ...  \\\n",
       "0              0                        1        0           1  ...   \n",
       "1              0                        1        0           1  ...   \n",
       "2              0                        1        1           0  ...   \n",
       "3              0                        1        0           1  ...   \n",
       "4              0                        1        0           1  ...   \n",
       "\n",
       "   LA_Olark Chat Conversation  LA_Other last activity  \\\n",
       "0                           0                       0   \n",
       "1                           0                       0   \n",
       "2                           0                       0   \n",
       "3                           0                       1   \n",
       "4                           0                       0   \n",
       "\n",
       "   LA_Page Visited on Website  LA_SMS Sent  LNA_Email Link Clicked  \\\n",
       "0                           1            0                       0   \n",
       "1                           0            0                       0   \n",
       "2                           0            0                       0   \n",
       "3                           0            0                       0   \n",
       "4                           0            0                       0   \n",
       "\n",
       "   LNA_Email Opened  LNA_Modified  LNA_Olark Chat Conversation  \\\n",
       "0                 0             1                            0   \n",
       "1                 1             0                            0   \n",
       "2                 1             0                            0   \n",
       "3                 0             1                            0   \n",
       "4                 0             1                            0   \n",
       "\n",
       "   LNA_Page Visited on Website  LNA_SMS Sent  \n",
       "0                            0             0  \n",
       "1                            0             0  \n",
       "2                            0             0  \n",
       "3                            0             0  \n",
       "4                            0             0  \n",
       "\n",
       "[5 rows x 31 columns]"
      ]
     },
     "execution_count": 925,
     "metadata": {},
     "output_type": "execute_result"
    }
   ],
   "source": [
    "# Putting feature variable to X\n",
    "X = leads_final.drop(['Lead Number','Converted'], axis=1)\n",
    "X.head()"
   ]
  },
  {
   "cell_type": "code",
   "execution_count": 926,
   "metadata": {},
   "outputs": [
    {
     "data": {
      "text/plain": [
       "0    0\n",
       "1    0\n",
       "2    1\n",
       "3    0\n",
       "4    1\n",
       "Name: Converted, dtype: int64"
      ]
     },
     "execution_count": 926,
     "metadata": {},
     "output_type": "execute_result"
    }
   ],
   "source": [
    "# Putting response variable to y\n",
    "y = leads_final['Converted']\n",
    "\n",
    "y.head()"
   ]
  },
  {
   "cell_type": "code",
   "execution_count": 927,
   "metadata": {},
   "outputs": [],
   "source": [
    "# Splitting the data into train and test\n",
    "X_train, X_test, y_train, y_test = train_test_split(X, y, test_size=0.3, random_state=101)"
   ]
  },
  {
   "cell_type": "code",
   "execution_count": 928,
   "metadata": {},
   "outputs": [
    {
     "data": {
      "text/plain": [
       "(5978, 31)"
      ]
     },
     "execution_count": 928,
     "metadata": {},
     "output_type": "execute_result"
    }
   ],
   "source": [
    "# Inspecting shape\n",
    "X_train.shape"
   ]
  },
  {
   "cell_type": "code",
   "execution_count": 929,
   "metadata": {},
   "outputs": [
    {
     "data": {
      "text/plain": [
       "(2563, 31)"
      ]
     },
     "execution_count": 929,
     "metadata": {},
     "output_type": "execute_result"
    }
   ],
   "source": [
    "# Inspecting shape\n",
    "X_test.shape"
   ]
  },
  {
   "cell_type": "markdown",
   "metadata": {},
   "source": [
    "## Feature Scaling"
   ]
  },
  {
   "cell_type": "code",
   "execution_count": 930,
   "metadata": {},
   "outputs": [],
   "source": [
    "from sklearn.preprocessing import MinMaxScaler"
   ]
  },
  {
   "cell_type": "code",
   "execution_count": 931,
   "metadata": {},
   "outputs": [],
   "source": [
    "scaler = MinMaxScaler()"
   ]
  },
  {
   "cell_type": "code",
   "execution_count": 932,
   "metadata": {},
   "outputs": [],
   "source": [
    "X_train[:] = scaler.fit_transform(X_train)"
   ]
  },
  {
   "cell_type": "code",
   "execution_count": 933,
   "metadata": {},
   "outputs": [
    {
     "data": {
      "text/html": [
       "<div>\n",
       "<style scoped>\n",
       "    .dataframe tbody tr th:only-of-type {\n",
       "        vertical-align: middle;\n",
       "    }\n",
       "\n",
       "    .dataframe tbody tr th {\n",
       "        vertical-align: top;\n",
       "    }\n",
       "\n",
       "    .dataframe thead th {\n",
       "        text-align: right;\n",
       "    }\n",
       "</style>\n",
       "<table border=\"1\" class=\"dataframe\">\n",
       "  <thead>\n",
       "    <tr style=\"text-align: right;\">\n",
       "      <th></th>\n",
       "      <th>TotalVisits</th>\n",
       "      <th>Total Time Spent on Website</th>\n",
       "      <th>Page Views Per Visit</th>\n",
       "      <th>A free copy of Mastering The Interview</th>\n",
       "      <th>API</th>\n",
       "      <th>Landing Page Submission</th>\n",
       "      <th>Lead Add Form</th>\n",
       "      <th>Better Career Prospects</th>\n",
       "      <th>Student</th>\n",
       "      <th>Unemployed</th>\n",
       "      <th>...</th>\n",
       "      <th>LA_Olark Chat Conversation</th>\n",
       "      <th>LA_Other last activity</th>\n",
       "      <th>LA_Page Visited on Website</th>\n",
       "      <th>LA_SMS Sent</th>\n",
       "      <th>LNA_Email Link Clicked</th>\n",
       "      <th>LNA_Email Opened</th>\n",
       "      <th>LNA_Modified</th>\n",
       "      <th>LNA_Olark Chat Conversation</th>\n",
       "      <th>LNA_Page Visited on Website</th>\n",
       "      <th>LNA_SMS Sent</th>\n",
       "    </tr>\n",
       "  </thead>\n",
       "  <tbody>\n",
       "    <tr>\n",
       "      <th>2135</th>\n",
       "      <td>0.272727</td>\n",
       "      <td>0.315207</td>\n",
       "      <td>0.500000</td>\n",
       "      <td>0.0</td>\n",
       "      <td>1.0</td>\n",
       "      <td>0.0</td>\n",
       "      <td>0.0</td>\n",
       "      <td>1.0</td>\n",
       "      <td>0.0</td>\n",
       "      <td>1.0</td>\n",
       "      <td>...</td>\n",
       "      <td>0.0</td>\n",
       "      <td>0.0</td>\n",
       "      <td>0.0</td>\n",
       "      <td>0.0</td>\n",
       "      <td>0.0</td>\n",
       "      <td>1.0</td>\n",
       "      <td>0.0</td>\n",
       "      <td>0.0</td>\n",
       "      <td>0.0</td>\n",
       "      <td>0.0</td>\n",
       "    </tr>\n",
       "    <tr>\n",
       "      <th>8818</th>\n",
       "      <td>0.272727</td>\n",
       "      <td>0.608295</td>\n",
       "      <td>0.166667</td>\n",
       "      <td>0.0</td>\n",
       "      <td>1.0</td>\n",
       "      <td>0.0</td>\n",
       "      <td>0.0</td>\n",
       "      <td>0.0</td>\n",
       "      <td>1.0</td>\n",
       "      <td>0.0</td>\n",
       "      <td>...</td>\n",
       "      <td>1.0</td>\n",
       "      <td>0.0</td>\n",
       "      <td>0.0</td>\n",
       "      <td>0.0</td>\n",
       "      <td>0.0</td>\n",
       "      <td>0.0</td>\n",
       "      <td>0.0</td>\n",
       "      <td>1.0</td>\n",
       "      <td>0.0</td>\n",
       "      <td>0.0</td>\n",
       "    </tr>\n",
       "    <tr>\n",
       "      <th>3328</th>\n",
       "      <td>0.000000</td>\n",
       "      <td>0.000000</td>\n",
       "      <td>0.000000</td>\n",
       "      <td>0.0</td>\n",
       "      <td>1.0</td>\n",
       "      <td>0.0</td>\n",
       "      <td>0.0</td>\n",
       "      <td>1.0</td>\n",
       "      <td>0.0</td>\n",
       "      <td>1.0</td>\n",
       "      <td>...</td>\n",
       "      <td>0.0</td>\n",
       "      <td>0.0</td>\n",
       "      <td>0.0</td>\n",
       "      <td>1.0</td>\n",
       "      <td>0.0</td>\n",
       "      <td>0.0</td>\n",
       "      <td>0.0</td>\n",
       "      <td>0.0</td>\n",
       "      <td>0.0</td>\n",
       "      <td>1.0</td>\n",
       "    </tr>\n",
       "    <tr>\n",
       "      <th>3259</th>\n",
       "      <td>0.000000</td>\n",
       "      <td>0.000000</td>\n",
       "      <td>0.000000</td>\n",
       "      <td>0.0</td>\n",
       "      <td>1.0</td>\n",
       "      <td>0.0</td>\n",
       "      <td>0.0</td>\n",
       "      <td>0.0</td>\n",
       "      <td>1.0</td>\n",
       "      <td>0.0</td>\n",
       "      <td>...</td>\n",
       "      <td>0.0</td>\n",
       "      <td>0.0</td>\n",
       "      <td>0.0</td>\n",
       "      <td>0.0</td>\n",
       "      <td>0.0</td>\n",
       "      <td>1.0</td>\n",
       "      <td>0.0</td>\n",
       "      <td>0.0</td>\n",
       "      <td>0.0</td>\n",
       "      <td>0.0</td>\n",
       "    </tr>\n",
       "    <tr>\n",
       "      <th>1551</th>\n",
       "      <td>0.545455</td>\n",
       "      <td>0.150230</td>\n",
       "      <td>1.000000</td>\n",
       "      <td>1.0</td>\n",
       "      <td>0.0</td>\n",
       "      <td>1.0</td>\n",
       "      <td>0.0</td>\n",
       "      <td>1.0</td>\n",
       "      <td>0.0</td>\n",
       "      <td>1.0</td>\n",
       "      <td>...</td>\n",
       "      <td>0.0</td>\n",
       "      <td>0.0</td>\n",
       "      <td>0.0</td>\n",
       "      <td>0.0</td>\n",
       "      <td>0.0</td>\n",
       "      <td>0.0</td>\n",
       "      <td>1.0</td>\n",
       "      <td>0.0</td>\n",
       "      <td>0.0</td>\n",
       "      <td>0.0</td>\n",
       "    </tr>\n",
       "  </tbody>\n",
       "</table>\n",
       "<p>5 rows × 31 columns</p>\n",
       "</div>"
      ],
      "text/plain": [
       "      TotalVisits  Total Time Spent on Website  Page Views Per Visit  \\\n",
       "2135     0.272727                     0.315207              0.500000   \n",
       "8818     0.272727                     0.608295              0.166667   \n",
       "3328     0.000000                     0.000000              0.000000   \n",
       "3259     0.000000                     0.000000              0.000000   \n",
       "1551     0.545455                     0.150230              1.000000   \n",
       "\n",
       "      A free copy of Mastering The Interview  API  Landing Page Submission  \\\n",
       "2135                                     0.0  1.0                      0.0   \n",
       "8818                                     0.0  1.0                      0.0   \n",
       "3328                                     0.0  1.0                      0.0   \n",
       "3259                                     0.0  1.0                      0.0   \n",
       "1551                                     1.0  0.0                      1.0   \n",
       "\n",
       "      Lead Add Form  Better Career Prospects  Student  Unemployed  ...  \\\n",
       "2135            0.0                      1.0      0.0         1.0  ...   \n",
       "8818            0.0                      0.0      1.0         0.0  ...   \n",
       "3328            0.0                      1.0      0.0         1.0  ...   \n",
       "3259            0.0                      0.0      1.0         0.0  ...   \n",
       "1551            0.0                      1.0      0.0         1.0  ...   \n",
       "\n",
       "      LA_Olark Chat Conversation  LA_Other last activity  \\\n",
       "2135                         0.0                     0.0   \n",
       "8818                         1.0                     0.0   \n",
       "3328                         0.0                     0.0   \n",
       "3259                         0.0                     0.0   \n",
       "1551                         0.0                     0.0   \n",
       "\n",
       "      LA_Page Visited on Website  LA_SMS Sent  LNA_Email Link Clicked  \\\n",
       "2135                         0.0          0.0                     0.0   \n",
       "8818                         0.0          0.0                     0.0   \n",
       "3328                         0.0          1.0                     0.0   \n",
       "3259                         0.0          0.0                     0.0   \n",
       "1551                         0.0          0.0                     0.0   \n",
       "\n",
       "      LNA_Email Opened  LNA_Modified  LNA_Olark Chat Conversation  \\\n",
       "2135               1.0           0.0                          0.0   \n",
       "8818               0.0           0.0                          1.0   \n",
       "3328               0.0           0.0                          0.0   \n",
       "3259               1.0           0.0                          0.0   \n",
       "1551               0.0           1.0                          0.0   \n",
       "\n",
       "      LNA_Page Visited on Website  LNA_SMS Sent  \n",
       "2135                          0.0           0.0  \n",
       "8818                          0.0           0.0  \n",
       "3328                          0.0           1.0  \n",
       "3259                          0.0           0.0  \n",
       "1551                          0.0           0.0  \n",
       "\n",
       "[5 rows x 31 columns]"
      ]
     },
     "execution_count": 933,
     "metadata": {},
     "output_type": "execute_result"
    }
   ],
   "source": [
    "X_train.head()"
   ]
  },
  {
   "cell_type": "code",
   "execution_count": 934,
   "metadata": {},
   "outputs": [
    {
     "data": {
      "text/html": [
       "<div>\n",
       "<style scoped>\n",
       "    .dataframe tbody tr th:only-of-type {\n",
       "        vertical-align: middle;\n",
       "    }\n",
       "\n",
       "    .dataframe tbody tr th {\n",
       "        vertical-align: top;\n",
       "    }\n",
       "\n",
       "    .dataframe thead th {\n",
       "        text-align: right;\n",
       "    }\n",
       "</style>\n",
       "<table border=\"1\" class=\"dataframe\">\n",
       "  <thead>\n",
       "    <tr style=\"text-align: right;\">\n",
       "      <th></th>\n",
       "      <th>TotalVisits</th>\n",
       "      <th>Total Time Spent on Website</th>\n",
       "      <th>Page Views Per Visit</th>\n",
       "      <th>A free copy of Mastering The Interview</th>\n",
       "      <th>API</th>\n",
       "      <th>Landing Page Submission</th>\n",
       "      <th>Lead Add Form</th>\n",
       "      <th>Better Career Prospects</th>\n",
       "      <th>Student</th>\n",
       "      <th>Unemployed</th>\n",
       "      <th>...</th>\n",
       "      <th>LA_Olark Chat Conversation</th>\n",
       "      <th>LA_Other last activity</th>\n",
       "      <th>LA_Page Visited on Website</th>\n",
       "      <th>LA_SMS Sent</th>\n",
       "      <th>LNA_Email Link Clicked</th>\n",
       "      <th>LNA_Email Opened</th>\n",
       "      <th>LNA_Modified</th>\n",
       "      <th>LNA_Olark Chat Conversation</th>\n",
       "      <th>LNA_Page Visited on Website</th>\n",
       "      <th>LNA_SMS Sent</th>\n",
       "    </tr>\n",
       "  </thead>\n",
       "  <tbody>\n",
       "    <tr>\n",
       "      <th>count</th>\n",
       "      <td>5978.000000</td>\n",
       "      <td>5978.000000</td>\n",
       "      <td>5978.000000</td>\n",
       "      <td>5978.000000</td>\n",
       "      <td>5978.000000</td>\n",
       "      <td>5978.000000</td>\n",
       "      <td>5978.000000</td>\n",
       "      <td>5978.00000</td>\n",
       "      <td>5978.000000</td>\n",
       "      <td>5978.000000</td>\n",
       "      <td>...</td>\n",
       "      <td>5978.000000</td>\n",
       "      <td>5978.000000</td>\n",
       "      <td>5978.000000</td>\n",
       "      <td>5978.000000</td>\n",
       "      <td>5978.000000</td>\n",
       "      <td>5978.000000</td>\n",
       "      <td>5978.000000</td>\n",
       "      <td>5978.000000</td>\n",
       "      <td>5978.000000</td>\n",
       "      <td>5978.000000</td>\n",
       "    </tr>\n",
       "    <tr>\n",
       "      <th>mean</th>\n",
       "      <td>0.255056</td>\n",
       "      <td>0.216562</td>\n",
       "      <td>0.347659</td>\n",
       "      <td>0.299766</td>\n",
       "      <td>0.413014</td>\n",
       "      <td>0.514386</td>\n",
       "      <td>0.068919</td>\n",
       "      <td>0.69990</td>\n",
       "      <td>0.321345</td>\n",
       "      <td>0.600368</td>\n",
       "      <td>...</td>\n",
       "      <td>0.110907</td>\n",
       "      <td>0.020074</td>\n",
       "      <td>0.061559</td>\n",
       "      <td>0.299599</td>\n",
       "      <td>0.019070</td>\n",
       "      <td>0.310304</td>\n",
       "      <td>0.369689</td>\n",
       "      <td>0.019237</td>\n",
       "      <td>0.028939</td>\n",
       "      <td>0.236367</td>\n",
       "    </tr>\n",
       "    <tr>\n",
       "      <th>std</th>\n",
       "      <td>0.220428</td>\n",
       "      <td>0.250363</td>\n",
       "      <td>0.277518</td>\n",
       "      <td>0.458194</td>\n",
       "      <td>0.492417</td>\n",
       "      <td>0.499835</td>\n",
       "      <td>0.253338</td>\n",
       "      <td>0.45834</td>\n",
       "      <td>0.467032</td>\n",
       "      <td>0.489864</td>\n",
       "      <td>...</td>\n",
       "      <td>0.314043</td>\n",
       "      <td>0.140264</td>\n",
       "      <td>0.240373</td>\n",
       "      <td>0.458120</td>\n",
       "      <td>0.136782</td>\n",
       "      <td>0.462657</td>\n",
       "      <td>0.482761</td>\n",
       "      <td>0.137369</td>\n",
       "      <td>0.167650</td>\n",
       "      <td>0.424885</td>\n",
       "    </tr>\n",
       "    <tr>\n",
       "      <th>min</th>\n",
       "      <td>0.000000</td>\n",
       "      <td>0.000000</td>\n",
       "      <td>0.000000</td>\n",
       "      <td>0.000000</td>\n",
       "      <td>0.000000</td>\n",
       "      <td>0.000000</td>\n",
       "      <td>0.000000</td>\n",
       "      <td>0.00000</td>\n",
       "      <td>0.000000</td>\n",
       "      <td>0.000000</td>\n",
       "      <td>...</td>\n",
       "      <td>0.000000</td>\n",
       "      <td>0.000000</td>\n",
       "      <td>0.000000</td>\n",
       "      <td>0.000000</td>\n",
       "      <td>0.000000</td>\n",
       "      <td>0.000000</td>\n",
       "      <td>0.000000</td>\n",
       "      <td>0.000000</td>\n",
       "      <td>0.000000</td>\n",
       "      <td>0.000000</td>\n",
       "    </tr>\n",
       "    <tr>\n",
       "      <th>25%</th>\n",
       "      <td>0.000000</td>\n",
       "      <td>0.000000</td>\n",
       "      <td>0.000000</td>\n",
       "      <td>0.000000</td>\n",
       "      <td>0.000000</td>\n",
       "      <td>0.000000</td>\n",
       "      <td>0.000000</td>\n",
       "      <td>0.00000</td>\n",
       "      <td>0.000000</td>\n",
       "      <td>0.000000</td>\n",
       "      <td>...</td>\n",
       "      <td>0.000000</td>\n",
       "      <td>0.000000</td>\n",
       "      <td>0.000000</td>\n",
       "      <td>0.000000</td>\n",
       "      <td>0.000000</td>\n",
       "      <td>0.000000</td>\n",
       "      <td>0.000000</td>\n",
       "      <td>0.000000</td>\n",
       "      <td>0.000000</td>\n",
       "      <td>0.000000</td>\n",
       "    </tr>\n",
       "    <tr>\n",
       "      <th>50%</th>\n",
       "      <td>0.181818</td>\n",
       "      <td>0.106452</td>\n",
       "      <td>0.333333</td>\n",
       "      <td>0.000000</td>\n",
       "      <td>0.000000</td>\n",
       "      <td>1.000000</td>\n",
       "      <td>0.000000</td>\n",
       "      <td>1.00000</td>\n",
       "      <td>0.000000</td>\n",
       "      <td>1.000000</td>\n",
       "      <td>...</td>\n",
       "      <td>0.000000</td>\n",
       "      <td>0.000000</td>\n",
       "      <td>0.000000</td>\n",
       "      <td>0.000000</td>\n",
       "      <td>0.000000</td>\n",
       "      <td>0.000000</td>\n",
       "      <td>0.000000</td>\n",
       "      <td>0.000000</td>\n",
       "      <td>0.000000</td>\n",
       "      <td>0.000000</td>\n",
       "    </tr>\n",
       "    <tr>\n",
       "      <th>75%</th>\n",
       "      <td>0.363636</td>\n",
       "      <td>0.414171</td>\n",
       "      <td>0.500000</td>\n",
       "      <td>1.000000</td>\n",
       "      <td>1.000000</td>\n",
       "      <td>1.000000</td>\n",
       "      <td>0.000000</td>\n",
       "      <td>1.00000</td>\n",
       "      <td>1.000000</td>\n",
       "      <td>1.000000</td>\n",
       "      <td>...</td>\n",
       "      <td>0.000000</td>\n",
       "      <td>0.000000</td>\n",
       "      <td>0.000000</td>\n",
       "      <td>1.000000</td>\n",
       "      <td>0.000000</td>\n",
       "      <td>1.000000</td>\n",
       "      <td>1.000000</td>\n",
       "      <td>0.000000</td>\n",
       "      <td>0.000000</td>\n",
       "      <td>0.000000</td>\n",
       "    </tr>\n",
       "    <tr>\n",
       "      <th>max</th>\n",
       "      <td>1.000000</td>\n",
       "      <td>1.000000</td>\n",
       "      <td>1.000000</td>\n",
       "      <td>1.000000</td>\n",
       "      <td>1.000000</td>\n",
       "      <td>1.000000</td>\n",
       "      <td>1.000000</td>\n",
       "      <td>1.00000</td>\n",
       "      <td>1.000000</td>\n",
       "      <td>1.000000</td>\n",
       "      <td>...</td>\n",
       "      <td>1.000000</td>\n",
       "      <td>1.000000</td>\n",
       "      <td>1.000000</td>\n",
       "      <td>1.000000</td>\n",
       "      <td>1.000000</td>\n",
       "      <td>1.000000</td>\n",
       "      <td>1.000000</td>\n",
       "      <td>1.000000</td>\n",
       "      <td>1.000000</td>\n",
       "      <td>1.000000</td>\n",
       "    </tr>\n",
       "  </tbody>\n",
       "</table>\n",
       "<p>8 rows × 31 columns</p>\n",
       "</div>"
      ],
      "text/plain": [
       "       TotalVisits  Total Time Spent on Website  Page Views Per Visit  \\\n",
       "count  5978.000000                  5978.000000           5978.000000   \n",
       "mean      0.255056                     0.216562              0.347659   \n",
       "std       0.220428                     0.250363              0.277518   \n",
       "min       0.000000                     0.000000              0.000000   \n",
       "25%       0.000000                     0.000000              0.000000   \n",
       "50%       0.181818                     0.106452              0.333333   \n",
       "75%       0.363636                     0.414171              0.500000   \n",
       "max       1.000000                     1.000000              1.000000   \n",
       "\n",
       "       A free copy of Mastering The Interview          API  \\\n",
       "count                             5978.000000  5978.000000   \n",
       "mean                                 0.299766     0.413014   \n",
       "std                                  0.458194     0.492417   \n",
       "min                                  0.000000     0.000000   \n",
       "25%                                  0.000000     0.000000   \n",
       "50%                                  0.000000     0.000000   \n",
       "75%                                  1.000000     1.000000   \n",
       "max                                  1.000000     1.000000   \n",
       "\n",
       "       Landing Page Submission  Lead Add Form  Better Career Prospects  \\\n",
       "count              5978.000000    5978.000000               5978.00000   \n",
       "mean                  0.514386       0.068919                  0.69990   \n",
       "std                   0.499835       0.253338                  0.45834   \n",
       "min                   0.000000       0.000000                  0.00000   \n",
       "25%                   0.000000       0.000000                  0.00000   \n",
       "50%                   1.000000       0.000000                  1.00000   \n",
       "75%                   1.000000       0.000000                  1.00000   \n",
       "max                   1.000000       1.000000                  1.00000   \n",
       "\n",
       "           Student   Unemployed  ...  LA_Olark Chat Conversation  \\\n",
       "count  5978.000000  5978.000000  ...                 5978.000000   \n",
       "mean      0.321345     0.600368  ...                    0.110907   \n",
       "std       0.467032     0.489864  ...                    0.314043   \n",
       "min       0.000000     0.000000  ...                    0.000000   \n",
       "25%       0.000000     0.000000  ...                    0.000000   \n",
       "50%       0.000000     1.000000  ...                    0.000000   \n",
       "75%       1.000000     1.000000  ...                    0.000000   \n",
       "max       1.000000     1.000000  ...                    1.000000   \n",
       "\n",
       "       LA_Other last activity  LA_Page Visited on Website  LA_SMS Sent  \\\n",
       "count             5978.000000                 5978.000000  5978.000000   \n",
       "mean                 0.020074                    0.061559     0.299599   \n",
       "std                  0.140264                    0.240373     0.458120   \n",
       "min                  0.000000                    0.000000     0.000000   \n",
       "25%                  0.000000                    0.000000     0.000000   \n",
       "50%                  0.000000                    0.000000     0.000000   \n",
       "75%                  0.000000                    0.000000     1.000000   \n",
       "max                  1.000000                    1.000000     1.000000   \n",
       "\n",
       "       LNA_Email Link Clicked  LNA_Email Opened  LNA_Modified  \\\n",
       "count             5978.000000       5978.000000   5978.000000   \n",
       "mean                 0.019070          0.310304      0.369689   \n",
       "std                  0.136782          0.462657      0.482761   \n",
       "min                  0.000000          0.000000      0.000000   \n",
       "25%                  0.000000          0.000000      0.000000   \n",
       "50%                  0.000000          0.000000      0.000000   \n",
       "75%                  0.000000          1.000000      1.000000   \n",
       "max                  1.000000          1.000000      1.000000   \n",
       "\n",
       "       LNA_Olark Chat Conversation  LNA_Page Visited on Website  LNA_SMS Sent  \n",
       "count                  5978.000000                  5978.000000   5978.000000  \n",
       "mean                      0.019237                     0.028939      0.236367  \n",
       "std                       0.137369                     0.167650      0.424885  \n",
       "min                       0.000000                     0.000000      0.000000  \n",
       "25%                       0.000000                     0.000000      0.000000  \n",
       "50%                       0.000000                     0.000000      0.000000  \n",
       "75%                       0.000000                     0.000000      0.000000  \n",
       "max                       1.000000                     1.000000      1.000000  \n",
       "\n",
       "[8 rows x 31 columns]"
      ]
     },
     "execution_count": 934,
     "metadata": {},
     "output_type": "execute_result"
    }
   ],
   "source": [
    "# Inspecting descriptive summary post normalising the data\n",
    "X_train.describe()"
   ]
  },
  {
   "cell_type": "markdown",
   "metadata": {},
   "source": [
    "# RFE"
   ]
  },
  {
   "cell_type": "code",
   "execution_count": 935,
   "metadata": {},
   "outputs": [],
   "source": [
    "from sklearn.linear_model import LogisticRegression\n",
    "\n",
    "logreg = LogisticRegression(solver = 'lbfgs')  #solver='lbfgs',max_iter=100"
   ]
  },
  {
   "cell_type": "code",
   "execution_count": 936,
   "metadata": {},
   "outputs": [],
   "source": [
    "from sklearn.feature_selection import RFE\n",
    "\n",
    "rfe = RFE(logreg, 15)             # running RFE with 15 variables as output\n",
    "rfe = rfe.fit(X_train, y_train)"
   ]
  },
  {
   "cell_type": "code",
   "execution_count": 937,
   "metadata": {},
   "outputs": [
    {
     "data": {
      "text/plain": [
       "[('TotalVisits', True, 1),\n",
       " ('Total Time Spent on Website', True, 1),\n",
       " ('Page Views Per Visit', True, 1),\n",
       " ('A free copy of Mastering The Interview', False, 17),\n",
       " ('API', True, 1),\n",
       " ('Landing Page Submission', True, 1),\n",
       " ('Lead Add Form', True, 1),\n",
       " ('Better Career Prospects', True, 1),\n",
       " ('Student', True, 1),\n",
       " ('Unemployed', True, 1),\n",
       " ('Direct traffic', False, 10),\n",
       " ('Google', False, 13),\n",
       " ('Olark Chat', True, 1),\n",
       " ('Organic search', False, 11),\n",
       " ('Reference', False, 3),\n",
       " ('Referral Sites', False, 12),\n",
       " ('Welingak Website', True, 1),\n",
       " ('LA_Converted to Lead', True, 1),\n",
       " ('LA_Email Bounced', True, 1),\n",
       " ('LA_Email Link Clicked', False, 16),\n",
       " ('LA_Email Opened', False, 8),\n",
       " ('LA_Olark Chat Conversation', True, 1),\n",
       " ('LA_Other last activity', False, 9),\n",
       " ('LA_Page Visited on Website', False, 14),\n",
       " ('LA_SMS Sent', True, 1),\n",
       " ('LNA_Email Link Clicked', False, 5),\n",
       " ('LNA_Email Opened', False, 7),\n",
       " ('LNA_Modified', False, 2),\n",
       " ('LNA_Olark Chat Conversation', False, 6),\n",
       " ('LNA_Page Visited on Website', False, 4),\n",
       " ('LNA_SMS Sent', False, 15)]"
      ]
     },
     "execution_count": 937,
     "metadata": {},
     "output_type": "execute_result"
    }
   ],
   "source": [
    "list(zip(X_train.columns, rfe.support_, rfe.ranking_))"
   ]
  },
  {
   "cell_type": "code",
   "execution_count": 938,
   "metadata": {},
   "outputs": [],
   "source": [
    "# Creating a list of columns selected by RFE\n",
    "col = X_train.columns[rfe.support_]"
   ]
  },
  {
   "cell_type": "code",
   "execution_count": 939,
   "metadata": {},
   "outputs": [
    {
     "data": {
      "text/plain": [
       "Index(['TotalVisits', 'Total Time Spent on Website', 'Page Views Per Visit',\n",
       "       'API', 'Landing Page Submission', 'Lead Add Form',\n",
       "       'Better Career Prospects', 'Student', 'Unemployed', 'Olark Chat',\n",
       "       'Welingak Website', 'LA_Converted to Lead', 'LA_Email Bounced',\n",
       "       'LA_Olark Chat Conversation', 'LA_SMS Sent'],\n",
       "      dtype='object')"
      ]
     },
     "execution_count": 939,
     "metadata": {},
     "output_type": "execute_result"
    }
   ],
   "source": [
    "col"
   ]
  },
  {
   "cell_type": "markdown",
   "metadata": {},
   "source": [
    "#### Assessing the model with StatsModels"
   ]
  },
  {
   "cell_type": "code",
   "execution_count": 940,
   "metadata": {},
   "outputs": [],
   "source": [
    "import statsmodels.api as sm"
   ]
  },
  {
   "cell_type": "code",
   "execution_count": 941,
   "metadata": {},
   "outputs": [
    {
     "data": {
      "text/html": [
       "<table class=\"simpletable\">\n",
       "<caption>Generalized Linear Model Regression Results</caption>\n",
       "<tr>\n",
       "  <th>Dep. Variable:</th>      <td>Converted</td>    <th>  No. Observations:  </th>  <td>  5978</td>  \n",
       "</tr>\n",
       "<tr>\n",
       "  <th>Model:</th>                 <td>GLM</td>       <th>  Df Residuals:      </th>  <td>  5962</td>  \n",
       "</tr>\n",
       "<tr>\n",
       "  <th>Model Family:</th>       <td>Binomial</td>     <th>  Df Model:          </th>  <td>    15</td>  \n",
       "</tr>\n",
       "<tr>\n",
       "  <th>Link Function:</th>        <td>logit</td>      <th>  Scale:             </th> <td>  1.0000</td> \n",
       "</tr>\n",
       "<tr>\n",
       "  <th>Method:</th>               <td>IRLS</td>       <th>  Log-Likelihood:    </th> <td> -2379.9</td> \n",
       "</tr>\n",
       "<tr>\n",
       "  <th>Date:</th>           <td>Sun, 03 Mar 2019</td> <th>  Deviance:          </th> <td>  4759.7</td> \n",
       "</tr>\n",
       "<tr>\n",
       "  <th>Time:</th>               <td>21:24:28</td>     <th>  Pearson chi2:      </th> <td>6.04e+03</td> \n",
       "</tr>\n",
       "<tr>\n",
       "  <th>No. Iterations:</th>         <td>7</td>        <th>  Covariance Type:   </th> <td>nonrobust</td>\n",
       "</tr>\n",
       "</table>\n",
       "<table class=\"simpletable\">\n",
       "<tr>\n",
       "               <td></td>                  <th>coef</th>     <th>std err</th>      <th>z</th>      <th>P>|z|</th>  <th>[0.025</th>    <th>0.975]</th>  \n",
       "</tr>\n",
       "<tr>\n",
       "  <th>const</th>                       <td>   -0.4944</td> <td>    0.596</td> <td>   -0.829</td> <td> 0.407</td> <td>   -1.663</td> <td>    0.674</td>\n",
       "</tr>\n",
       "<tr>\n",
       "  <th>TotalVisits</th>                 <td>    1.4040</td> <td>    0.250</td> <td>    5.619</td> <td> 0.000</td> <td>    0.914</td> <td>    1.894</td>\n",
       "</tr>\n",
       "<tr>\n",
       "  <th>Total Time Spent on Website</th> <td>    4.5564</td> <td>    0.171</td> <td>   26.647</td> <td> 0.000</td> <td>    4.221</td> <td>    4.892</td>\n",
       "</tr>\n",
       "<tr>\n",
       "  <th>Page Views Per Visit</th>        <td>   -0.8669</td> <td>    0.225</td> <td>   -3.845</td> <td> 0.000</td> <td>   -1.309</td> <td>   -0.425</td>\n",
       "</tr>\n",
       "<tr>\n",
       "  <th>API</th>                         <td>   -0.6230</td> <td>    0.540</td> <td>   -1.154</td> <td> 0.248</td> <td>   -1.681</td> <td>    0.435</td>\n",
       "</tr>\n",
       "<tr>\n",
       "  <th>Landing Page Submission</th>     <td>   -0.9902</td> <td>    0.540</td> <td>   -1.835</td> <td> 0.067</td> <td>   -2.048</td> <td>    0.068</td>\n",
       "</tr>\n",
       "<tr>\n",
       "  <th>Lead Add Form</th>               <td>    2.8435</td> <td>    0.562</td> <td>    5.059</td> <td> 0.000</td> <td>    1.742</td> <td>    3.945</td>\n",
       "</tr>\n",
       "<tr>\n",
       "  <th>Better Career Prospects</th>     <td>    1.5744</td> <td>    0.232</td> <td>    6.778</td> <td> 0.000</td> <td>    1.119</td> <td>    2.030</td>\n",
       "</tr>\n",
       "<tr>\n",
       "  <th>Student</th>                     <td>   -2.2007</td> <td>    0.278</td> <td>   -7.907</td> <td> 0.000</td> <td>   -2.746</td> <td>   -1.655</td>\n",
       "</tr>\n",
       "<tr>\n",
       "  <th>Unemployed</th>                  <td>   -2.4701</td> <td>    0.183</td> <td>  -13.520</td> <td> 0.000</td> <td>   -2.828</td> <td>   -2.112</td>\n",
       "</tr>\n",
       "<tr>\n",
       "  <th>Olark Chat</th>                  <td>    1.3210</td> <td>    0.151</td> <td>    8.775</td> <td> 0.000</td> <td>    1.026</td> <td>    1.616</td>\n",
       "</tr>\n",
       "<tr>\n",
       "  <th>Welingak Website</th>            <td>    1.8242</td> <td>    0.647</td> <td>    2.819</td> <td> 0.005</td> <td>    0.556</td> <td>    3.092</td>\n",
       "</tr>\n",
       "<tr>\n",
       "  <th>LA_Converted to Lead</th>        <td>   -1.3694</td> <td>    0.241</td> <td>   -5.689</td> <td> 0.000</td> <td>   -1.841</td> <td>   -0.898</td>\n",
       "</tr>\n",
       "<tr>\n",
       "  <th>LA_Email Bounced</th>            <td>   -1.9622</td> <td>    0.359</td> <td>   -5.460</td> <td> 0.000</td> <td>   -2.667</td> <td>   -1.258</td>\n",
       "</tr>\n",
       "<tr>\n",
       "  <th>LA_Olark Chat Conversation</th>  <td>   -1.6344</td> <td>    0.177</td> <td>   -9.210</td> <td> 0.000</td> <td>   -1.982</td> <td>   -1.287</td>\n",
       "</tr>\n",
       "<tr>\n",
       "  <th>LA_SMS Sent</th>                 <td>    1.2548</td> <td>    0.079</td> <td>   15.842</td> <td> 0.000</td> <td>    1.100</td> <td>    1.410</td>\n",
       "</tr>\n",
       "</table>"
      ],
      "text/plain": [
       "<class 'statsmodels.iolib.summary.Summary'>\n",
       "\"\"\"\n",
       "                 Generalized Linear Model Regression Results                  \n",
       "==============================================================================\n",
       "Dep. Variable:              Converted   No. Observations:                 5978\n",
       "Model:                            GLM   Df Residuals:                     5962\n",
       "Model Family:                Binomial   Df Model:                           15\n",
       "Link Function:                  logit   Scale:                          1.0000\n",
       "Method:                          IRLS   Log-Likelihood:                -2379.9\n",
       "Date:                Sun, 03 Mar 2019   Deviance:                       4759.7\n",
       "Time:                        21:24:28   Pearson chi2:                 6.04e+03\n",
       "No. Iterations:                     7   Covariance Type:             nonrobust\n",
       "===============================================================================================\n",
       "                                  coef    std err          z      P>|z|      [0.025      0.975]\n",
       "-----------------------------------------------------------------------------------------------\n",
       "const                          -0.4944      0.596     -0.829      0.407      -1.663       0.674\n",
       "TotalVisits                     1.4040      0.250      5.619      0.000       0.914       1.894\n",
       "Total Time Spent on Website     4.5564      0.171     26.647      0.000       4.221       4.892\n",
       "Page Views Per Visit           -0.8669      0.225     -3.845      0.000      -1.309      -0.425\n",
       "API                            -0.6230      0.540     -1.154      0.248      -1.681       0.435\n",
       "Landing Page Submission        -0.9902      0.540     -1.835      0.067      -2.048       0.068\n",
       "Lead Add Form                   2.8435      0.562      5.059      0.000       1.742       3.945\n",
       "Better Career Prospects         1.5744      0.232      6.778      0.000       1.119       2.030\n",
       "Student                        -2.2007      0.278     -7.907      0.000      -2.746      -1.655\n",
       "Unemployed                     -2.4701      0.183    -13.520      0.000      -2.828      -2.112\n",
       "Olark Chat                      1.3210      0.151      8.775      0.000       1.026       1.616\n",
       "Welingak Website                1.8242      0.647      2.819      0.005       0.556       3.092\n",
       "LA_Converted to Lead           -1.3694      0.241     -5.689      0.000      -1.841      -0.898\n",
       "LA_Email Bounced               -1.9622      0.359     -5.460      0.000      -2.667      -1.258\n",
       "LA_Olark Chat Conversation     -1.6344      0.177     -9.210      0.000      -1.982      -1.287\n",
       "LA_SMS Sent                     1.2548      0.079     15.842      0.000       1.100       1.410\n",
       "===============================================================================================\n",
       "\"\"\""
      ]
     },
     "execution_count": 941,
     "metadata": {},
     "output_type": "execute_result"
    }
   ],
   "source": [
    "X_train_sm = sm.add_constant(X_train[col])\n",
    "log1 = sm.GLM(y_train,X_train_sm, family = sm.families.Binomial())\n",
    "res = log1.fit()\n",
    "res.summary()"
   ]
  },
  {
   "cell_type": "code",
   "execution_count": 942,
   "metadata": {},
   "outputs": [],
   "source": [
    "# Dropping variable 'API' since it's insignificant i.e. P>|z| >0.05\n",
    "col = col.drop('API') "
   ]
  },
  {
   "cell_type": "code",
   "execution_count": 943,
   "metadata": {},
   "outputs": [
    {
     "data": {
      "text/html": [
       "<table class=\"simpletable\">\n",
       "<caption>Generalized Linear Model Regression Results</caption>\n",
       "<tr>\n",
       "  <th>Dep. Variable:</th>      <td>Converted</td>    <th>  No. Observations:  </th>  <td>  5978</td>  \n",
       "</tr>\n",
       "<tr>\n",
       "  <th>Model:</th>                 <td>GLM</td>       <th>  Df Residuals:      </th>  <td>  5963</td>  \n",
       "</tr>\n",
       "<tr>\n",
       "  <th>Model Family:</th>       <td>Binomial</td>     <th>  Df Model:          </th>  <td>    14</td>  \n",
       "</tr>\n",
       "<tr>\n",
       "  <th>Link Function:</th>        <td>logit</td>      <th>  Scale:             </th> <td>  1.0000</td> \n",
       "</tr>\n",
       "<tr>\n",
       "  <th>Method:</th>               <td>IRLS</td>       <th>  Log-Likelihood:    </th> <td> -2380.5</td> \n",
       "</tr>\n",
       "<tr>\n",
       "  <th>Date:</th>           <td>Sun, 03 Mar 2019</td> <th>  Deviance:          </th> <td>  4760.9</td> \n",
       "</tr>\n",
       "<tr>\n",
       "  <th>Time:</th>               <td>21:24:28</td>     <th>  Pearson chi2:      </th> <td>6.04e+03</td> \n",
       "</tr>\n",
       "<tr>\n",
       "  <th>No. Iterations:</th>         <td>7</td>        <th>  Covariance Type:   </th> <td>nonrobust</td>\n",
       "</tr>\n",
       "</table>\n",
       "<table class=\"simpletable\">\n",
       "<tr>\n",
       "               <td></td>                  <th>coef</th>     <th>std err</th>      <th>z</th>      <th>P>|z|</th>  <th>[0.025</th>    <th>0.975]</th>  \n",
       "</tr>\n",
       "<tr>\n",
       "  <th>const</th>                       <td>   -1.0817</td> <td>    0.316</td> <td>   -3.422</td> <td> 0.001</td> <td>   -1.701</td> <td>   -0.462</td>\n",
       "</tr>\n",
       "<tr>\n",
       "  <th>TotalVisits</th>                 <td>    1.3859</td> <td>    0.249</td> <td>    5.563</td> <td> 0.000</td> <td>    0.898</td> <td>    1.874</td>\n",
       "</tr>\n",
       "<tr>\n",
       "  <th>Total Time Spent on Website</th> <td>    4.5416</td> <td>    0.170</td> <td>   26.662</td> <td> 0.000</td> <td>    4.208</td> <td>    4.875</td>\n",
       "</tr>\n",
       "<tr>\n",
       "  <th>Page Views Per Visit</th>        <td>   -0.8900</td> <td>    0.225</td> <td>   -3.964</td> <td> 0.000</td> <td>   -1.330</td> <td>   -0.450</td>\n",
       "</tr>\n",
       "<tr>\n",
       "  <th>Landing Page Submission</th>     <td>   -0.3759</td> <td>    0.095</td> <td>   -3.958</td> <td> 0.000</td> <td>   -0.562</td> <td>   -0.190</td>\n",
       "</tr>\n",
       "<tr>\n",
       "  <th>Lead Add Form</th>               <td>    3.4281</td> <td>    0.251</td> <td>   13.682</td> <td> 0.000</td> <td>    2.937</td> <td>    3.919</td>\n",
       "</tr>\n",
       "<tr>\n",
       "  <th>Better Career Prospects</th>     <td>    1.5740</td> <td>    0.232</td> <td>    6.782</td> <td> 0.000</td> <td>    1.119</td> <td>    2.029</td>\n",
       "</tr>\n",
       "<tr>\n",
       "  <th>Student</th>                     <td>   -2.2044</td> <td>    0.278</td> <td>   -7.925</td> <td> 0.000</td> <td>   -2.750</td> <td>   -1.659</td>\n",
       "</tr>\n",
       "<tr>\n",
       "  <th>Unemployed</th>                  <td>   -2.4713</td> <td>    0.183</td> <td>  -13.525</td> <td> 0.000</td> <td>   -2.829</td> <td>   -2.113</td>\n",
       "</tr>\n",
       "<tr>\n",
       "  <th>Olark Chat</th>                  <td>    1.2903</td> <td>    0.148</td> <td>    8.723</td> <td> 0.000</td> <td>    1.000</td> <td>    1.580</td>\n",
       "</tr>\n",
       "<tr>\n",
       "  <th>Welingak Website</th>            <td>    1.8848</td> <td>    0.656</td> <td>    2.873</td> <td> 0.004</td> <td>    0.599</td> <td>    3.171</td>\n",
       "</tr>\n",
       "<tr>\n",
       "  <th>LA_Converted to Lead</th>        <td>   -1.3812</td> <td>    0.240</td> <td>   -5.747</td> <td> 0.000</td> <td>   -1.852</td> <td>   -0.910</td>\n",
       "</tr>\n",
       "<tr>\n",
       "  <th>LA_Email Bounced</th>            <td>   -1.9701</td> <td>    0.359</td> <td>   -5.480</td> <td> 0.000</td> <td>   -2.675</td> <td>   -1.266</td>\n",
       "</tr>\n",
       "<tr>\n",
       "  <th>LA_Olark Chat Conversation</th>  <td>   -1.6383</td> <td>    0.177</td> <td>   -9.238</td> <td> 0.000</td> <td>   -1.986</td> <td>   -1.291</td>\n",
       "</tr>\n",
       "<tr>\n",
       "  <th>LA_SMS Sent</th>                 <td>    1.2525</td> <td>    0.079</td> <td>   15.822</td> <td> 0.000</td> <td>    1.097</td> <td>    1.408</td>\n",
       "</tr>\n",
       "</table>"
      ],
      "text/plain": [
       "<class 'statsmodels.iolib.summary.Summary'>\n",
       "\"\"\"\n",
       "                 Generalized Linear Model Regression Results                  \n",
       "==============================================================================\n",
       "Dep. Variable:              Converted   No. Observations:                 5978\n",
       "Model:                            GLM   Df Residuals:                     5963\n",
       "Model Family:                Binomial   Df Model:                           14\n",
       "Link Function:                  logit   Scale:                          1.0000\n",
       "Method:                          IRLS   Log-Likelihood:                -2380.5\n",
       "Date:                Sun, 03 Mar 2019   Deviance:                       4760.9\n",
       "Time:                        21:24:28   Pearson chi2:                 6.04e+03\n",
       "No. Iterations:                     7   Covariance Type:             nonrobust\n",
       "===============================================================================================\n",
       "                                  coef    std err          z      P>|z|      [0.025      0.975]\n",
       "-----------------------------------------------------------------------------------------------\n",
       "const                          -1.0817      0.316     -3.422      0.001      -1.701      -0.462\n",
       "TotalVisits                     1.3859      0.249      5.563      0.000       0.898       1.874\n",
       "Total Time Spent on Website     4.5416      0.170     26.662      0.000       4.208       4.875\n",
       "Page Views Per Visit           -0.8900      0.225     -3.964      0.000      -1.330      -0.450\n",
       "Landing Page Submission        -0.3759      0.095     -3.958      0.000      -0.562      -0.190\n",
       "Lead Add Form                   3.4281      0.251     13.682      0.000       2.937       3.919\n",
       "Better Career Prospects         1.5740      0.232      6.782      0.000       1.119       2.029\n",
       "Student                        -2.2044      0.278     -7.925      0.000      -2.750      -1.659\n",
       "Unemployed                     -2.4713      0.183    -13.525      0.000      -2.829      -2.113\n",
       "Olark Chat                      1.2903      0.148      8.723      0.000       1.000       1.580\n",
       "Welingak Website                1.8848      0.656      2.873      0.004       0.599       3.171\n",
       "LA_Converted to Lead           -1.3812      0.240     -5.747      0.000      -1.852      -0.910\n",
       "LA_Email Bounced               -1.9701      0.359     -5.480      0.000      -2.675      -1.266\n",
       "LA_Olark Chat Conversation     -1.6383      0.177     -9.238      0.000      -1.986      -1.291\n",
       "LA_SMS Sent                     1.2525      0.079     15.822      0.000       1.097       1.408\n",
       "===============================================================================================\n",
       "\"\"\""
      ]
     },
     "execution_count": 943,
     "metadata": {},
     "output_type": "execute_result"
    }
   ],
   "source": [
    "# Re-running the model\n",
    "X_train_sm = sm.add_constant(X_train[col])\n",
    "log2 = sm.GLM(y_train,X_train_sm, family = sm.families.Binomial())\n",
    "res = log2.fit()\n",
    "res.summary()"
   ]
  },
  {
   "cell_type": "code",
   "execution_count": 944,
   "metadata": {},
   "outputs": [
    {
     "data": {
      "text/plain": [
       "2135    0.351048\n",
       "8818    0.126515\n",
       "3328    0.637341\n",
       "3259    0.119644\n",
       "1551    0.141047\n",
       "7163    0.025751\n",
       "3986    0.145749\n",
       "1354    0.965573\n",
       "3607    0.178787\n",
       "4952    0.253983\n",
       "dtype: float64"
      ]
     },
     "execution_count": 944,
     "metadata": {},
     "output_type": "execute_result"
    }
   ],
   "source": [
    "# Getting the predicted values on the train set\n",
    "y_train_pred = res.predict(X_train_sm)\n",
    "y_train_pred[:10]"
   ]
  },
  {
   "cell_type": "markdown",
   "metadata": {},
   "source": [
    "## Converting the prediction probabilities in a score of 0 to 100"
   ]
  },
  {
   "cell_type": "code",
   "execution_count": 945,
   "metadata": {},
   "outputs": [],
   "source": [
    "y_train_pred = round(y_train_pred * 100,0)"
   ]
  },
  {
   "cell_type": "code",
   "execution_count": 946,
   "metadata": {},
   "outputs": [
    {
     "data": {
      "text/plain": [
       "array([35., 13., 64., 12., 14.,  3., 15., 97., 18., 25.])"
      ]
     },
     "execution_count": 946,
     "metadata": {},
     "output_type": "execute_result"
    }
   ],
   "source": [
    "y_train_pred = y_train_pred.values.reshape(-1)\n",
    "y_train_pred[:10]"
   ]
  },
  {
   "cell_type": "code",
   "execution_count": 947,
   "metadata": {},
   "outputs": [
    {
     "data": {
      "text/html": [
       "<div>\n",
       "<style scoped>\n",
       "    .dataframe tbody tr th:only-of-type {\n",
       "        vertical-align: middle;\n",
       "    }\n",
       "\n",
       "    .dataframe tbody tr th {\n",
       "        vertical-align: top;\n",
       "    }\n",
       "\n",
       "    .dataframe thead th {\n",
       "        text-align: right;\n",
       "    }\n",
       "</style>\n",
       "<table border=\"1\" class=\"dataframe\">\n",
       "  <thead>\n",
       "    <tr style=\"text-align: right;\">\n",
       "      <th></th>\n",
       "      <th>Converted</th>\n",
       "      <th>Lead Score</th>\n",
       "      <th>LeadID</th>\n",
       "    </tr>\n",
       "  </thead>\n",
       "  <tbody>\n",
       "    <tr>\n",
       "      <th>0</th>\n",
       "      <td>1</td>\n",
       "      <td>35.0</td>\n",
       "      <td>2135</td>\n",
       "    </tr>\n",
       "    <tr>\n",
       "      <th>1</th>\n",
       "      <td>1</td>\n",
       "      <td>13.0</td>\n",
       "      <td>8818</td>\n",
       "    </tr>\n",
       "    <tr>\n",
       "      <th>2</th>\n",
       "      <td>1</td>\n",
       "      <td>64.0</td>\n",
       "      <td>3328</td>\n",
       "    </tr>\n",
       "    <tr>\n",
       "      <th>3</th>\n",
       "      <td>0</td>\n",
       "      <td>12.0</td>\n",
       "      <td>3259</td>\n",
       "    </tr>\n",
       "    <tr>\n",
       "      <th>4</th>\n",
       "      <td>0</td>\n",
       "      <td>14.0</td>\n",
       "      <td>1551</td>\n",
       "    </tr>\n",
       "  </tbody>\n",
       "</table>\n",
       "</div>"
      ],
      "text/plain": [
       "   Converted  Lead Score  LeadID\n",
       "0          1        35.0    2135\n",
       "1          1        13.0    8818\n",
       "2          1        64.0    3328\n",
       "3          0        12.0    3259\n",
       "4          0        14.0    1551"
      ]
     },
     "execution_count": 947,
     "metadata": {},
     "output_type": "execute_result"
    }
   ],
   "source": [
    "# Creating a DataFrame\n",
    "y_train_pred_final = pd.DataFrame({'Converted':y_train.values, 'Lead Score':y_train_pred})\n",
    "y_train_pred_final['LeadID'] = y_train.index\n",
    "y_train_pred_final.head()"
   ]
  },
  {
   "cell_type": "code",
   "execution_count": 948,
   "metadata": {},
   "outputs": [
    {
     "data": {
      "text/html": [
       "<div>\n",
       "<style scoped>\n",
       "    .dataframe tbody tr th:only-of-type {\n",
       "        vertical-align: middle;\n",
       "    }\n",
       "\n",
       "    .dataframe tbody tr th {\n",
       "        vertical-align: top;\n",
       "    }\n",
       "\n",
       "    .dataframe thead th {\n",
       "        text-align: right;\n",
       "    }\n",
       "</style>\n",
       "<table border=\"1\" class=\"dataframe\">\n",
       "  <thead>\n",
       "    <tr style=\"text-align: right;\">\n",
       "      <th></th>\n",
       "      <th>Converted</th>\n",
       "      <th>Lead Score</th>\n",
       "      <th>LeadID</th>\n",
       "      <th>predicted</th>\n",
       "    </tr>\n",
       "  </thead>\n",
       "  <tbody>\n",
       "    <tr>\n",
       "      <th>0</th>\n",
       "      <td>1</td>\n",
       "      <td>35.0</td>\n",
       "      <td>2135</td>\n",
       "      <td>0</td>\n",
       "    </tr>\n",
       "    <tr>\n",
       "      <th>1</th>\n",
       "      <td>1</td>\n",
       "      <td>13.0</td>\n",
       "      <td>8818</td>\n",
       "      <td>0</td>\n",
       "    </tr>\n",
       "    <tr>\n",
       "      <th>2</th>\n",
       "      <td>1</td>\n",
       "      <td>64.0</td>\n",
       "      <td>3328</td>\n",
       "      <td>1</td>\n",
       "    </tr>\n",
       "    <tr>\n",
       "      <th>3</th>\n",
       "      <td>0</td>\n",
       "      <td>12.0</td>\n",
       "      <td>3259</td>\n",
       "      <td>0</td>\n",
       "    </tr>\n",
       "    <tr>\n",
       "      <th>4</th>\n",
       "      <td>0</td>\n",
       "      <td>14.0</td>\n",
       "      <td>1551</td>\n",
       "      <td>0</td>\n",
       "    </tr>\n",
       "  </tbody>\n",
       "</table>\n",
       "</div>"
      ],
      "text/plain": [
       "   Converted  Lead Score  LeadID  predicted\n",
       "0          1        35.0    2135          0\n",
       "1          1        13.0    8818          0\n",
       "2          1        64.0    3328          1\n",
       "3          0        12.0    3259          0\n",
       "4          0        14.0    1551          0"
      ]
     },
     "execution_count": 948,
     "metadata": {},
     "output_type": "execute_result"
    }
   ],
   "source": [
    "# Selecting an arbitrary score of 50 as cut-off\n",
    "y_train_pred_final['predicted'] = y_train_pred_final['Lead Score'].map(lambda x: 1 if x > 50 else 0)\n",
    "\n",
    "# Let's see the head\n",
    "y_train_pred_final.head()"
   ]
  },
  {
   "cell_type": "code",
   "execution_count": 949,
   "metadata": {},
   "outputs": [],
   "source": [
    "from sklearn import metrics"
   ]
  },
  {
   "cell_type": "code",
   "execution_count": 950,
   "metadata": {},
   "outputs": [
    {
     "name": "stdout",
     "output_type": "stream",
     "text": [
      "0.8225158916025427\n"
     ]
    }
   ],
   "source": [
    "# Let's check the overall accuracy.\n",
    "print(metrics.accuracy_score(y_train_pred_final.Converted, y_train_pred_final.predicted))"
   ]
  },
  {
   "cell_type": "code",
   "execution_count": 951,
   "metadata": {},
   "outputs": [],
   "source": [
    "# Check for the VIF values of the feature variables. \n",
    "from statsmodels.stats.outliers_influence import variance_inflation_factor"
   ]
  },
  {
   "cell_type": "code",
   "execution_count": 952,
   "metadata": {},
   "outputs": [
    {
     "data": {
      "text/html": [
       "<div>\n",
       "<style scoped>\n",
       "    .dataframe tbody tr th:only-of-type {\n",
       "        vertical-align: middle;\n",
       "    }\n",
       "\n",
       "    .dataframe tbody tr th {\n",
       "        vertical-align: top;\n",
       "    }\n",
       "\n",
       "    .dataframe thead th {\n",
       "        text-align: right;\n",
       "    }\n",
       "</style>\n",
       "<table border=\"1\" class=\"dataframe\">\n",
       "  <thead>\n",
       "    <tr style=\"text-align: right;\">\n",
       "      <th></th>\n",
       "      <th>Features</th>\n",
       "      <th>VIF</th>\n",
       "    </tr>\n",
       "  </thead>\n",
       "  <tbody>\n",
       "    <tr>\n",
       "      <th>5</th>\n",
       "      <td>Better Career Prospects</td>\n",
       "      <td>12.72</td>\n",
       "    </tr>\n",
       "    <tr>\n",
       "      <th>2</th>\n",
       "      <td>Page Views Per Visit</td>\n",
       "      <td>8.03</td>\n",
       "    </tr>\n",
       "    <tr>\n",
       "      <th>7</th>\n",
       "      <td>Unemployed</td>\n",
       "      <td>7.69</td>\n",
       "    </tr>\n",
       "    <tr>\n",
       "      <th>0</th>\n",
       "      <td>TotalVisits</td>\n",
       "      <td>6.02</td>\n",
       "    </tr>\n",
       "    <tr>\n",
       "      <th>6</th>\n",
       "      <td>Student</td>\n",
       "      <td>3.91</td>\n",
       "    </tr>\n",
       "    <tr>\n",
       "      <th>3</th>\n",
       "      <td>Landing Page Submission</td>\n",
       "      <td>3.61</td>\n",
       "    </tr>\n",
       "    <tr>\n",
       "      <th>8</th>\n",
       "      <td>Olark Chat</td>\n",
       "      <td>3.11</td>\n",
       "    </tr>\n",
       "    <tr>\n",
       "      <th>1</th>\n",
       "      <td>Total Time Spent on Website</td>\n",
       "      <td>2.33</td>\n",
       "    </tr>\n",
       "    <tr>\n",
       "      <th>4</th>\n",
       "      <td>Lead Add Form</td>\n",
       "      <td>2.09</td>\n",
       "    </tr>\n",
       "    <tr>\n",
       "      <th>13</th>\n",
       "      <td>LA_SMS Sent</td>\n",
       "      <td>1.63</td>\n",
       "    </tr>\n",
       "    <tr>\n",
       "      <th>12</th>\n",
       "      <td>LA_Olark Chat Conversation</td>\n",
       "      <td>1.50</td>\n",
       "    </tr>\n",
       "    <tr>\n",
       "      <th>9</th>\n",
       "      <td>Welingak Website</td>\n",
       "      <td>1.36</td>\n",
       "    </tr>\n",
       "    <tr>\n",
       "      <th>10</th>\n",
       "      <td>LA_Converted to Lead</td>\n",
       "      <td>1.18</td>\n",
       "    </tr>\n",
       "    <tr>\n",
       "      <th>11</th>\n",
       "      <td>LA_Email Bounced</td>\n",
       "      <td>1.10</td>\n",
       "    </tr>\n",
       "  </tbody>\n",
       "</table>\n",
       "</div>"
      ],
      "text/plain": [
       "                       Features    VIF\n",
       "5       Better Career Prospects  12.72\n",
       "2          Page Views Per Visit   8.03\n",
       "7                    Unemployed   7.69\n",
       "0                   TotalVisits   6.02\n",
       "6                       Student   3.91\n",
       "3       Landing Page Submission   3.61\n",
       "8                    Olark Chat   3.11\n",
       "1   Total Time Spent on Website   2.33\n",
       "4                 Lead Add Form   2.09\n",
       "13                  LA_SMS Sent   1.63\n",
       "12   LA_Olark Chat Conversation   1.50\n",
       "9              Welingak Website   1.36\n",
       "10         LA_Converted to Lead   1.18\n",
       "11             LA_Email Bounced   1.10"
      ]
     },
     "execution_count": 952,
     "metadata": {},
     "output_type": "execute_result"
    }
   ],
   "source": [
    "# Create a dataframe that will contain the names of all the feature variables and their respective VIFs\n",
    "vif = pd.DataFrame()\n",
    "vif['Features'] = X_train[col].columns\n",
    "vif['VIF'] = [variance_inflation_factor(X_train[col].values, i) for i in range(X_train[col].shape[1])]\n",
    "vif['VIF'] = round(vif['VIF'], 2)\n",
    "vif = vif.sort_values(by = \"VIF\", ascending = False)\n",
    "vif"
   ]
  },
  {
   "cell_type": "code",
   "execution_count": 953,
   "metadata": {},
   "outputs": [],
   "source": [
    "# Dropping variable 'Better Career prospects' as VIF is > 5 \n",
    "col = col.drop('Better Career Prospects')"
   ]
  },
  {
   "cell_type": "code",
   "execution_count": 954,
   "metadata": {},
   "outputs": [
    {
     "data": {
      "text/html": [
       "<table class=\"simpletable\">\n",
       "<caption>Generalized Linear Model Regression Results</caption>\n",
       "<tr>\n",
       "  <th>Dep. Variable:</th>      <td>Converted</td>    <th>  No. Observations:  </th>  <td>  5978</td>  \n",
       "</tr>\n",
       "<tr>\n",
       "  <th>Model:</th>                 <td>GLM</td>       <th>  Df Residuals:      </th>  <td>  5964</td>  \n",
       "</tr>\n",
       "<tr>\n",
       "  <th>Model Family:</th>       <td>Binomial</td>     <th>  Df Model:          </th>  <td>    13</td>  \n",
       "</tr>\n",
       "<tr>\n",
       "  <th>Link Function:</th>        <td>logit</td>      <th>  Scale:             </th> <td>  1.0000</td> \n",
       "</tr>\n",
       "<tr>\n",
       "  <th>Method:</th>               <td>IRLS</td>       <th>  Log-Likelihood:    </th> <td> -2401.9</td> \n",
       "</tr>\n",
       "<tr>\n",
       "  <th>Date:</th>           <td>Sun, 03 Mar 2019</td> <th>  Deviance:          </th> <td>  4803.8</td> \n",
       "</tr>\n",
       "<tr>\n",
       "  <th>Time:</th>               <td>21:24:28</td>     <th>  Pearson chi2:      </th> <td>6.07e+03</td> \n",
       "</tr>\n",
       "<tr>\n",
       "  <th>No. Iterations:</th>         <td>7</td>        <th>  Covariance Type:   </th> <td>nonrobust</td>\n",
       "</tr>\n",
       "</table>\n",
       "<table class=\"simpletable\">\n",
       "<tr>\n",
       "               <td></td>                  <th>coef</th>     <th>std err</th>      <th>z</th>      <th>P>|z|</th>  <th>[0.025</th>    <th>0.975]</th>  \n",
       "</tr>\n",
       "<tr>\n",
       "  <th>const</th>                       <td>    0.4560</td> <td>    0.216</td> <td>    2.114</td> <td> 0.034</td> <td>    0.033</td> <td>    0.879</td>\n",
       "</tr>\n",
       "<tr>\n",
       "  <th>TotalVisits</th>                 <td>    1.3725</td> <td>    0.248</td> <td>    5.542</td> <td> 0.000</td> <td>    0.887</td> <td>    1.858</td>\n",
       "</tr>\n",
       "<tr>\n",
       "  <th>Total Time Spent on Website</th> <td>    4.5257</td> <td>    0.169</td> <td>   26.734</td> <td> 0.000</td> <td>    4.194</td> <td>    4.858</td>\n",
       "</tr>\n",
       "<tr>\n",
       "  <th>Page Views Per Visit</th>        <td>   -0.8817</td> <td>    0.223</td> <td>   -3.949</td> <td> 0.000</td> <td>   -1.319</td> <td>   -0.444</td>\n",
       "</tr>\n",
       "<tr>\n",
       "  <th>Landing Page Submission</th>     <td>   -0.3544</td> <td>    0.094</td> <td>   -3.755</td> <td> 0.000</td> <td>   -0.539</td> <td>   -0.169</td>\n",
       "</tr>\n",
       "<tr>\n",
       "  <th>Lead Add Form</th>               <td>    3.5709</td> <td>    0.252</td> <td>   14.150</td> <td> 0.000</td> <td>    3.076</td> <td>    4.065</td>\n",
       "</tr>\n",
       "<tr>\n",
       "  <th>Student</th>                     <td>   -3.5829</td> <td>    0.192</td> <td>  -18.620</td> <td> 0.000</td> <td>   -3.960</td> <td>   -3.206</td>\n",
       "</tr>\n",
       "<tr>\n",
       "  <th>Unemployed</th>                  <td>   -2.4379</td> <td>    0.181</td> <td>  -13.468</td> <td> 0.000</td> <td>   -2.793</td> <td>   -2.083</td>\n",
       "</tr>\n",
       "<tr>\n",
       "  <th>Olark Chat</th>                  <td>    1.2893</td> <td>    0.147</td> <td>    8.763</td> <td> 0.000</td> <td>    1.001</td> <td>    1.578</td>\n",
       "</tr>\n",
       "<tr>\n",
       "  <th>Welingak Website</th>            <td>    1.7868</td> <td>    0.661</td> <td>    2.705</td> <td> 0.007</td> <td>    0.492</td> <td>    3.081</td>\n",
       "</tr>\n",
       "<tr>\n",
       "  <th>LA_Converted to Lead</th>        <td>   -1.3960</td> <td>    0.240</td> <td>   -5.828</td> <td> 0.000</td> <td>   -1.865</td> <td>   -0.927</td>\n",
       "</tr>\n",
       "<tr>\n",
       "  <th>LA_Email Bounced</th>            <td>   -1.9657</td> <td>    0.359</td> <td>   -5.477</td> <td> 0.000</td> <td>   -2.669</td> <td>   -1.262</td>\n",
       "</tr>\n",
       "<tr>\n",
       "  <th>LA_Olark Chat Conversation</th>  <td>   -1.6185</td> <td>    0.176</td> <td>   -9.182</td> <td> 0.000</td> <td>   -1.964</td> <td>   -1.273</td>\n",
       "</tr>\n",
       "<tr>\n",
       "  <th>LA_SMS Sent</th>                 <td>    1.2257</td> <td>    0.079</td> <td>   15.605</td> <td> 0.000</td> <td>    1.072</td> <td>    1.380</td>\n",
       "</tr>\n",
       "</table>"
      ],
      "text/plain": [
       "<class 'statsmodels.iolib.summary.Summary'>\n",
       "\"\"\"\n",
       "                 Generalized Linear Model Regression Results                  \n",
       "==============================================================================\n",
       "Dep. Variable:              Converted   No. Observations:                 5978\n",
       "Model:                            GLM   Df Residuals:                     5964\n",
       "Model Family:                Binomial   Df Model:                           13\n",
       "Link Function:                  logit   Scale:                          1.0000\n",
       "Method:                          IRLS   Log-Likelihood:                -2401.9\n",
       "Date:                Sun, 03 Mar 2019   Deviance:                       4803.8\n",
       "Time:                        21:24:28   Pearson chi2:                 6.07e+03\n",
       "No. Iterations:                     7   Covariance Type:             nonrobust\n",
       "===============================================================================================\n",
       "                                  coef    std err          z      P>|z|      [0.025      0.975]\n",
       "-----------------------------------------------------------------------------------------------\n",
       "const                           0.4560      0.216      2.114      0.034       0.033       0.879\n",
       "TotalVisits                     1.3725      0.248      5.542      0.000       0.887       1.858\n",
       "Total Time Spent on Website     4.5257      0.169     26.734      0.000       4.194       4.858\n",
       "Page Views Per Visit           -0.8817      0.223     -3.949      0.000      -1.319      -0.444\n",
       "Landing Page Submission        -0.3544      0.094     -3.755      0.000      -0.539      -0.169\n",
       "Lead Add Form                   3.5709      0.252     14.150      0.000       3.076       4.065\n",
       "Student                        -3.5829      0.192    -18.620      0.000      -3.960      -3.206\n",
       "Unemployed                     -2.4379      0.181    -13.468      0.000      -2.793      -2.083\n",
       "Olark Chat                      1.2893      0.147      8.763      0.000       1.001       1.578\n",
       "Welingak Website                1.7868      0.661      2.705      0.007       0.492       3.081\n",
       "LA_Converted to Lead           -1.3960      0.240     -5.828      0.000      -1.865      -0.927\n",
       "LA_Email Bounced               -1.9657      0.359     -5.477      0.000      -2.669      -1.262\n",
       "LA_Olark Chat Conversation     -1.6185      0.176     -9.182      0.000      -1.964      -1.273\n",
       "LA_SMS Sent                     1.2257      0.079     15.605      0.000       1.072       1.380\n",
       "===============================================================================================\n",
       "\"\"\""
      ]
     },
     "execution_count": 954,
     "metadata": {},
     "output_type": "execute_result"
    }
   ],
   "source": [
    "# Let's re-run the model using the selected variables\n",
    "X_train_sm = sm.add_constant(X_train[col])\n",
    "log3 = sm.GLM(y_train,X_train_sm, family = sm.families.Binomial())\n",
    "res = log3.fit()\n",
    "res.summary()"
   ]
  },
  {
   "cell_type": "code",
   "execution_count": 955,
   "metadata": {},
   "outputs": [
    {
     "data": {
      "text/plain": [
       "2135    0.349346\n",
       "8818    0.146162\n",
       "3328    0.630188\n",
       "3259    0.137339\n",
       "1551    0.143136\n",
       "7163    0.026703\n",
       "3986    0.145341\n",
       "1354    0.966937\n",
       "3607    0.177712\n",
       "4952    0.278588\n",
       "dtype: float64"
      ]
     },
     "execution_count": 955,
     "metadata": {},
     "output_type": "execute_result"
    }
   ],
   "source": [
    "# Getting the predicted values on the train set\n",
    "y_train_pred = res.predict(X_train_sm)\n",
    "y_train_pred[:10]"
   ]
  },
  {
   "cell_type": "markdown",
   "metadata": {},
   "source": [
    "## Converting the prediction probabilities in a score of 0 to 100"
   ]
  },
  {
   "cell_type": "code",
   "execution_count": 956,
   "metadata": {},
   "outputs": [],
   "source": [
    "y_train_pred = round(y_train_pred * 100,0)"
   ]
  },
  {
   "cell_type": "code",
   "execution_count": 957,
   "metadata": {},
   "outputs": [
    {
     "data": {
      "text/plain": [
       "array([35., 15., 63., 14., 14.,  3., 15., 97., 18., 28.])"
      ]
     },
     "execution_count": 957,
     "metadata": {},
     "output_type": "execute_result"
    }
   ],
   "source": [
    "y_train_pred = y_train_pred.values.reshape(-1)\n",
    "y_train_pred[:10]"
   ]
  },
  {
   "cell_type": "code",
   "execution_count": 958,
   "metadata": {},
   "outputs": [
    {
     "data": {
      "text/html": [
       "<div>\n",
       "<style scoped>\n",
       "    .dataframe tbody tr th:only-of-type {\n",
       "        vertical-align: middle;\n",
       "    }\n",
       "\n",
       "    .dataframe tbody tr th {\n",
       "        vertical-align: top;\n",
       "    }\n",
       "\n",
       "    .dataframe thead th {\n",
       "        text-align: right;\n",
       "    }\n",
       "</style>\n",
       "<table border=\"1\" class=\"dataframe\">\n",
       "  <thead>\n",
       "    <tr style=\"text-align: right;\">\n",
       "      <th></th>\n",
       "      <th>Converted</th>\n",
       "      <th>Lead Score</th>\n",
       "      <th>LeadID</th>\n",
       "    </tr>\n",
       "  </thead>\n",
       "  <tbody>\n",
       "    <tr>\n",
       "      <th>0</th>\n",
       "      <td>1</td>\n",
       "      <td>35.0</td>\n",
       "      <td>2135</td>\n",
       "    </tr>\n",
       "    <tr>\n",
       "      <th>1</th>\n",
       "      <td>1</td>\n",
       "      <td>15.0</td>\n",
       "      <td>8818</td>\n",
       "    </tr>\n",
       "    <tr>\n",
       "      <th>2</th>\n",
       "      <td>1</td>\n",
       "      <td>63.0</td>\n",
       "      <td>3328</td>\n",
       "    </tr>\n",
       "    <tr>\n",
       "      <th>3</th>\n",
       "      <td>0</td>\n",
       "      <td>14.0</td>\n",
       "      <td>3259</td>\n",
       "    </tr>\n",
       "    <tr>\n",
       "      <th>4</th>\n",
       "      <td>0</td>\n",
       "      <td>14.0</td>\n",
       "      <td>1551</td>\n",
       "    </tr>\n",
       "  </tbody>\n",
       "</table>\n",
       "</div>"
      ],
      "text/plain": [
       "   Converted  Lead Score  LeadID\n",
       "0          1        35.0    2135\n",
       "1          1        15.0    8818\n",
       "2          1        63.0    3328\n",
       "3          0        14.0    3259\n",
       "4          0        14.0    1551"
      ]
     },
     "execution_count": 958,
     "metadata": {},
     "output_type": "execute_result"
    }
   ],
   "source": [
    "# Creating a Dataframe\n",
    "y_train_pred_final = pd.DataFrame({'Converted':y_train.values, 'Lead Score':y_train_pred})\n",
    "y_train_pred_final['LeadID'] = y_train.index\n",
    "y_train_pred_final.head()"
   ]
  },
  {
   "cell_type": "code",
   "execution_count": 959,
   "metadata": {},
   "outputs": [
    {
     "data": {
      "text/html": [
       "<div>\n",
       "<style scoped>\n",
       "    .dataframe tbody tr th:only-of-type {\n",
       "        vertical-align: middle;\n",
       "    }\n",
       "\n",
       "    .dataframe tbody tr th {\n",
       "        vertical-align: top;\n",
       "    }\n",
       "\n",
       "    .dataframe thead th {\n",
       "        text-align: right;\n",
       "    }\n",
       "</style>\n",
       "<table border=\"1\" class=\"dataframe\">\n",
       "  <thead>\n",
       "    <tr style=\"text-align: right;\">\n",
       "      <th></th>\n",
       "      <th>Converted</th>\n",
       "      <th>Lead Score</th>\n",
       "      <th>LeadID</th>\n",
       "      <th>predicted</th>\n",
       "    </tr>\n",
       "  </thead>\n",
       "  <tbody>\n",
       "    <tr>\n",
       "      <th>0</th>\n",
       "      <td>1</td>\n",
       "      <td>35.0</td>\n",
       "      <td>2135</td>\n",
       "      <td>0</td>\n",
       "    </tr>\n",
       "    <tr>\n",
       "      <th>1</th>\n",
       "      <td>1</td>\n",
       "      <td>15.0</td>\n",
       "      <td>8818</td>\n",
       "      <td>0</td>\n",
       "    </tr>\n",
       "    <tr>\n",
       "      <th>2</th>\n",
       "      <td>1</td>\n",
       "      <td>63.0</td>\n",
       "      <td>3328</td>\n",
       "      <td>1</td>\n",
       "    </tr>\n",
       "    <tr>\n",
       "      <th>3</th>\n",
       "      <td>0</td>\n",
       "      <td>14.0</td>\n",
       "      <td>3259</td>\n",
       "      <td>0</td>\n",
       "    </tr>\n",
       "    <tr>\n",
       "      <th>4</th>\n",
       "      <td>0</td>\n",
       "      <td>14.0</td>\n",
       "      <td>1551</td>\n",
       "      <td>0</td>\n",
       "    </tr>\n",
       "  </tbody>\n",
       "</table>\n",
       "</div>"
      ],
      "text/plain": [
       "   Converted  Lead Score  LeadID  predicted\n",
       "0          1        35.0    2135          0\n",
       "1          1        15.0    8818          0\n",
       "2          1        63.0    3328          1\n",
       "3          0        14.0    3259          0\n",
       "4          0        14.0    1551          0"
      ]
     },
     "execution_count": 959,
     "metadata": {},
     "output_type": "execute_result"
    }
   ],
   "source": [
    "# Using previously selected cut off of 50\n",
    "y_train_pred_final['predicted'] = y_train_pred_final['Lead Score'].map(lambda x: 1 if x > 50 else 0)\n",
    "\n",
    "# Let's see the head\n",
    "y_train_pred_final.head()"
   ]
  },
  {
   "cell_type": "code",
   "execution_count": 960,
   "metadata": {},
   "outputs": [
    {
     "name": "stdout",
     "output_type": "stream",
     "text": [
      "0.8211776513884242\n"
     ]
    }
   ],
   "source": [
    "# Let's check the overall accuracy.\n",
    "print(metrics.accuracy_score(y_train_pred_final.Converted, y_train_pred_final.predicted))"
   ]
  },
  {
   "cell_type": "markdown",
   "metadata": {},
   "source": [
    "Thus it can be noted that by dropping the variable 'Better carer propects', the overall accuracy of the model has not reduced."
   ]
  },
  {
   "cell_type": "code",
   "execution_count": 961,
   "metadata": {},
   "outputs": [
    {
     "data": {
      "text/html": [
       "<div>\n",
       "<style scoped>\n",
       "    .dataframe tbody tr th:only-of-type {\n",
       "        vertical-align: middle;\n",
       "    }\n",
       "\n",
       "    .dataframe tbody tr th {\n",
       "        vertical-align: top;\n",
       "    }\n",
       "\n",
       "    .dataframe thead th {\n",
       "        text-align: right;\n",
       "    }\n",
       "</style>\n",
       "<table border=\"1\" class=\"dataframe\">\n",
       "  <thead>\n",
       "    <tr style=\"text-align: right;\">\n",
       "      <th></th>\n",
       "      <th>Features</th>\n",
       "      <th>VIF</th>\n",
       "    </tr>\n",
       "  </thead>\n",
       "  <tbody>\n",
       "    <tr>\n",
       "      <th>2</th>\n",
       "      <td>Page Views Per Visit</td>\n",
       "      <td>7.70</td>\n",
       "    </tr>\n",
       "    <tr>\n",
       "      <th>0</th>\n",
       "      <td>TotalVisits</td>\n",
       "      <td>5.87</td>\n",
       "    </tr>\n",
       "    <tr>\n",
       "      <th>6</th>\n",
       "      <td>Unemployed</td>\n",
       "      <td>4.68</td>\n",
       "    </tr>\n",
       "    <tr>\n",
       "      <th>3</th>\n",
       "      <td>Landing Page Submission</td>\n",
       "      <td>3.41</td>\n",
       "    </tr>\n",
       "    <tr>\n",
       "      <th>5</th>\n",
       "      <td>Student</td>\n",
       "      <td>3.08</td>\n",
       "    </tr>\n",
       "    <tr>\n",
       "      <th>7</th>\n",
       "      <td>Olark Chat</td>\n",
       "      <td>2.50</td>\n",
       "    </tr>\n",
       "    <tr>\n",
       "      <th>1</th>\n",
       "      <td>Total Time Spent on Website</td>\n",
       "      <td>2.20</td>\n",
       "    </tr>\n",
       "    <tr>\n",
       "      <th>12</th>\n",
       "      <td>LA_SMS Sent</td>\n",
       "      <td>1.60</td>\n",
       "    </tr>\n",
       "    <tr>\n",
       "      <th>4</th>\n",
       "      <td>Lead Add Form</td>\n",
       "      <td>1.59</td>\n",
       "    </tr>\n",
       "    <tr>\n",
       "      <th>11</th>\n",
       "      <td>LA_Olark Chat Conversation</td>\n",
       "      <td>1.49</td>\n",
       "    </tr>\n",
       "    <tr>\n",
       "      <th>8</th>\n",
       "      <td>Welingak Website</td>\n",
       "      <td>1.34</td>\n",
       "    </tr>\n",
       "    <tr>\n",
       "      <th>9</th>\n",
       "      <td>LA_Converted to Lead</td>\n",
       "      <td>1.14</td>\n",
       "    </tr>\n",
       "    <tr>\n",
       "      <th>10</th>\n",
       "      <td>LA_Email Bounced</td>\n",
       "      <td>1.09</td>\n",
       "    </tr>\n",
       "  </tbody>\n",
       "</table>\n",
       "</div>"
      ],
      "text/plain": [
       "                       Features   VIF\n",
       "2          Page Views Per Visit  7.70\n",
       "0                   TotalVisits  5.87\n",
       "6                    Unemployed  4.68\n",
       "3       Landing Page Submission  3.41\n",
       "5                       Student  3.08\n",
       "7                    Olark Chat  2.50\n",
       "1   Total Time Spent on Website  2.20\n",
       "12                  LA_SMS Sent  1.60\n",
       "4                 Lead Add Form  1.59\n",
       "11   LA_Olark Chat Conversation  1.49\n",
       "8              Welingak Website  1.34\n",
       "9          LA_Converted to Lead  1.14\n",
       "10             LA_Email Bounced  1.09"
      ]
     },
     "execution_count": 961,
     "metadata": {},
     "output_type": "execute_result"
    }
   ],
   "source": [
    "# Create a dataframe that will contain the names of all the feature variables and their respective VIFs\n",
    "vif = pd.DataFrame()\n",
    "vif['Features'] = X_train[col].columns\n",
    "vif['VIF'] = [variance_inflation_factor(X_train[col].values, i) for i in range(X_train[col].shape[1])]\n",
    "vif['VIF'] = round(vif['VIF'], 2)\n",
    "vif = vif.sort_values(by = \"VIF\", ascending = False)\n",
    "vif"
   ]
  },
  {
   "cell_type": "code",
   "execution_count": 962,
   "metadata": {},
   "outputs": [],
   "source": [
    "# Dropping the variable 'Page Views Per Visit' as the VIF is >5\n",
    "col = col.drop('Page Views Per Visit')"
   ]
  },
  {
   "cell_type": "code",
   "execution_count": 963,
   "metadata": {},
   "outputs": [
    {
     "data": {
      "text/html": [
       "<table class=\"simpletable\">\n",
       "<caption>Generalized Linear Model Regression Results</caption>\n",
       "<tr>\n",
       "  <th>Dep. Variable:</th>      <td>Converted</td>    <th>  No. Observations:  </th>  <td>  5978</td>  \n",
       "</tr>\n",
       "<tr>\n",
       "  <th>Model:</th>                 <td>GLM</td>       <th>  Df Residuals:      </th>  <td>  5965</td>  \n",
       "</tr>\n",
       "<tr>\n",
       "  <th>Model Family:</th>       <td>Binomial</td>     <th>  Df Model:          </th>  <td>    12</td>  \n",
       "</tr>\n",
       "<tr>\n",
       "  <th>Link Function:</th>        <td>logit</td>      <th>  Scale:             </th> <td>  1.0000</td> \n",
       "</tr>\n",
       "<tr>\n",
       "  <th>Method:</th>               <td>IRLS</td>       <th>  Log-Likelihood:    </th> <td> -2409.8</td> \n",
       "</tr>\n",
       "<tr>\n",
       "  <th>Date:</th>           <td>Sun, 03 Mar 2019</td> <th>  Deviance:          </th> <td>  4819.6</td> \n",
       "</tr>\n",
       "<tr>\n",
       "  <th>Time:</th>               <td>21:24:29</td>     <th>  Pearson chi2:      </th> <td>6.10e+03</td> \n",
       "</tr>\n",
       "<tr>\n",
       "  <th>No. Iterations:</th>         <td>7</td>        <th>  Covariance Type:   </th> <td>nonrobust</td>\n",
       "</tr>\n",
       "</table>\n",
       "<table class=\"simpletable\">\n",
       "<tr>\n",
       "               <td></td>                  <th>coef</th>     <th>std err</th>      <th>z</th>      <th>P>|z|</th>  <th>[0.025</th>    <th>0.975]</th>  \n",
       "</tr>\n",
       "<tr>\n",
       "  <th>const</th>                       <td>    0.2446</td> <td>    0.209</td> <td>    1.173</td> <td> 0.241</td> <td>   -0.164</td> <td>    0.653</td>\n",
       "</tr>\n",
       "<tr>\n",
       "  <th>TotalVisits</th>                 <td>    0.8946</td> <td>    0.216</td> <td>    4.147</td> <td> 0.000</td> <td>    0.472</td> <td>    1.317</td>\n",
       "</tr>\n",
       "<tr>\n",
       "  <th>Total Time Spent on Website</th> <td>    4.5050</td> <td>    0.169</td> <td>   26.679</td> <td> 0.000</td> <td>    4.174</td> <td>    4.836</td>\n",
       "</tr>\n",
       "<tr>\n",
       "  <th>Landing Page Submission</th>     <td>   -0.4191</td> <td>    0.093</td> <td>   -4.518</td> <td> 0.000</td> <td>   -0.601</td> <td>   -0.237</td>\n",
       "</tr>\n",
       "<tr>\n",
       "  <th>Lead Add Form</th>               <td>    3.7718</td> <td>    0.247</td> <td>   15.247</td> <td> 0.000</td> <td>    3.287</td> <td>    4.257</td>\n",
       "</tr>\n",
       "<tr>\n",
       "  <th>Student</th>                     <td>   -3.5651</td> <td>    0.192</td> <td>  -18.584</td> <td> 0.000</td> <td>   -3.941</td> <td>   -3.189</td>\n",
       "</tr>\n",
       "<tr>\n",
       "  <th>Unemployed</th>                  <td>   -2.4291</td> <td>    0.181</td> <td>  -13.453</td> <td> 0.000</td> <td>   -2.783</td> <td>   -2.075</td>\n",
       "</tr>\n",
       "<tr>\n",
       "  <th>Olark Chat</th>                  <td>    1.4839</td> <td>    0.139</td> <td>   10.645</td> <td> 0.000</td> <td>    1.211</td> <td>    1.757</td>\n",
       "</tr>\n",
       "<tr>\n",
       "  <th>Welingak Website</th>            <td>    1.8138</td> <td>    0.666</td> <td>    2.722</td> <td> 0.006</td> <td>    0.508</td> <td>    3.120</td>\n",
       "</tr>\n",
       "<tr>\n",
       "  <th>LA_Converted to Lead</th>        <td>   -1.3342</td> <td>    0.240</td> <td>   -5.565</td> <td> 0.000</td> <td>   -1.804</td> <td>   -0.864</td>\n",
       "</tr>\n",
       "<tr>\n",
       "  <th>LA_Email Bounced</th>            <td>   -1.9047</td> <td>    0.357</td> <td>   -5.343</td> <td> 0.000</td> <td>   -2.603</td> <td>   -1.206</td>\n",
       "</tr>\n",
       "<tr>\n",
       "  <th>LA_Olark Chat Conversation</th>  <td>   -1.6054</td> <td>    0.176</td> <td>   -9.109</td> <td> 0.000</td> <td>   -1.951</td> <td>   -1.260</td>\n",
       "</tr>\n",
       "<tr>\n",
       "  <th>LA_SMS Sent</th>                 <td>    1.2087</td> <td>    0.078</td> <td>   15.456</td> <td> 0.000</td> <td>    1.055</td> <td>    1.362</td>\n",
       "</tr>\n",
       "</table>"
      ],
      "text/plain": [
       "<class 'statsmodels.iolib.summary.Summary'>\n",
       "\"\"\"\n",
       "                 Generalized Linear Model Regression Results                  \n",
       "==============================================================================\n",
       "Dep. Variable:              Converted   No. Observations:                 5978\n",
       "Model:                            GLM   Df Residuals:                     5965\n",
       "Model Family:                Binomial   Df Model:                           12\n",
       "Link Function:                  logit   Scale:                          1.0000\n",
       "Method:                          IRLS   Log-Likelihood:                -2409.8\n",
       "Date:                Sun, 03 Mar 2019   Deviance:                       4819.6\n",
       "Time:                        21:24:29   Pearson chi2:                 6.10e+03\n",
       "No. Iterations:                     7   Covariance Type:             nonrobust\n",
       "===============================================================================================\n",
       "                                  coef    std err          z      P>|z|      [0.025      0.975]\n",
       "-----------------------------------------------------------------------------------------------\n",
       "const                           0.2446      0.209      1.173      0.241      -0.164       0.653\n",
       "TotalVisits                     0.8946      0.216      4.147      0.000       0.472       1.317\n",
       "Total Time Spent on Website     4.5050      0.169     26.679      0.000       4.174       4.836\n",
       "Landing Page Submission        -0.4191      0.093     -4.518      0.000      -0.601      -0.237\n",
       "Lead Add Form                   3.7718      0.247     15.247      0.000       3.287       4.257\n",
       "Student                        -3.5651      0.192    -18.584      0.000      -3.941      -3.189\n",
       "Unemployed                     -2.4291      0.181    -13.453      0.000      -2.783      -2.075\n",
       "Olark Chat                      1.4839      0.139     10.645      0.000       1.211       1.757\n",
       "Welingak Website                1.8138      0.666      2.722      0.006       0.508       3.120\n",
       "LA_Converted to Lead           -1.3342      0.240     -5.565      0.000      -1.804      -0.864\n",
       "LA_Email Bounced               -1.9047      0.357     -5.343      0.000      -2.603      -1.206\n",
       "LA_Olark Chat Conversation     -1.6054      0.176     -9.109      0.000      -1.951      -1.260\n",
       "LA_SMS Sent                     1.2087      0.078     15.456      0.000       1.055       1.362\n",
       "===============================================================================================\n",
       "\"\"\""
      ]
     },
     "execution_count": 963,
     "metadata": {},
     "output_type": "execute_result"
    }
   ],
   "source": [
    "# Let's re-run the model using the selected variables\n",
    "X_train_sm = sm.add_constant(X_train[col])\n",
    "log4 = sm.GLM(y_train,X_train_sm, family = sm.families.Binomial())\n",
    "res = log4.fit()\n",
    "res.summary()"
   ]
  },
  {
   "cell_type": "code",
   "execution_count": 964,
   "metadata": {},
   "outputs": [
    {
     "data": {
      "text/plain": [
       "2135    0.372730\n",
       "8818    0.125479\n",
       "3328    0.624347\n",
       "3259    0.137450\n",
       "1551    0.191728\n",
       "7163    0.028155\n",
       "3986    0.188748\n",
       "1354    0.967739\n",
       "3607    0.183255\n",
       "4952    0.290270\n",
       "dtype: float64"
      ]
     },
     "execution_count": 964,
     "metadata": {},
     "output_type": "execute_result"
    }
   ],
   "source": [
    "# Getting the predicted values on the train set\n",
    "y_train_pred = res.predict(X_train_sm)\n",
    "y_train_pred[:10]"
   ]
  },
  {
   "cell_type": "markdown",
   "metadata": {},
   "source": [
    "## Converting the prediction probabilities in a score of 0 to 100"
   ]
  },
  {
   "cell_type": "code",
   "execution_count": 965,
   "metadata": {},
   "outputs": [],
   "source": [
    "y_train_pred = round(y_train_pred * 100,0)"
   ]
  },
  {
   "cell_type": "code",
   "execution_count": 966,
   "metadata": {},
   "outputs": [
    {
     "data": {
      "text/plain": [
       "array([37., 13., 62., 14., 19.,  3., 19., 97., 18., 29.])"
      ]
     },
     "execution_count": 966,
     "metadata": {},
     "output_type": "execute_result"
    }
   ],
   "source": [
    "y_train_pred = y_train_pred.values.reshape(-1)\n",
    "y_train_pred[:10]"
   ]
  },
  {
   "cell_type": "code",
   "execution_count": 967,
   "metadata": {},
   "outputs": [
    {
     "data": {
      "text/html": [
       "<div>\n",
       "<style scoped>\n",
       "    .dataframe tbody tr th:only-of-type {\n",
       "        vertical-align: middle;\n",
       "    }\n",
       "\n",
       "    .dataframe tbody tr th {\n",
       "        vertical-align: top;\n",
       "    }\n",
       "\n",
       "    .dataframe thead th {\n",
       "        text-align: right;\n",
       "    }\n",
       "</style>\n",
       "<table border=\"1\" class=\"dataframe\">\n",
       "  <thead>\n",
       "    <tr style=\"text-align: right;\">\n",
       "      <th></th>\n",
       "      <th>Converted</th>\n",
       "      <th>Lead Score</th>\n",
       "      <th>LeadID</th>\n",
       "    </tr>\n",
       "  </thead>\n",
       "  <tbody>\n",
       "    <tr>\n",
       "      <th>0</th>\n",
       "      <td>1</td>\n",
       "      <td>37.0</td>\n",
       "      <td>2135</td>\n",
       "    </tr>\n",
       "    <tr>\n",
       "      <th>1</th>\n",
       "      <td>1</td>\n",
       "      <td>13.0</td>\n",
       "      <td>8818</td>\n",
       "    </tr>\n",
       "    <tr>\n",
       "      <th>2</th>\n",
       "      <td>1</td>\n",
       "      <td>62.0</td>\n",
       "      <td>3328</td>\n",
       "    </tr>\n",
       "    <tr>\n",
       "      <th>3</th>\n",
       "      <td>0</td>\n",
       "      <td>14.0</td>\n",
       "      <td>3259</td>\n",
       "    </tr>\n",
       "    <tr>\n",
       "      <th>4</th>\n",
       "      <td>0</td>\n",
       "      <td>19.0</td>\n",
       "      <td>1551</td>\n",
       "    </tr>\n",
       "  </tbody>\n",
       "</table>\n",
       "</div>"
      ],
      "text/plain": [
       "   Converted  Lead Score  LeadID\n",
       "0          1        37.0    2135\n",
       "1          1        13.0    8818\n",
       "2          1        62.0    3328\n",
       "3          0        14.0    3259\n",
       "4          0        19.0    1551"
      ]
     },
     "execution_count": 967,
     "metadata": {},
     "output_type": "execute_result"
    }
   ],
   "source": [
    "y_train_pred_final = pd.DataFrame({'Converted':y_train.values, 'Lead Score':y_train_pred})\n",
    "y_train_pred_final['LeadID'] = y_train.index\n",
    "y_train_pred_final.head()"
   ]
  },
  {
   "cell_type": "code",
   "execution_count": 968,
   "metadata": {},
   "outputs": [
    {
     "data": {
      "text/html": [
       "<div>\n",
       "<style scoped>\n",
       "    .dataframe tbody tr th:only-of-type {\n",
       "        vertical-align: middle;\n",
       "    }\n",
       "\n",
       "    .dataframe tbody tr th {\n",
       "        vertical-align: top;\n",
       "    }\n",
       "\n",
       "    .dataframe thead th {\n",
       "        text-align: right;\n",
       "    }\n",
       "</style>\n",
       "<table border=\"1\" class=\"dataframe\">\n",
       "  <thead>\n",
       "    <tr style=\"text-align: right;\">\n",
       "      <th></th>\n",
       "      <th>Converted</th>\n",
       "      <th>Lead Score</th>\n",
       "      <th>LeadID</th>\n",
       "      <th>predicted</th>\n",
       "    </tr>\n",
       "  </thead>\n",
       "  <tbody>\n",
       "    <tr>\n",
       "      <th>0</th>\n",
       "      <td>1</td>\n",
       "      <td>37.0</td>\n",
       "      <td>2135</td>\n",
       "      <td>0</td>\n",
       "    </tr>\n",
       "    <tr>\n",
       "      <th>1</th>\n",
       "      <td>1</td>\n",
       "      <td>13.0</td>\n",
       "      <td>8818</td>\n",
       "      <td>0</td>\n",
       "    </tr>\n",
       "    <tr>\n",
       "      <th>2</th>\n",
       "      <td>1</td>\n",
       "      <td>62.0</td>\n",
       "      <td>3328</td>\n",
       "      <td>1</td>\n",
       "    </tr>\n",
       "    <tr>\n",
       "      <th>3</th>\n",
       "      <td>0</td>\n",
       "      <td>14.0</td>\n",
       "      <td>3259</td>\n",
       "      <td>0</td>\n",
       "    </tr>\n",
       "    <tr>\n",
       "      <th>4</th>\n",
       "      <td>0</td>\n",
       "      <td>19.0</td>\n",
       "      <td>1551</td>\n",
       "      <td>0</td>\n",
       "    </tr>\n",
       "  </tbody>\n",
       "</table>\n",
       "</div>"
      ],
      "text/plain": [
       "   Converted  Lead Score  LeadID  predicted\n",
       "0          1        37.0    2135          0\n",
       "1          1        13.0    8818          0\n",
       "2          1        62.0    3328          1\n",
       "3          0        14.0    3259          0\n",
       "4          0        19.0    1551          0"
      ]
     },
     "execution_count": 968,
     "metadata": {},
     "output_type": "execute_result"
    }
   ],
   "source": [
    "# Using the previously selected cut off of 50\n",
    "y_train_pred_final['predicted'] = y_train_pred_final['Lead Score'].map(lambda x: 1 if x > 50 else 0)\n",
    "\n",
    "# Let's see the head\n",
    "y_train_pred_final.head()"
   ]
  },
  {
   "cell_type": "code",
   "execution_count": 969,
   "metadata": {},
   "outputs": [
    {
     "name": "stdout",
     "output_type": "stream",
     "text": [
      "0.8178320508531282\n"
     ]
    }
   ],
   "source": [
    "# Let's check the overall accuracy.\n",
    "print(metrics.accuracy_score(y_train_pred_final.Converted, y_train_pred_final.predicted))"
   ]
  },
  {
   "cell_type": "markdown",
   "metadata": {},
   "source": [
    "Thus it can be noted that by dropping the variable 'Page Views Per Visit', the overall accuracy of the model has not reduced."
   ]
  },
  {
   "cell_type": "code",
   "execution_count": 970,
   "metadata": {},
   "outputs": [
    {
     "data": {
      "text/html": [
       "<div>\n",
       "<style scoped>\n",
       "    .dataframe tbody tr th:only-of-type {\n",
       "        vertical-align: middle;\n",
       "    }\n",
       "\n",
       "    .dataframe tbody tr th {\n",
       "        vertical-align: top;\n",
       "    }\n",
       "\n",
       "    .dataframe thead th {\n",
       "        text-align: right;\n",
       "    }\n",
       "</style>\n",
       "<table border=\"1\" class=\"dataframe\">\n",
       "  <thead>\n",
       "    <tr style=\"text-align: right;\">\n",
       "      <th></th>\n",
       "      <th>Features</th>\n",
       "      <th>VIF</th>\n",
       "    </tr>\n",
       "  </thead>\n",
       "  <tbody>\n",
       "    <tr>\n",
       "      <th>5</th>\n",
       "      <td>Unemployed</td>\n",
       "      <td>4.28</td>\n",
       "    </tr>\n",
       "    <tr>\n",
       "      <th>0</th>\n",
       "      <td>TotalVisits</td>\n",
       "      <td>3.79</td>\n",
       "    </tr>\n",
       "    <tr>\n",
       "      <th>2</th>\n",
       "      <td>Landing Page Submission</td>\n",
       "      <td>3.16</td>\n",
       "    </tr>\n",
       "    <tr>\n",
       "      <th>4</th>\n",
       "      <td>Student</td>\n",
       "      <td>2.88</td>\n",
       "    </tr>\n",
       "    <tr>\n",
       "      <th>6</th>\n",
       "      <td>Olark Chat</td>\n",
       "      <td>2.37</td>\n",
       "    </tr>\n",
       "    <tr>\n",
       "      <th>1</th>\n",
       "      <td>Total Time Spent on Website</td>\n",
       "      <td>2.19</td>\n",
       "    </tr>\n",
       "    <tr>\n",
       "      <th>11</th>\n",
       "      <td>LA_SMS Sent</td>\n",
       "      <td>1.59</td>\n",
       "    </tr>\n",
       "    <tr>\n",
       "      <th>3</th>\n",
       "      <td>Lead Add Form</td>\n",
       "      <td>1.56</td>\n",
       "    </tr>\n",
       "    <tr>\n",
       "      <th>10</th>\n",
       "      <td>LA_Olark Chat Conversation</td>\n",
       "      <td>1.49</td>\n",
       "    </tr>\n",
       "    <tr>\n",
       "      <th>7</th>\n",
       "      <td>Welingak Website</td>\n",
       "      <td>1.34</td>\n",
       "    </tr>\n",
       "    <tr>\n",
       "      <th>8</th>\n",
       "      <td>LA_Converted to Lead</td>\n",
       "      <td>1.14</td>\n",
       "    </tr>\n",
       "    <tr>\n",
       "      <th>9</th>\n",
       "      <td>LA_Email Bounced</td>\n",
       "      <td>1.09</td>\n",
       "    </tr>\n",
       "  </tbody>\n",
       "</table>\n",
       "</div>"
      ],
      "text/plain": [
       "                       Features   VIF\n",
       "5                    Unemployed  4.28\n",
       "0                   TotalVisits  3.79\n",
       "2       Landing Page Submission  3.16\n",
       "4                       Student  2.88\n",
       "6                    Olark Chat  2.37\n",
       "1   Total Time Spent on Website  2.19\n",
       "11                  LA_SMS Sent  1.59\n",
       "3                 Lead Add Form  1.56\n",
       "10   LA_Olark Chat Conversation  1.49\n",
       "7              Welingak Website  1.34\n",
       "8          LA_Converted to Lead  1.14\n",
       "9              LA_Email Bounced  1.09"
      ]
     },
     "execution_count": 970,
     "metadata": {},
     "output_type": "execute_result"
    }
   ],
   "source": [
    "# Create a dataframe that will contain the names of all the feature variables and their respective VIFs\n",
    "vif = pd.DataFrame()\n",
    "vif['Features'] = X_train[col].columns\n",
    "vif['VIF'] = [variance_inflation_factor(X_train[col].values, i) for i in range(X_train[col].shape[1])]\n",
    "vif['VIF'] = round(vif['VIF'], 2)\n",
    "vif = vif.sort_values(by = \"VIF\", ascending = False)\n",
    "vif"
   ]
  },
  {
   "cell_type": "markdown",
   "metadata": {},
   "source": [
    "No need to drop any other variable as all the VIFs are less than 5"
   ]
  },
  {
   "cell_type": "code",
   "execution_count": 971,
   "metadata": {},
   "outputs": [
    {
     "name": "stdout",
     "output_type": "stream",
     "text": [
      "[[3323  406]\n",
      " [ 683 1566]]\n"
     ]
    }
   ],
   "source": [
    "# Confusion matrix \n",
    "confusion = metrics.confusion_matrix(y_train_pred_final.Converted, y_train_pred_final.predicted )\n",
    "print(confusion)"
   ]
  },
  {
   "cell_type": "code",
   "execution_count": 972,
   "metadata": {},
   "outputs": [
    {
     "name": "stdout",
     "output_type": "stream",
     "text": [
      "0.8178320508531282\n"
     ]
    }
   ],
   "source": [
    "# Let's check the overall accuracy.\n",
    "print(metrics.accuracy_score(y_train_pred_final.Converted, y_train_pred_final.predicted))"
   ]
  },
  {
   "cell_type": "code",
   "execution_count": 973,
   "metadata": {},
   "outputs": [],
   "source": [
    "TP = confusion[1,1] # true positive \n",
    "TN = confusion[0,0] # true negatives\n",
    "FP = confusion[0,1] # false positives\n",
    "FN = confusion[1,0] # false negatives"
   ]
  },
  {
   "cell_type": "code",
   "execution_count": 974,
   "metadata": {},
   "outputs": [
    {
     "data": {
      "text/plain": [
       "0.6963094708759449"
      ]
     },
     "execution_count": 974,
     "metadata": {},
     "output_type": "execute_result"
    }
   ],
   "source": [
    "# Let's see the sensitivity of our logistic regression model\n",
    "TP / float(TP+FN)"
   ]
  },
  {
   "cell_type": "code",
   "execution_count": 975,
   "metadata": {},
   "outputs": [
    {
     "data": {
      "text/plain": [
       "0.8911236256369"
      ]
     },
     "execution_count": 975,
     "metadata": {},
     "output_type": "execute_result"
    }
   ],
   "source": [
    "# Let us calculate specificity\n",
    "TN / float(TN+FP)"
   ]
  },
  {
   "cell_type": "code",
   "execution_count": 976,
   "metadata": {},
   "outputs": [
    {
     "name": "stdout",
     "output_type": "stream",
     "text": [
      "0.10887637436310002\n"
     ]
    }
   ],
   "source": [
    "# Calculate false postive rate - predicting converted when lead has not been converted\n",
    "print(FP/ float(TN+FP))"
   ]
  },
  {
   "cell_type": "code",
   "execution_count": 977,
   "metadata": {},
   "outputs": [
    {
     "name": "stdout",
     "output_type": "stream",
     "text": [
      "0.7941176470588235\n"
     ]
    }
   ],
   "source": [
    "# Precision - positive predictive value \n",
    "print (TP / float(TP+FP))"
   ]
  },
  {
   "cell_type": "code",
   "execution_count": 978,
   "metadata": {},
   "outputs": [
    {
     "name": "stdout",
     "output_type": "stream",
     "text": [
      "0.8295057413879181\n"
     ]
    }
   ],
   "source": [
    "# Negative predictive value\n",
    "print (TN / float(TN+ FN))"
   ]
  },
  {
   "cell_type": "code",
   "execution_count": 979,
   "metadata": {},
   "outputs": [],
   "source": [
    "def draw_roc( actual, probs ):\n",
    "    fpr, tpr, thresholds = metrics.roc_curve( actual, probs,\n",
    "                                              drop_intermediate = False )\n",
    "    auc_score = metrics.roc_auc_score( actual, probs )\n",
    "    plt.figure(figsize=(5, 5))\n",
    "    plt.plot( fpr, tpr, label='ROC curve (area = %0.2f)' % auc_score )\n",
    "    plt.plot([0, 1], [0, 1], 'k--')\n",
    "    plt.xlim([0.0, 1.0])\n",
    "    plt.ylim([0.0, 1.1])\n",
    "    plt.xlabel('False Positive Rate or [1 - True Negative Rate]')\n",
    "    plt.ylabel('True Positive Rate')\n",
    "    plt.title('Receiver operating characteristic example')\n",
    "    plt.legend(loc=\"lower right\")\n",
    "    plt.show()\n",
    "\n",
    "    return None"
   ]
  },
  {
   "cell_type": "code",
   "execution_count": 980,
   "metadata": {},
   "outputs": [],
   "source": [
    "fpr, tpr, thresholds = metrics.roc_curve( y_train_pred_final.Converted, y_train_pred_final['Lead Score'], drop_intermediate = False )"
   ]
  },
  {
   "cell_type": "code",
   "execution_count": 981,
   "metadata": {},
   "outputs": [
    {
     "data": {
      "image/png": "[encoded data removed]",
      "text/plain": [
       "<Figure size 360x360 with 1 Axes>"
      ]
     },
     "metadata": {},
     "output_type": "display_data"
    }
   ],
   "source": [
    "draw_roc(y_train_pred_final.Converted, y_train_pred_final['Lead Score'])"
   ]
  },
  {
   "cell_type": "code",
   "execution_count": 982,
   "metadata": {},
   "outputs": [
    {
     "data": {
      "text/html": [
       "<div>\n",
       "<style scoped>\n",
       "    .dataframe tbody tr th:only-of-type {\n",
       "        vertical-align: middle;\n",
       "    }\n",
       "\n",
       "    .dataframe tbody tr th {\n",
       "        vertical-align: top;\n",
       "    }\n",
       "\n",
       "    .dataframe thead th {\n",
       "        text-align: right;\n",
       "    }\n",
       "</style>\n",
       "<table border=\"1\" class=\"dataframe\">\n",
       "  <thead>\n",
       "    <tr style=\"text-align: right;\">\n",
       "      <th></th>\n",
       "      <th>Converted</th>\n",
       "      <th>Lead Score</th>\n",
       "      <th>LeadID</th>\n",
       "      <th>predicted</th>\n",
       "      <th>0</th>\n",
       "      <th>10</th>\n",
       "      <th>20</th>\n",
       "      <th>30</th>\n",
       "      <th>40</th>\n",
       "      <th>50</th>\n",
       "      <th>60</th>\n",
       "      <th>70</th>\n",
       "      <th>80</th>\n",
       "      <th>90</th>\n",
       "    </tr>\n",
       "  </thead>\n",
       "  <tbody>\n",
       "    <tr>\n",
       "      <th>0</th>\n",
       "      <td>1</td>\n",
       "      <td>37.0</td>\n",
       "      <td>2135</td>\n",
       "      <td>0</td>\n",
       "      <td>1</td>\n",
       "      <td>1</td>\n",
       "      <td>1</td>\n",
       "      <td>1</td>\n",
       "      <td>0</td>\n",
       "      <td>0</td>\n",
       "      <td>0</td>\n",
       "      <td>0</td>\n",
       "      <td>0</td>\n",
       "      <td>0</td>\n",
       "    </tr>\n",
       "    <tr>\n",
       "      <th>1</th>\n",
       "      <td>1</td>\n",
       "      <td>13.0</td>\n",
       "      <td>8818</td>\n",
       "      <td>0</td>\n",
       "      <td>1</td>\n",
       "      <td>1</td>\n",
       "      <td>0</td>\n",
       "      <td>0</td>\n",
       "      <td>0</td>\n",
       "      <td>0</td>\n",
       "      <td>0</td>\n",
       "      <td>0</td>\n",
       "      <td>0</td>\n",
       "      <td>0</td>\n",
       "    </tr>\n",
       "    <tr>\n",
       "      <th>2</th>\n",
       "      <td>1</td>\n",
       "      <td>62.0</td>\n",
       "      <td>3328</td>\n",
       "      <td>1</td>\n",
       "      <td>1</td>\n",
       "      <td>1</td>\n",
       "      <td>1</td>\n",
       "      <td>1</td>\n",
       "      <td>1</td>\n",
       "      <td>1</td>\n",
       "      <td>1</td>\n",
       "      <td>0</td>\n",
       "      <td>0</td>\n",
       "      <td>0</td>\n",
       "    </tr>\n",
       "    <tr>\n",
       "      <th>3</th>\n",
       "      <td>0</td>\n",
       "      <td>14.0</td>\n",
       "      <td>3259</td>\n",
       "      <td>0</td>\n",
       "      <td>1</td>\n",
       "      <td>1</td>\n",
       "      <td>0</td>\n",
       "      <td>0</td>\n",
       "      <td>0</td>\n",
       "      <td>0</td>\n",
       "      <td>0</td>\n",
       "      <td>0</td>\n",
       "      <td>0</td>\n",
       "      <td>0</td>\n",
       "    </tr>\n",
       "    <tr>\n",
       "      <th>4</th>\n",
       "      <td>0</td>\n",
       "      <td>19.0</td>\n",
       "      <td>1551</td>\n",
       "      <td>0</td>\n",
       "      <td>1</td>\n",
       "      <td>1</td>\n",
       "      <td>0</td>\n",
       "      <td>0</td>\n",
       "      <td>0</td>\n",
       "      <td>0</td>\n",
       "      <td>0</td>\n",
       "      <td>0</td>\n",
       "      <td>0</td>\n",
       "      <td>0</td>\n",
       "    </tr>\n",
       "  </tbody>\n",
       "</table>\n",
       "</div>"
      ],
      "text/plain": [
       "   Converted  Lead Score  LeadID  predicted  0  10  20  30  40  50  60  70  \\\n",
       "0          1        37.0    2135          0  1   1   1   1   0   0   0   0   \n",
       "1          1        13.0    8818          0  1   1   0   0   0   0   0   0   \n",
       "2          1        62.0    3328          1  1   1   1   1   1   1   1   0   \n",
       "3          0        14.0    3259          0  1   1   0   0   0   0   0   0   \n",
       "4          0        19.0    1551          0  1   1   0   0   0   0   0   0   \n",
       "\n",
       "   80  90  \n",
       "0   0   0  \n",
       "1   0   0  \n",
       "2   0   0  \n",
       "3   0   0  \n",
       "4   0   0  "
      ]
     },
     "execution_count": 982,
     "metadata": {},
     "output_type": "execute_result"
    }
   ],
   "source": [
    "# Let's create columns with different probability cutoffs \n",
    "numbers = [x for x in range(0,100,10)]\n",
    "for i in numbers:\n",
    "    y_train_pred_final[i]= y_train_pred_final['Lead Score'].map(lambda x: 1 if x > i else 0)\n",
    "y_train_pred_final.head()"
   ]
  },
  {
   "cell_type": "code",
   "execution_count": 983,
   "metadata": {},
   "outputs": [
    {
     "name": "stdout",
     "output_type": "stream",
     "text": [
      "    Lead Score  accuracy  sensitivity  specificity\n",
      "0          0.0  0.377718     1.000000     0.002414\n",
      "10        10.0  0.631649     0.971543     0.426656\n",
      "20        20.0  0.764637     0.912406     0.675516\n",
      "30        30.0  0.794078     0.868386     0.749263\n",
      "40        40.0  0.817999     0.764784     0.850094\n",
      "50        50.0  0.817832     0.696309     0.891124\n",
      "60        60.0  0.811810     0.634504     0.918745\n",
      "70        70.0  0.782703     0.506892     0.949048\n",
      "80        80.0  0.761961     0.417964     0.969429\n",
      "90        90.0  0.716628     0.265007     0.989005\n"
     ]
    }
   ],
   "source": [
    "# Now let's calculate accuracy sensitivity and specificity for various probability cutoffs.\n",
    "cutoff_df = pd.DataFrame( columns = ['Lead Score','accuracy','sensitivity','specificity'])\n",
    "from sklearn.metrics import confusion_matrix\n",
    "\n",
    "num = [0,10,20,30,40,50,60,70,80,90]\n",
    "for i in num:\n",
    "    cm1 = metrics.confusion_matrix(y_train_pred_final.Converted, y_train_pred_final[i] )\n",
    "    total1=sum(sum(cm1))\n",
    "    accuracy = (cm1[0,0]+cm1[1,1])/total1\n",
    "    \n",
    "    speci = cm1[0,0]/(cm1[0,0]+cm1[0,1])\n",
    "    sensi = cm1[1,1]/(cm1[1,0]+cm1[1,1])\n",
    "    cutoff_df.loc[i] =[ i ,accuracy,sensi,speci]\n",
    "print(cutoff_df)"
   ]
  },
  {
   "cell_type": "code",
   "execution_count": 984,
   "metadata": {},
   "outputs": [
    {
     "data": {
      "image/png": "[encoded data removed]",
      "text/plain": [
       "<Figure size 432x288 with 1 Axes>"
      ]
     },
     "metadata": {},
     "output_type": "display_data"
    }
   ],
   "source": [
    "# Let's plot accuracy sensitivity and specificity for various probabilities.\n",
    "cutoff_df.plot.line(x='Lead Score', y=['accuracy','sensitivity','specificity'])\n",
    "plt.show()"
   ]
  },
  {
   "cell_type": "markdown",
   "metadata": {},
   "source": [
    "Precision recall tradeoff"
   ]
  },
  {
   "cell_type": "code",
   "execution_count": 985,
   "metadata": {},
   "outputs": [],
   "source": [
    "from sklearn.metrics import precision_recall_curve"
   ]
  },
  {
   "cell_type": "code",
   "execution_count": 986,
   "metadata": {},
   "outputs": [
    {
     "data": {
      "text/plain": [
       "(0       1\n",
       " 1       1\n",
       " 2       1\n",
       " 3       0\n",
       " 4       0\n",
       " 5       0\n",
       " 6       0\n",
       " 7       1\n",
       " 8       1\n",
       " 9       1\n",
       " 10      0\n",
       " 11      1\n",
       " 12      1\n",
       " 13      0\n",
       " 14      0\n",
       " 15      0\n",
       " 16      0\n",
       " 17      0\n",
       " 18      1\n",
       " 19      0\n",
       " 20      0\n",
       " 21      1\n",
       " 22      0\n",
       " 23      1\n",
       " 24      0\n",
       " 25      0\n",
       " 26      1\n",
       " 27      0\n",
       " 28      0\n",
       " 29      0\n",
       "        ..\n",
       " 5948    1\n",
       " 5949    0\n",
       " 5950    1\n",
       " 5951    0\n",
       " 5952    0\n",
       " 5953    0\n",
       " 5954    0\n",
       " 5955    1\n",
       " 5956    0\n",
       " 5957    1\n",
       " 5958    1\n",
       " 5959    1\n",
       " 5960    0\n",
       " 5961    0\n",
       " 5962    0\n",
       " 5963    1\n",
       " 5964    0\n",
       " 5965    0\n",
       " 5966    1\n",
       " 5967    0\n",
       " 5968    1\n",
       " 5969    0\n",
       " 5970    0\n",
       " 5971    1\n",
       " 5972    0\n",
       " 5973    0\n",
       " 5974    1\n",
       " 5975    0\n",
       " 5976    1\n",
       " 5977    1\n",
       " Name: Converted, Length: 5978, dtype: int64, 0       0\n",
       " 1       0\n",
       " 2       1\n",
       " 3       0\n",
       " 4       0\n",
       " 5       0\n",
       " 6       0\n",
       " 7       1\n",
       " 8       0\n",
       " 9       0\n",
       " 10      0\n",
       " 11      1\n",
       " 12      1\n",
       " 13      0\n",
       " 14      0\n",
       " 15      0\n",
       " 16      0\n",
       " 17      0\n",
       " 18      1\n",
       " 19      0\n",
       " 20      0\n",
       " 21      1\n",
       " 22      0\n",
       " 23      1\n",
       " 24      1\n",
       " 25      0\n",
       " 26      1\n",
       " 27      0\n",
       " 28      0\n",
       " 29      0\n",
       "        ..\n",
       " 5948    0\n",
       " 5949    0\n",
       " 5950    1\n",
       " 5951    0\n",
       " 5952    0\n",
       " 5953    0\n",
       " 5954    0\n",
       " 5955    0\n",
       " 5956    1\n",
       " 5957    1\n",
       " 5958    1\n",
       " 5959    1\n",
       " 5960    0\n",
       " 5961    0\n",
       " 5962    0\n",
       " 5963    1\n",
       " 5964    0\n",
       " 5965    0\n",
       " 5966    1\n",
       " 5967    0\n",
       " 5968    1\n",
       " 5969    0\n",
       " 5970    0\n",
       " 5971    1\n",
       " 5972    0\n",
       " 5973    1\n",
       " 5974    1\n",
       " 5975    0\n",
       " 5976    0\n",
       " 5977    1\n",
       " Name: predicted, Length: 5978, dtype: int64)"
      ]
     },
     "execution_count": 986,
     "metadata": {},
     "output_type": "execute_result"
    }
   ],
   "source": [
    "y_train_pred_final.Converted, y_train_pred_final.predicted"
   ]
  },
  {
   "cell_type": "code",
   "execution_count": 987,
   "metadata": {},
   "outputs": [],
   "source": [
    "p, r, thresholds = precision_recall_curve(y_train_pred_final.Converted, y_train_pred_final['Lead Score'])"
   ]
  },
  {
   "cell_type": "code",
   "execution_count": 988,
   "metadata": {},
   "outputs": [
    {
     "data": {
      "image/png": "[encoded data removed]",
      "text/plain": [
       "<Figure size 432x288 with 1 Axes>"
      ]
     },
     "metadata": {},
     "output_type": "display_data"
    }
   ],
   "source": [
    "plt.plot(thresholds, p[:-1], \"g-\")\n",
    "plt.plot(thresholds, r[:-1], \"r-\")\n",
    "plt.show()"
   ]
  },
  {
   "cell_type": "markdown",
   "metadata": {},
   "source": [
    "## Since the CFO has given a ballpark figure of lead conversion rate to be of 80 % i.e. we have to maintain precision of atleast 0.80"
   ]
  },
  {
   "cell_type": "code",
   "execution_count": 989,
   "metadata": {},
   "outputs": [
    {
     "data": {
      "text/html": [
       "<div>\n",
       "<style scoped>\n",
       "    .dataframe tbody tr th:only-of-type {\n",
       "        vertical-align: middle;\n",
       "    }\n",
       "\n",
       "    .dataframe tbody tr th {\n",
       "        vertical-align: top;\n",
       "    }\n",
       "\n",
       "    .dataframe thead th {\n",
       "        text-align: right;\n",
       "    }\n",
       "</style>\n",
       "<table border=\"1\" class=\"dataframe\">\n",
       "  <thead>\n",
       "    <tr style=\"text-align: right;\">\n",
       "      <th></th>\n",
       "      <th>Converted</th>\n",
       "      <th>Lead Score</th>\n",
       "      <th>LeadID</th>\n",
       "      <th>predicted</th>\n",
       "      <th>0</th>\n",
       "      <th>10</th>\n",
       "      <th>20</th>\n",
       "      <th>30</th>\n",
       "      <th>40</th>\n",
       "      <th>50</th>\n",
       "      <th>60</th>\n",
       "      <th>70</th>\n",
       "      <th>80</th>\n",
       "      <th>90</th>\n",
       "      <th>final_predicted</th>\n",
       "    </tr>\n",
       "  </thead>\n",
       "  <tbody>\n",
       "    <tr>\n",
       "      <th>0</th>\n",
       "      <td>1</td>\n",
       "      <td>37.0</td>\n",
       "      <td>2135</td>\n",
       "      <td>0</td>\n",
       "      <td>1</td>\n",
       "      <td>1</td>\n",
       "      <td>1</td>\n",
       "      <td>1</td>\n",
       "      <td>0</td>\n",
       "      <td>0</td>\n",
       "      <td>0</td>\n",
       "      <td>0</td>\n",
       "      <td>0</td>\n",
       "      <td>0</td>\n",
       "      <td>0</td>\n",
       "    </tr>\n",
       "    <tr>\n",
       "      <th>1</th>\n",
       "      <td>1</td>\n",
       "      <td>13.0</td>\n",
       "      <td>8818</td>\n",
       "      <td>0</td>\n",
       "      <td>1</td>\n",
       "      <td>1</td>\n",
       "      <td>0</td>\n",
       "      <td>0</td>\n",
       "      <td>0</td>\n",
       "      <td>0</td>\n",
       "      <td>0</td>\n",
       "      <td>0</td>\n",
       "      <td>0</td>\n",
       "      <td>0</td>\n",
       "      <td>0</td>\n",
       "    </tr>\n",
       "    <tr>\n",
       "      <th>2</th>\n",
       "      <td>1</td>\n",
       "      <td>62.0</td>\n",
       "      <td>3328</td>\n",
       "      <td>1</td>\n",
       "      <td>1</td>\n",
       "      <td>1</td>\n",
       "      <td>1</td>\n",
       "      <td>1</td>\n",
       "      <td>1</td>\n",
       "      <td>1</td>\n",
       "      <td>1</td>\n",
       "      <td>0</td>\n",
       "      <td>0</td>\n",
       "      <td>0</td>\n",
       "      <td>1</td>\n",
       "    </tr>\n",
       "    <tr>\n",
       "      <th>3</th>\n",
       "      <td>0</td>\n",
       "      <td>14.0</td>\n",
       "      <td>3259</td>\n",
       "      <td>0</td>\n",
       "      <td>1</td>\n",
       "      <td>1</td>\n",
       "      <td>0</td>\n",
       "      <td>0</td>\n",
       "      <td>0</td>\n",
       "      <td>0</td>\n",
       "      <td>0</td>\n",
       "      <td>0</td>\n",
       "      <td>0</td>\n",
       "      <td>0</td>\n",
       "      <td>0</td>\n",
       "    </tr>\n",
       "    <tr>\n",
       "      <th>4</th>\n",
       "      <td>0</td>\n",
       "      <td>19.0</td>\n",
       "      <td>1551</td>\n",
       "      <td>0</td>\n",
       "      <td>1</td>\n",
       "      <td>1</td>\n",
       "      <td>0</td>\n",
       "      <td>0</td>\n",
       "      <td>0</td>\n",
       "      <td>0</td>\n",
       "      <td>0</td>\n",
       "      <td>0</td>\n",
       "      <td>0</td>\n",
       "      <td>0</td>\n",
       "      <td>0</td>\n",
       "    </tr>\n",
       "  </tbody>\n",
       "</table>\n",
       "</div>"
      ],
      "text/plain": [
       "   Converted  Lead Score  LeadID  predicted  0  10  20  30  40  50  60  70  \\\n",
       "0          1        37.0    2135          0  1   1   1   1   0   0   0   0   \n",
       "1          1        13.0    8818          0  1   1   0   0   0   0   0   0   \n",
       "2          1        62.0    3328          1  1   1   1   1   1   1   1   0   \n",
       "3          0        14.0    3259          0  1   1   0   0   0   0   0   0   \n",
       "4          0        19.0    1551          0  1   1   0   0   0   0   0   0   \n",
       "\n",
       "   80  90  final_predicted  \n",
       "0   0   0                0  \n",
       "1   0   0                0  \n",
       "2   0   0                1  \n",
       "3   0   0                0  \n",
       "4   0   0                0  "
      ]
     },
     "execution_count": 989,
     "metadata": {},
     "output_type": "execute_result"
    }
   ],
   "source": [
    "# Increasing the cut-off score to 60 to achieve the precision on 0.80\n",
    "y_train_pred_final['final_predicted'] = y_train_pred_final['Lead Score'].map( lambda x: 1 if x > 60 else 0)\n",
    "\n",
    "y_train_pred_final.head()"
   ]
  },
  {
   "cell_type": "code",
   "execution_count": 990,
   "metadata": {},
   "outputs": [
    {
     "name": "stdout",
     "output_type": "stream",
     "text": [
      "[[3426  303]\n",
      " [ 822 1427]]\n"
     ]
    }
   ],
   "source": [
    "# Confusion matrix \n",
    "confusion = metrics.confusion_matrix(y_train_pred_final.Converted, y_train_pred_final.final_predicted)\n",
    "print(confusion)"
   ]
  },
  {
   "cell_type": "code",
   "execution_count": 991,
   "metadata": {},
   "outputs": [
    {
     "name": "stdout",
     "output_type": "stream",
     "text": [
      "0.8118099698895952\n"
     ]
    }
   ],
   "source": [
    "# Let's check the overall accuracy.\n",
    "print(metrics.accuracy_score(y_train_pred_final.Converted, y_train_pred_final.final_predicted))"
   ]
  },
  {
   "cell_type": "code",
   "execution_count": 992,
   "metadata": {},
   "outputs": [],
   "source": [
    "TP = confusion[1,1] # true positive \n",
    "TN = confusion[0,0] # true negatives\n",
    "FP = confusion[0,1] # false positives\n",
    "FN = confusion[1,0] # false negatives"
   ]
  },
  {
   "cell_type": "code",
   "execution_count": 993,
   "metadata": {},
   "outputs": [
    {
     "data": {
      "text/plain": [
       "0.6345042240995998"
      ]
     },
     "execution_count": 993,
     "metadata": {},
     "output_type": "execute_result"
    }
   ],
   "source": [
    "# Let's see the sensitivity of our logistic regression model\n",
    "TP / float(TP+FN)"
   ]
  },
  {
   "cell_type": "code",
   "execution_count": 994,
   "metadata": {},
   "outputs": [
    {
     "data": {
      "text/plain": [
       "0.918744971842317"
      ]
     },
     "execution_count": 994,
     "metadata": {},
     "output_type": "execute_result"
    }
   ],
   "source": [
    "# Let us calculate specificity\n",
    "TN / float(TN+FP)"
   ]
  },
  {
   "cell_type": "code",
   "execution_count": 995,
   "metadata": {},
   "outputs": [
    {
     "name": "stdout",
     "output_type": "stream",
     "text": [
      "0.08125502815768303\n"
     ]
    }
   ],
   "source": [
    "# Calculate false postive rate - predicting conversion when lead has not converted\n",
    "print(FP/ float(TN+FP))"
   ]
  },
  {
   "cell_type": "code",
   "execution_count": 996,
   "metadata": {},
   "outputs": [
    {
     "name": "stdout",
     "output_type": "stream",
     "text": [
      "0.8248554913294798\n"
     ]
    }
   ],
   "source": [
    "# Precison - positive predictive value \n",
    "print (TP / float(TP+FP))"
   ]
  },
  {
   "cell_type": "markdown",
   "metadata": {},
   "source": [
    "Thus the precision of 0.80 is achived at a cut off of lead score of 60"
   ]
  },
  {
   "cell_type": "code",
   "execution_count": 997,
   "metadata": {},
   "outputs": [
    {
     "name": "stdout",
     "output_type": "stream",
     "text": [
      "0.806497175141243\n"
     ]
    }
   ],
   "source": [
    "# Negative predictive value\n",
    "print (TN / float(TN+ FN))"
   ]
  },
  {
   "cell_type": "markdown",
   "metadata": {},
   "source": [
    "## Comparing with Test Data"
   ]
  },
  {
   "cell_type": "code",
   "execution_count": 998,
   "metadata": {},
   "outputs": [],
   "source": [
    "X_test[:] = scaler.transform(X_test)"
   ]
  },
  {
   "cell_type": "code",
   "execution_count": 999,
   "metadata": {},
   "outputs": [],
   "source": [
    "X_test_sm = sm.add_constant(X_test[col])"
   ]
  },
  {
   "cell_type": "code",
   "execution_count": 1000,
   "metadata": {},
   "outputs": [
    {
     "data": {
      "text/plain": [
       "3832    0.055261\n",
       "915     0.044878\n",
       "3345    0.137450\n",
       "8340    0.249648\n",
       "8072    0.942456\n",
       "8505    0.994383\n",
       "1269    0.624347\n",
       "3385    0.048479\n",
       "7919    0.633674\n",
       "5686    0.906866\n",
       "dtype: float64"
      ]
     },
     "execution_count": 1000,
     "metadata": {},
     "output_type": "execute_result"
    }
   ],
   "source": [
    "y_test_pred = res.predict(X_test_sm)\n",
    "y_test_pred[:10]"
   ]
  },
  {
   "cell_type": "markdown",
   "metadata": {},
   "source": [
    "Converting the probabilities into lead score in 0 to 100 range"
   ]
  },
  {
   "cell_type": "code",
   "execution_count": 1001,
   "metadata": {},
   "outputs": [],
   "source": [
    "y_test_pred = round(y_test_pred * 100,0)"
   ]
  },
  {
   "cell_type": "code",
   "execution_count": 1002,
   "metadata": {},
   "outputs": [
    {
     "data": {
      "text/plain": [
       "array([ 6.,  4., 14., 25., 94., 99., 62.,  5., 63., 91.])"
      ]
     },
     "execution_count": 1002,
     "metadata": {},
     "output_type": "execute_result"
    }
   ],
   "source": [
    "y_test_pred = y_test_pred.values.reshape(-1)\n",
    "y_test_pred[:10]"
   ]
  },
  {
   "cell_type": "code",
   "execution_count": 1003,
   "metadata": {},
   "outputs": [
    {
     "data": {
      "text/html": [
       "<div>\n",
       "<style scoped>\n",
       "    .dataframe tbody tr th:only-of-type {\n",
       "        vertical-align: middle;\n",
       "    }\n",
       "\n",
       "    .dataframe tbody tr th {\n",
       "        vertical-align: top;\n",
       "    }\n",
       "\n",
       "    .dataframe thead th {\n",
       "        text-align: right;\n",
       "    }\n",
       "</style>\n",
       "<table border=\"1\" class=\"dataframe\">\n",
       "  <thead>\n",
       "    <tr style=\"text-align: right;\">\n",
       "      <th></th>\n",
       "      <th>Converted</th>\n",
       "      <th>Lead Score</th>\n",
       "      <th>LeadID</th>\n",
       "    </tr>\n",
       "  </thead>\n",
       "  <tbody>\n",
       "    <tr>\n",
       "      <th>0</th>\n",
       "      <td>0</td>\n",
       "      <td>6.0</td>\n",
       "      <td>3832</td>\n",
       "    </tr>\n",
       "    <tr>\n",
       "      <th>1</th>\n",
       "      <td>0</td>\n",
       "      <td>4.0</td>\n",
       "      <td>915</td>\n",
       "    </tr>\n",
       "    <tr>\n",
       "      <th>2</th>\n",
       "      <td>0</td>\n",
       "      <td>14.0</td>\n",
       "      <td>3345</td>\n",
       "    </tr>\n",
       "    <tr>\n",
       "      <th>3</th>\n",
       "      <td>0</td>\n",
       "      <td>25.0</td>\n",
       "      <td>8340</td>\n",
       "    </tr>\n",
       "    <tr>\n",
       "      <th>4</th>\n",
       "      <td>1</td>\n",
       "      <td>94.0</td>\n",
       "      <td>8072</td>\n",
       "    </tr>\n",
       "  </tbody>\n",
       "</table>\n",
       "</div>"
      ],
      "text/plain": [
       "   Converted  Lead Score  LeadID\n",
       "0          0         6.0    3832\n",
       "1          0         4.0     915\n",
       "2          0        14.0    3345\n",
       "3          0        25.0    8340\n",
       "4          1        94.0    8072"
      ]
     },
     "execution_count": 1003,
     "metadata": {},
     "output_type": "execute_result"
    }
   ],
   "source": [
    "y_test_pred_final = pd.DataFrame({'Converted':y_test.values, 'Lead Score':y_test_pred})\n",
    "y_test_pred_final['LeadID'] = y_test.index\n",
    "y_test_pred_final.head()"
   ]
  },
  {
   "cell_type": "code",
   "execution_count": 1004,
   "metadata": {},
   "outputs": [
    {
     "data": {
      "text/html": [
       "<div>\n",
       "<style scoped>\n",
       "    .dataframe tbody tr th:only-of-type {\n",
       "        vertical-align: middle;\n",
       "    }\n",
       "\n",
       "    .dataframe tbody tr th {\n",
       "        vertical-align: top;\n",
       "    }\n",
       "\n",
       "    .dataframe thead th {\n",
       "        text-align: right;\n",
       "    }\n",
       "</style>\n",
       "<table border=\"1\" class=\"dataframe\">\n",
       "  <thead>\n",
       "    <tr style=\"text-align: right;\">\n",
       "      <th></th>\n",
       "      <th>Converted</th>\n",
       "      <th>Lead Score</th>\n",
       "      <th>LeadID</th>\n",
       "      <th>predicted</th>\n",
       "    </tr>\n",
       "  </thead>\n",
       "  <tbody>\n",
       "    <tr>\n",
       "      <th>0</th>\n",
       "      <td>0</td>\n",
       "      <td>6.0</td>\n",
       "      <td>3832</td>\n",
       "      <td>0</td>\n",
       "    </tr>\n",
       "    <tr>\n",
       "      <th>1</th>\n",
       "      <td>0</td>\n",
       "      <td>4.0</td>\n",
       "      <td>915</td>\n",
       "      <td>0</td>\n",
       "    </tr>\n",
       "    <tr>\n",
       "      <th>2</th>\n",
       "      <td>0</td>\n",
       "      <td>14.0</td>\n",
       "      <td>3345</td>\n",
       "      <td>0</td>\n",
       "    </tr>\n",
       "    <tr>\n",
       "      <th>3</th>\n",
       "      <td>0</td>\n",
       "      <td>25.0</td>\n",
       "      <td>8340</td>\n",
       "      <td>0</td>\n",
       "    </tr>\n",
       "    <tr>\n",
       "      <th>4</th>\n",
       "      <td>1</td>\n",
       "      <td>94.0</td>\n",
       "      <td>8072</td>\n",
       "      <td>1</td>\n",
       "    </tr>\n",
       "  </tbody>\n",
       "</table>\n",
       "</div>"
      ],
      "text/plain": [
       "   Converted  Lead Score  LeadID  predicted\n",
       "0          0         6.0    3832          0\n",
       "1          0         4.0     915          0\n",
       "2          0        14.0    3345          0\n",
       "3          0        25.0    8340          0\n",
       "4          1        94.0    8072          1"
      ]
     },
     "execution_count": 1004,
     "metadata": {},
     "output_type": "execute_result"
    }
   ],
   "source": [
    "# Using the cut off of 60 as decided to predict the Conversion\n",
    "y_test_pred_final['predicted'] = y_test_pred_final['Lead Score'].map(lambda x: 1 if x > 60 else 0)\n",
    "\n",
    "# Let's see the head\n",
    "y_test_pred_final.head()"
   ]
  },
  {
   "cell_type": "code",
   "execution_count": 1005,
   "metadata": {},
   "outputs": [
    {
     "name": "stdout",
     "output_type": "stream",
     "text": [
      "[[1446  134]\n",
      " [ 390  593]]\n"
     ]
    }
   ],
   "source": [
    "# Confusion matrix \n",
    "confusion = metrics.confusion_matrix(y_test_pred_final.Converted, y_test_pred_final.predicted )\n",
    "print(confusion)"
   ]
  },
  {
   "cell_type": "code",
   "execution_count": 1006,
   "metadata": {},
   "outputs": [
    {
     "name": "stdout",
     "output_type": "stream",
     "text": [
      "0.795552087397581\n"
     ]
    }
   ],
   "source": [
    "# Let's check the overall accuracy.\n",
    "print(metrics.accuracy_score(y_test_pred_final.Converted, y_test_pred_final.predicted))"
   ]
  },
  {
   "cell_type": "code",
   "execution_count": 1007,
   "metadata": {},
   "outputs": [],
   "source": [
    "TP = confusion[1,1] # true positive \n",
    "TN = confusion[0,0] # true negatives\n",
    "FP = confusion[0,1] # false positives\n",
    "FN = confusion[1,0] # false negatives"
   ]
  },
  {
   "cell_type": "code",
   "execution_count": 1008,
   "metadata": {},
   "outputs": [
    {
     "data": {
      "text/plain": [
       "0.6032553407934893"
      ]
     },
     "execution_count": 1008,
     "metadata": {},
     "output_type": "execute_result"
    }
   ],
   "source": [
    "# Let's see the sensitivity of our logistic regression model\n",
    "TP / float(TP+FN)"
   ]
  },
  {
   "cell_type": "code",
   "execution_count": 1009,
   "metadata": {},
   "outputs": [
    {
     "data": {
      "text/plain": [
       "0.9151898734177215"
      ]
     },
     "execution_count": 1009,
     "metadata": {},
     "output_type": "execute_result"
    }
   ],
   "source": [
    "# Let us calculate specificity\n",
    "TN / float(TN+FP)"
   ]
  },
  {
   "cell_type": "code",
   "execution_count": 1010,
   "metadata": {},
   "outputs": [
    {
     "name": "stdout",
     "output_type": "stream",
     "text": [
      "0.08481012658227848\n"
     ]
    }
   ],
   "source": [
    "# Calculate false postive rate - predicting conversion when lead has not converted\n",
    "print(FP/ float(TN+FP))"
   ]
  },
  {
   "cell_type": "code",
   "execution_count": 1011,
   "metadata": {},
   "outputs": [
    {
     "name": "stdout",
     "output_type": "stream",
     "text": [
      "0.7875816993464052\n"
     ]
    }
   ],
   "source": [
    "# Negative predictive value\n",
    "print (TN / float(TN+ FN))"
   ]
  },
  {
   "cell_type": "code",
   "execution_count": 1012,
   "metadata": {},
   "outputs": [
    {
     "name": "stdout",
     "output_type": "stream",
     "text": [
      "0.8156808803301238\n"
     ]
    }
   ],
   "source": [
    "# Precision - positive predictive value \n",
    "print (TP / float(TP+FP))"
   ]
  },
  {
   "cell_type": "markdown",
   "metadata": {},
   "source": [
    "## We have achieved the precision of 0.80 in our test data as well."
   ]
  }
 ],
 "metadata": {
  "kernelspec": {
   "display_name": "Python 3",
   "language": "python",
   "name": "python3"
  },
  "language_info": {
   "codemirror_mode": {
    "name": "ipython",
    "version": 3
   },
   "file_extension": ".py",
   "mimetype": "text/x-python",
   "name": "python",
   "nbconvert_exporter": "python",
   "pygments_lexer": "ipython3",
   "version": "3.6.4"
  }
 },
 "nbformat": 4,
 "nbformat_minor": 2
}
